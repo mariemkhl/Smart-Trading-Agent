{
  "cells": [
    {
      "cell_type": "markdown",
      "metadata": {
        "id": "DfTR5uJ1Acgh"
      },
      "source": [
        "## LSTM\n"
      ]
    },
    {
      "cell_type": "code",
      "execution_count": null,
      "metadata": {
        "id": "qbv6R-3uAcgp"
      },
      "outputs": [],
      "source": []
    },
    {
      "cell_type": "code",
      "execution_count": null,
      "metadata": {
        "id": "HC2Q06AbAcgq"
      },
      "outputs": [],
      "source": [
        "# Import libraries\n",
        "import numpy as np\n",
        "import pandas as pd\n",
        "import matplotlib.pyplot as plt\n",
        "%matplotlib inline\n",
        "\n",
        "from sklearn.preprocessing import MinMaxScaler\n",
        "import math\n",
        "\n",
        "from tensorflow.keras.models import Sequential\n",
        "from tensorflow.keras.layers import Dense, Activation\n",
        "from tensorflow.keras.layers import SimpleRNN, LSTM, GRU\n",
        "from tensorflow.keras.optimizers import Adam\n",
        "from tensorflow.keras.callbacks import EarlyStopping\n",
        "\n",
        "import warnings\n",
        "warnings.filterwarnings('ignore')"
      ]
    },
    {
      "cell_type": "code",
      "execution_count": null,
      "metadata": {
        "colab": {
          "base_uri": "https://localhost:8080/",
          "height": 330
        },
        "id": "PqrHxbPZAcgu",
        "outputId": "cd8feca1-1c63-437f-efa8-a1c8dc0930c3"
      },
      "outputs": [
        {
          "output_type": "stream",
          "name": "stdout",
          "text": [
            "Shape of Data:  (1033, 13)\n"
          ]
        },
        {
          "output_type": "execute_result",
          "data": {
            "text/plain": [
              "         Date      High     Close       Low      Open  Ind_Name   std_close  \\\n",
              "0  2020-01-02  7097.940  7042.642  7036.285  7095.456  TUNINDEX  758.379164   \n",
              "1  2020-01-03  7030.798  6994.840  6975.302  7035.436  TUNINDEX  758.379164   \n",
              "2  2020-01-06  7031.427  6967.192  6946.489  6991.819  TUNINDEX  758.379164   \n",
              "3  2020-01-07  6976.397  6921.921  6906.640  6965.572  TUNINDEX  758.379164   \n",
              "4  2020-01-08  6927.413  6892.276  6868.117  6926.235  TUNINDEX  758.379164   \n",
              "\n",
              "        ROI  7_Days_Average_ROI  ROI_Monthly_Avg  Kurtosis  Skewness  \\\n",
              "0 -0.744336           -0.444975        -0.065224  1.376302 -1.873376   \n",
              "1 -0.577022           -0.444975        -0.065224  1.376302 -1.873376   \n",
              "2 -0.352226           -0.444975        -0.065224  1.376302 -1.873376   \n",
              "3 -0.626668           -0.444975        -0.065224  1.376302 -1.873376   \n",
              "4 -0.490295           -0.444975        -0.065224  1.376302 -1.873376   \n",
              "\n",
              "   yearly_std  \n",
              "0  247.720706  \n",
              "1  247.720706  \n",
              "2  247.720706  \n",
              "3  247.720706  \n",
              "4  247.720706  "
            ],
            "text/html": [
              "\n",
              "  <div id=\"df-5e8f30b3-583c-4584-b2c5-ba3d75e78e7e\" class=\"colab-df-container\">\n",
              "    <div>\n",
              "<style scoped>\n",
              "    .dataframe tbody tr th:only-of-type {\n",
              "        vertical-align: middle;\n",
              "    }\n",
              "\n",
              "    .dataframe tbody tr th {\n",
              "        vertical-align: top;\n",
              "    }\n",
              "\n",
              "    .dataframe thead th {\n",
              "        text-align: right;\n",
              "    }\n",
              "</style>\n",
              "<table border=\"1\" class=\"dataframe\">\n",
              "  <thead>\n",
              "    <tr style=\"text-align: right;\">\n",
              "      <th></th>\n",
              "      <th>Date</th>\n",
              "      <th>High</th>\n",
              "      <th>Close</th>\n",
              "      <th>Low</th>\n",
              "      <th>Open</th>\n",
              "      <th>Ind_Name</th>\n",
              "      <th>std_close</th>\n",
              "      <th>ROI</th>\n",
              "      <th>7_Days_Average_ROI</th>\n",
              "      <th>ROI_Monthly_Avg</th>\n",
              "      <th>Kurtosis</th>\n",
              "      <th>Skewness</th>\n",
              "      <th>yearly_std</th>\n",
              "    </tr>\n",
              "  </thead>\n",
              "  <tbody>\n",
              "    <tr>\n",
              "      <th>0</th>\n",
              "      <td>2020-01-02</td>\n",
              "      <td>7097.940</td>\n",
              "      <td>7042.642</td>\n",
              "      <td>7036.285</td>\n",
              "      <td>7095.456</td>\n",
              "      <td>TUNINDEX</td>\n",
              "      <td>758.379164</td>\n",
              "      <td>-0.744336</td>\n",
              "      <td>-0.444975</td>\n",
              "      <td>-0.065224</td>\n",
              "      <td>1.376302</td>\n",
              "      <td>-1.873376</td>\n",
              "      <td>247.720706</td>\n",
              "    </tr>\n",
              "    <tr>\n",
              "      <th>1</th>\n",
              "      <td>2020-01-03</td>\n",
              "      <td>7030.798</td>\n",
              "      <td>6994.840</td>\n",
              "      <td>6975.302</td>\n",
              "      <td>7035.436</td>\n",
              "      <td>TUNINDEX</td>\n",
              "      <td>758.379164</td>\n",
              "      <td>-0.577022</td>\n",
              "      <td>-0.444975</td>\n",
              "      <td>-0.065224</td>\n",
              "      <td>1.376302</td>\n",
              "      <td>-1.873376</td>\n",
              "      <td>247.720706</td>\n",
              "    </tr>\n",
              "    <tr>\n",
              "      <th>2</th>\n",
              "      <td>2020-01-06</td>\n",
              "      <td>7031.427</td>\n",
              "      <td>6967.192</td>\n",
              "      <td>6946.489</td>\n",
              "      <td>6991.819</td>\n",
              "      <td>TUNINDEX</td>\n",
              "      <td>758.379164</td>\n",
              "      <td>-0.352226</td>\n",
              "      <td>-0.444975</td>\n",
              "      <td>-0.065224</td>\n",
              "      <td>1.376302</td>\n",
              "      <td>-1.873376</td>\n",
              "      <td>247.720706</td>\n",
              "    </tr>\n",
              "    <tr>\n",
              "      <th>3</th>\n",
              "      <td>2020-01-07</td>\n",
              "      <td>6976.397</td>\n",
              "      <td>6921.921</td>\n",
              "      <td>6906.640</td>\n",
              "      <td>6965.572</td>\n",
              "      <td>TUNINDEX</td>\n",
              "      <td>758.379164</td>\n",
              "      <td>-0.626668</td>\n",
              "      <td>-0.444975</td>\n",
              "      <td>-0.065224</td>\n",
              "      <td>1.376302</td>\n",
              "      <td>-1.873376</td>\n",
              "      <td>247.720706</td>\n",
              "    </tr>\n",
              "    <tr>\n",
              "      <th>4</th>\n",
              "      <td>2020-01-08</td>\n",
              "      <td>6927.413</td>\n",
              "      <td>6892.276</td>\n",
              "      <td>6868.117</td>\n",
              "      <td>6926.235</td>\n",
              "      <td>TUNINDEX</td>\n",
              "      <td>758.379164</td>\n",
              "      <td>-0.490295</td>\n",
              "      <td>-0.444975</td>\n",
              "      <td>-0.065224</td>\n",
              "      <td>1.376302</td>\n",
              "      <td>-1.873376</td>\n",
              "      <td>247.720706</td>\n",
              "    </tr>\n",
              "  </tbody>\n",
              "</table>\n",
              "</div>\n",
              "    <div class=\"colab-df-buttons\">\n",
              "\n",
              "  <div class=\"colab-df-container\">\n",
              "    <button class=\"colab-df-convert\" onclick=\"convertToInteractive('df-5e8f30b3-583c-4584-b2c5-ba3d75e78e7e')\"\n",
              "            title=\"Convert this dataframe to an interactive table.\"\n",
              "            style=\"display:none;\">\n",
              "\n",
              "  <svg xmlns=\"http://www.w3.org/2000/svg\" height=\"24px\" viewBox=\"0 -960 960 960\">\n",
              "    <path d=\"M120-120v-720h720v720H120Zm60-500h600v-160H180v160Zm220 220h160v-160H400v160Zm0 220h160v-160H400v160ZM180-400h160v-160H180v160Zm440 0h160v-160H620v160ZM180-180h160v-160H180v160Zm440 0h160v-160H620v160Z\"/>\n",
              "  </svg>\n",
              "    </button>\n",
              "\n",
              "  <style>\n",
              "    .colab-df-container {\n",
              "      display:flex;\n",
              "      gap: 12px;\n",
              "    }\n",
              "\n",
              "    .colab-df-convert {\n",
              "      background-color: #E8F0FE;\n",
              "      border: none;\n",
              "      border-radius: 50%;\n",
              "      cursor: pointer;\n",
              "      display: none;\n",
              "      fill: #1967D2;\n",
              "      height: 32px;\n",
              "      padding: 0 0 0 0;\n",
              "      width: 32px;\n",
              "    }\n",
              "\n",
              "    .colab-df-convert:hover {\n",
              "      background-color: #E2EBFA;\n",
              "      box-shadow: 0px 1px 2px rgba(60, 64, 67, 0.3), 0px 1px 3px 1px rgba(60, 64, 67, 0.15);\n",
              "      fill: #174EA6;\n",
              "    }\n",
              "\n",
              "    .colab-df-buttons div {\n",
              "      margin-bottom: 4px;\n",
              "    }\n",
              "\n",
              "    [theme=dark] .colab-df-convert {\n",
              "      background-color: #3B4455;\n",
              "      fill: #D2E3FC;\n",
              "    }\n",
              "\n",
              "    [theme=dark] .colab-df-convert:hover {\n",
              "      background-color: #434B5C;\n",
              "      box-shadow: 0px 1px 3px 1px rgba(0, 0, 0, 0.15);\n",
              "      filter: drop-shadow(0px 1px 2px rgba(0, 0, 0, 0.3));\n",
              "      fill: #FFFFFF;\n",
              "    }\n",
              "  </style>\n",
              "\n",
              "    <script>\n",
              "      const buttonEl =\n",
              "        document.querySelector('#df-5e8f30b3-583c-4584-b2c5-ba3d75e78e7e button.colab-df-convert');\n",
              "      buttonEl.style.display =\n",
              "        google.colab.kernel.accessAllowed ? 'block' : 'none';\n",
              "\n",
              "      async function convertToInteractive(key) {\n",
              "        const element = document.querySelector('#df-5e8f30b3-583c-4584-b2c5-ba3d75e78e7e');\n",
              "        const dataTable =\n",
              "          await google.colab.kernel.invokeFunction('convertToInteractive',\n",
              "                                                    [key], {});\n",
              "        if (!dataTable) return;\n",
              "\n",
              "        const docLinkHtml = 'Like what you see? Visit the ' +\n",
              "          '<a target=\"_blank\" href=https://colab.research.google.com/notebooks/data_table.ipynb>data table notebook</a>'\n",
              "          + ' to learn more about interactive tables.';\n",
              "        element.innerHTML = '';\n",
              "        dataTable['output_type'] = 'display_data';\n",
              "        await google.colab.output.renderOutput(dataTable, element);\n",
              "        const docLink = document.createElement('div');\n",
              "        docLink.innerHTML = docLinkHtml;\n",
              "        element.appendChild(docLink);\n",
              "      }\n",
              "    </script>\n",
              "  </div>\n",
              "\n",
              "\n",
              "<div id=\"df-30e145b1-0b6d-4a4b-81bd-984c25bea003\">\n",
              "  <button class=\"colab-df-quickchart\" onclick=\"quickchart('df-30e145b1-0b6d-4a4b-81bd-984c25bea003')\"\n",
              "            title=\"Suggest charts\"\n",
              "            style=\"display:none;\">\n",
              "\n",
              "<svg xmlns=\"http://www.w3.org/2000/svg\" height=\"24px\"viewBox=\"0 0 24 24\"\n",
              "     width=\"24px\">\n",
              "    <g>\n",
              "        <path d=\"M19 3H5c-1.1 0-2 .9-2 2v14c0 1.1.9 2 2 2h14c1.1 0 2-.9 2-2V5c0-1.1-.9-2-2-2zM9 17H7v-7h2v7zm4 0h-2V7h2v10zm4 0h-2v-4h2v4z\"/>\n",
              "    </g>\n",
              "</svg>\n",
              "  </button>\n",
              "\n",
              "<style>\n",
              "  .colab-df-quickchart {\n",
              "      --bg-color: #E8F0FE;\n",
              "      --fill-color: #1967D2;\n",
              "      --hover-bg-color: #E2EBFA;\n",
              "      --hover-fill-color: #174EA6;\n",
              "      --disabled-fill-color: #AAA;\n",
              "      --disabled-bg-color: #DDD;\n",
              "  }\n",
              "\n",
              "  [theme=dark] .colab-df-quickchart {\n",
              "      --bg-color: #3B4455;\n",
              "      --fill-color: #D2E3FC;\n",
              "      --hover-bg-color: #434B5C;\n",
              "      --hover-fill-color: #FFFFFF;\n",
              "      --disabled-bg-color: #3B4455;\n",
              "      --disabled-fill-color: #666;\n",
              "  }\n",
              "\n",
              "  .colab-df-quickchart {\n",
              "    background-color: var(--bg-color);\n",
              "    border: none;\n",
              "    border-radius: 50%;\n",
              "    cursor: pointer;\n",
              "    display: none;\n",
              "    fill: var(--fill-color);\n",
              "    height: 32px;\n",
              "    padding: 0;\n",
              "    width: 32px;\n",
              "  }\n",
              "\n",
              "  .colab-df-quickchart:hover {\n",
              "    background-color: var(--hover-bg-color);\n",
              "    box-shadow: 0 1px 2px rgba(60, 64, 67, 0.3), 0 1px 3px 1px rgba(60, 64, 67, 0.15);\n",
              "    fill: var(--button-hover-fill-color);\n",
              "  }\n",
              "\n",
              "  .colab-df-quickchart-complete:disabled,\n",
              "  .colab-df-quickchart-complete:disabled:hover {\n",
              "    background-color: var(--disabled-bg-color);\n",
              "    fill: var(--disabled-fill-color);\n",
              "    box-shadow: none;\n",
              "  }\n",
              "\n",
              "  .colab-df-spinner {\n",
              "    border: 2px solid var(--fill-color);\n",
              "    border-color: transparent;\n",
              "    border-bottom-color: var(--fill-color);\n",
              "    animation:\n",
              "      spin 1s steps(1) infinite;\n",
              "  }\n",
              "\n",
              "  @keyframes spin {\n",
              "    0% {\n",
              "      border-color: transparent;\n",
              "      border-bottom-color: var(--fill-color);\n",
              "      border-left-color: var(--fill-color);\n",
              "    }\n",
              "    20% {\n",
              "      border-color: transparent;\n",
              "      border-left-color: var(--fill-color);\n",
              "      border-top-color: var(--fill-color);\n",
              "    }\n",
              "    30% {\n",
              "      border-color: transparent;\n",
              "      border-left-color: var(--fill-color);\n",
              "      border-top-color: var(--fill-color);\n",
              "      border-right-color: var(--fill-color);\n",
              "    }\n",
              "    40% {\n",
              "      border-color: transparent;\n",
              "      border-right-color: var(--fill-color);\n",
              "      border-top-color: var(--fill-color);\n",
              "    }\n",
              "    60% {\n",
              "      border-color: transparent;\n",
              "      border-right-color: var(--fill-color);\n",
              "    }\n",
              "    80% {\n",
              "      border-color: transparent;\n",
              "      border-right-color: var(--fill-color);\n",
              "      border-bottom-color: var(--fill-color);\n",
              "    }\n",
              "    90% {\n",
              "      border-color: transparent;\n",
              "      border-bottom-color: var(--fill-color);\n",
              "    }\n",
              "  }\n",
              "</style>\n",
              "\n",
              "  <script>\n",
              "    async function quickchart(key) {\n",
              "      const quickchartButtonEl =\n",
              "        document.querySelector('#' + key + ' button');\n",
              "      quickchartButtonEl.disabled = true;  // To prevent multiple clicks.\n",
              "      quickchartButtonEl.classList.add('colab-df-spinner');\n",
              "      try {\n",
              "        const charts = await google.colab.kernel.invokeFunction(\n",
              "            'suggestCharts', [key], {});\n",
              "      } catch (error) {\n",
              "        console.error('Error during call to suggestCharts:', error);\n",
              "      }\n",
              "      quickchartButtonEl.classList.remove('colab-df-spinner');\n",
              "      quickchartButtonEl.classList.add('colab-df-quickchart-complete');\n",
              "    }\n",
              "    (() => {\n",
              "      let quickchartButtonEl =\n",
              "        document.querySelector('#df-30e145b1-0b6d-4a4b-81bd-984c25bea003 button');\n",
              "      quickchartButtonEl.style.display =\n",
              "        google.colab.kernel.accessAllowed ? 'block' : 'none';\n",
              "    })();\n",
              "  </script>\n",
              "</div>\n",
              "    </div>\n",
              "  </div>\n"
            ],
            "application/vnd.google.colaboratory.intrinsic+json": {
              "type": "dataframe",
              "variable_name": "data",
              "summary": "{\n  \"name\": \"data\",\n  \"rows\": 1033,\n  \"fields\": [\n    {\n      \"column\": \"Date\",\n      \"properties\": {\n        \"dtype\": \"object\",\n        \"num_unique_values\": 1033,\n        \"samples\": [\n          \"2021-03-08\",\n          \"2021-10-29\",\n          \"2022-07-18\"\n        ],\n        \"semantic_type\": \"\",\n        \"description\": \"\"\n      }\n    },\n    {\n      \"column\": \"High\",\n      \"properties\": {\n        \"dtype\": \"number\",\n        \"std\": 756.158006490401,\n        \"min\": 6158.584,\n        \"max\": 9064.289,\n        \"num_unique_values\": 1033,\n        \"samples\": [\n          6775.915,\n          7071.577,\n          7588.086\n        ],\n        \"semantic_type\": \"\",\n        \"description\": \"\"\n      }\n    },\n    {\n      \"column\": \"Close\",\n      \"properties\": {\n        \"dtype\": \"number\",\n        \"std\": 758.3791641869718,\n        \"min\": 6119.135,\n        \"max\": 9048.479,\n        \"num_unique_values\": 1033,\n        \"samples\": [\n          6775.604,\n          7038.333,\n          7583.409\n        ],\n        \"semantic_type\": \"\",\n        \"description\": \"\"\n      }\n    },\n    {\n      \"column\": \"Low\",\n      \"properties\": {\n        \"dtype\": \"number\",\n        \"std\": 757.4540169039179,\n        \"min\": 6001.981,\n        \"max\": 9027.707,\n        \"num_unique_values\": 1033,\n        \"samples\": [\n          6753.493,\n          7026.084,\n          7570.283\n        ],\n        \"semantic_type\": \"\",\n        \"description\": \"\"\n      }\n    },\n    {\n      \"column\": \"Open\",\n      \"properties\": {\n        \"dtype\": \"number\",\n        \"std\": 755.2666990386064,\n        \"min\": 6031.734,\n        \"max\": 9048.656,\n        \"num_unique_values\": 1033,\n        \"samples\": [\n          6769.596,\n          7049.191,\n          7581.456\n        ],\n        \"semantic_type\": \"\",\n        \"description\": \"\"\n      }\n    },\n    {\n      \"column\": \"Ind_Name\",\n      \"properties\": {\n        \"dtype\": \"category\",\n        \"num_unique_values\": 1,\n        \"samples\": [\n          \"TUNINDEX\"\n        ],\n        \"semantic_type\": \"\",\n        \"description\": \"\"\n      }\n    },\n    {\n      \"column\": \"std_close\",\n      \"properties\": {\n        \"dtype\": \"number\",\n        \"std\": 1.1374190521708145e-13,\n        \"min\": 758.3791641869718,\n        \"max\": 758.3791641869718,\n        \"num_unique_values\": 1,\n        \"samples\": [\n          758.3791641869718\n        ],\n        \"semantic_type\": \"\",\n        \"description\": \"\"\n      }\n    },\n    {\n      \"column\": \"ROI\",\n      \"properties\": {\n        \"dtype\": \"number\",\n        \"std\": 0.4309499881365851,\n        \"min\": -4.024884700123586,\n        \"max\": 2.102065508856976,\n        \"num_unique_values\": 1033,\n        \"samples\": [\n          0.0887497570017578\n        ],\n        \"semantic_type\": \"\",\n        \"description\": \"\"\n      }\n    },\n    {\n      \"column\": \"7_Days_Average_ROI\",\n      \"properties\": {\n        \"dtype\": \"number\",\n        \"std\": 0.2238866201282808,\n        \"min\": -1.351344771274437,\n        \"max\": 0.4427067644645924,\n        \"num_unique_values\": 148,\n        \"samples\": [\n          0.0845856025331206\n        ],\n        \"semantic_type\": \"\",\n        \"description\": \"\"\n      }\n    },\n    {\n      \"column\": \"ROI_Monthly_Avg\",\n      \"properties\": {\n        \"dtype\": \"number\",\n        \"std\": 0.06540397432844182,\n        \"min\": -0.1438551934690355,\n        \"max\": 0.1044582084577181,\n        \"num_unique_values\": 12,\n        \"samples\": [\n          -0.0005381281306635\n        ],\n        \"semantic_type\": \"\",\n        \"description\": \"\"\n      }\n    },\n    {\n      \"column\": \"Kurtosis\",\n      \"properties\": {\n        \"dtype\": \"number\",\n        \"std\": 0.4815648193906489,\n        \"min\": 0.1401394230893155,\n        \"max\": 1.376301912129391,\n        \"num_unique_values\": 5,\n        \"samples\": [\n          0.2718615865447512\n        ],\n        \"semantic_type\": \"\",\n        \"description\": \"\"\n      }\n    },\n    {\n      \"column\": \"Skewness\",\n      \"properties\": {\n        \"dtype\": \"number\",\n        \"std\": 0.8969604523632055,\n        \"min\": -1.8733760498374208,\n        \"max\": 0.2839376254425265,\n        \"num_unique_values\": 5,\n        \"samples\": [\n          0.2839376254425265\n        ],\n        \"semantic_type\": \"\",\n        \"description\": \"\"\n      }\n    },\n    {\n      \"column\": \"yearly_std\",\n      \"properties\": {\n        \"dtype\": \"number\",\n        \"std\": 89.47356662681926,\n        \"min\": 77.92236277752306,\n        \"max\": 444.4649227514943,\n        \"num_unique_values\": 5,\n        \"samples\": [\n          240.29126833829105\n        ],\n        \"semantic_type\": \"\",\n        \"description\": \"\"\n      }\n    }\n  ]\n}"
            }
          },
          "metadata": {},
          "execution_count": 51
        }
      ],
      "source": [
        "# Import and show dataset\n",
        "data = pd.read_csv(\"TUNINDEX_1.csv\")\n",
        "print(\"Shape of Data: \", data.shape)\n",
        "data.head()"
      ]
    },
    {
      "cell_type": "code",
      "execution_count": null,
      "metadata": {
        "colab": {
          "base_uri": "https://localhost:8080/",
          "height": 320
        },
        "id": "JK_eiOdoAcgx",
        "outputId": "9187b262-2438-46b2-9752-38c046090bd3"
      },
      "outputs": [
        {
          "output_type": "execute_result",
          "data": {
            "text/plain": [
              "              High        Close          Low         Open     std_close  \\\n",
              "count  1033.000000  1033.000000  1033.000000  1033.000000  1.033000e+03   \n",
              "mean   7525.544652  7504.137266  7476.347848  7505.690026  7.583792e+02   \n",
              "std     756.158006   758.379164   757.454017   755.266699  1.137419e-13   \n",
              "min    6158.584000  6119.135000  6001.981000  6031.734000  7.583792e+02   \n",
              "25%    6916.980000  6894.639000  6868.117000  6898.964000  7.583792e+02   \n",
              "50%    7296.658000  7280.226000  7255.941000  7279.550000  7.583792e+02   \n",
              "75%    8177.601000  8161.783000  8123.359000  8161.167000  7.583792e+02   \n",
              "max    9064.289000  9048.479000  9027.707000  9048.656000  7.583792e+02   \n",
              "\n",
              "               ROI  7_Days_Average_ROI  ROI_Monthly_Avg     Kurtosis  \\\n",
              "count  1033.000000         1033.000000      1033.000000  1033.000000   \n",
              "mean     -0.024375           -0.024375        -0.024375     0.526010   \n",
              "std       0.430950            0.223887         0.065404     0.481565   \n",
              "min      -4.024885           -1.351345        -0.143855     0.140139   \n",
              "25%      -0.221304           -0.109216        -0.065224     0.223210   \n",
              "50%      -0.000852           -0.002524        -0.054263     0.271862   \n",
              "75%       0.203991            0.110140         0.010041     0.281762   \n",
              "max       2.102066            0.442707         0.104458     1.376302   \n",
              "\n",
              "          Skewness   yearly_std  \n",
              "count  1033.000000  1033.000000  \n",
              "mean     -0.303047   306.138119  \n",
              "std       0.896960    89.473567  \n",
              "min      -1.873376    77.922363  \n",
              "25%      -0.544470   240.291268  \n",
              "50%       0.173647   247.720706  \n",
              "75%       0.217881   312.298313  \n",
              "max       0.283938   444.464923  "
            ],
            "text/html": [
              "\n",
              "  <div id=\"df-ad434897-2a2f-4721-adeb-8b183b9046df\" class=\"colab-df-container\">\n",
              "    <div>\n",
              "<style scoped>\n",
              "    .dataframe tbody tr th:only-of-type {\n",
              "        vertical-align: middle;\n",
              "    }\n",
              "\n",
              "    .dataframe tbody tr th {\n",
              "        vertical-align: top;\n",
              "    }\n",
              "\n",
              "    .dataframe thead th {\n",
              "        text-align: right;\n",
              "    }\n",
              "</style>\n",
              "<table border=\"1\" class=\"dataframe\">\n",
              "  <thead>\n",
              "    <tr style=\"text-align: right;\">\n",
              "      <th></th>\n",
              "      <th>High</th>\n",
              "      <th>Close</th>\n",
              "      <th>Low</th>\n",
              "      <th>Open</th>\n",
              "      <th>std_close</th>\n",
              "      <th>ROI</th>\n",
              "      <th>7_Days_Average_ROI</th>\n",
              "      <th>ROI_Monthly_Avg</th>\n",
              "      <th>Kurtosis</th>\n",
              "      <th>Skewness</th>\n",
              "      <th>yearly_std</th>\n",
              "    </tr>\n",
              "  </thead>\n",
              "  <tbody>\n",
              "    <tr>\n",
              "      <th>count</th>\n",
              "      <td>1033.000000</td>\n",
              "      <td>1033.000000</td>\n",
              "      <td>1033.000000</td>\n",
              "      <td>1033.000000</td>\n",
              "      <td>1.033000e+03</td>\n",
              "      <td>1033.000000</td>\n",
              "      <td>1033.000000</td>\n",
              "      <td>1033.000000</td>\n",
              "      <td>1033.000000</td>\n",
              "      <td>1033.000000</td>\n",
              "      <td>1033.000000</td>\n",
              "    </tr>\n",
              "    <tr>\n",
              "      <th>mean</th>\n",
              "      <td>7525.544652</td>\n",
              "      <td>7504.137266</td>\n",
              "      <td>7476.347848</td>\n",
              "      <td>7505.690026</td>\n",
              "      <td>7.583792e+02</td>\n",
              "      <td>-0.024375</td>\n",
              "      <td>-0.024375</td>\n",
              "      <td>-0.024375</td>\n",
              "      <td>0.526010</td>\n",
              "      <td>-0.303047</td>\n",
              "      <td>306.138119</td>\n",
              "    </tr>\n",
              "    <tr>\n",
              "      <th>std</th>\n",
              "      <td>756.158006</td>\n",
              "      <td>758.379164</td>\n",
              "      <td>757.454017</td>\n",
              "      <td>755.266699</td>\n",
              "      <td>1.137419e-13</td>\n",
              "      <td>0.430950</td>\n",
              "      <td>0.223887</td>\n",
              "      <td>0.065404</td>\n",
              "      <td>0.481565</td>\n",
              "      <td>0.896960</td>\n",
              "      <td>89.473567</td>\n",
              "    </tr>\n",
              "    <tr>\n",
              "      <th>min</th>\n",
              "      <td>6158.584000</td>\n",
              "      <td>6119.135000</td>\n",
              "      <td>6001.981000</td>\n",
              "      <td>6031.734000</td>\n",
              "      <td>7.583792e+02</td>\n",
              "      <td>-4.024885</td>\n",
              "      <td>-1.351345</td>\n",
              "      <td>-0.143855</td>\n",
              "      <td>0.140139</td>\n",
              "      <td>-1.873376</td>\n",
              "      <td>77.922363</td>\n",
              "    </tr>\n",
              "    <tr>\n",
              "      <th>25%</th>\n",
              "      <td>6916.980000</td>\n",
              "      <td>6894.639000</td>\n",
              "      <td>6868.117000</td>\n",
              "      <td>6898.964000</td>\n",
              "      <td>7.583792e+02</td>\n",
              "      <td>-0.221304</td>\n",
              "      <td>-0.109216</td>\n",
              "      <td>-0.065224</td>\n",
              "      <td>0.223210</td>\n",
              "      <td>-0.544470</td>\n",
              "      <td>240.291268</td>\n",
              "    </tr>\n",
              "    <tr>\n",
              "      <th>50%</th>\n",
              "      <td>7296.658000</td>\n",
              "      <td>7280.226000</td>\n",
              "      <td>7255.941000</td>\n",
              "      <td>7279.550000</td>\n",
              "      <td>7.583792e+02</td>\n",
              "      <td>-0.000852</td>\n",
              "      <td>-0.002524</td>\n",
              "      <td>-0.054263</td>\n",
              "      <td>0.271862</td>\n",
              "      <td>0.173647</td>\n",
              "      <td>247.720706</td>\n",
              "    </tr>\n",
              "    <tr>\n",
              "      <th>75%</th>\n",
              "      <td>8177.601000</td>\n",
              "      <td>8161.783000</td>\n",
              "      <td>8123.359000</td>\n",
              "      <td>8161.167000</td>\n",
              "      <td>7.583792e+02</td>\n",
              "      <td>0.203991</td>\n",
              "      <td>0.110140</td>\n",
              "      <td>0.010041</td>\n",
              "      <td>0.281762</td>\n",
              "      <td>0.217881</td>\n",
              "      <td>312.298313</td>\n",
              "    </tr>\n",
              "    <tr>\n",
              "      <th>max</th>\n",
              "      <td>9064.289000</td>\n",
              "      <td>9048.479000</td>\n",
              "      <td>9027.707000</td>\n",
              "      <td>9048.656000</td>\n",
              "      <td>7.583792e+02</td>\n",
              "      <td>2.102066</td>\n",
              "      <td>0.442707</td>\n",
              "      <td>0.104458</td>\n",
              "      <td>1.376302</td>\n",
              "      <td>0.283938</td>\n",
              "      <td>444.464923</td>\n",
              "    </tr>\n",
              "  </tbody>\n",
              "</table>\n",
              "</div>\n",
              "    <div class=\"colab-df-buttons\">\n",
              "\n",
              "  <div class=\"colab-df-container\">\n",
              "    <button class=\"colab-df-convert\" onclick=\"convertToInteractive('df-ad434897-2a2f-4721-adeb-8b183b9046df')\"\n",
              "            title=\"Convert this dataframe to an interactive table.\"\n",
              "            style=\"display:none;\">\n",
              "\n",
              "  <svg xmlns=\"http://www.w3.org/2000/svg\" height=\"24px\" viewBox=\"0 -960 960 960\">\n",
              "    <path d=\"M120-120v-720h720v720H120Zm60-500h600v-160H180v160Zm220 220h160v-160H400v160Zm0 220h160v-160H400v160ZM180-400h160v-160H180v160Zm440 0h160v-160H620v160ZM180-180h160v-160H180v160Zm440 0h160v-160H620v160Z\"/>\n",
              "  </svg>\n",
              "    </button>\n",
              "\n",
              "  <style>\n",
              "    .colab-df-container {\n",
              "      display:flex;\n",
              "      gap: 12px;\n",
              "    }\n",
              "\n",
              "    .colab-df-convert {\n",
              "      background-color: #E8F0FE;\n",
              "      border: none;\n",
              "      border-radius: 50%;\n",
              "      cursor: pointer;\n",
              "      display: none;\n",
              "      fill: #1967D2;\n",
              "      height: 32px;\n",
              "      padding: 0 0 0 0;\n",
              "      width: 32px;\n",
              "    }\n",
              "\n",
              "    .colab-df-convert:hover {\n",
              "      background-color: #E2EBFA;\n",
              "      box-shadow: 0px 1px 2px rgba(60, 64, 67, 0.3), 0px 1px 3px 1px rgba(60, 64, 67, 0.15);\n",
              "      fill: #174EA6;\n",
              "    }\n",
              "\n",
              "    .colab-df-buttons div {\n",
              "      margin-bottom: 4px;\n",
              "    }\n",
              "\n",
              "    [theme=dark] .colab-df-convert {\n",
              "      background-color: #3B4455;\n",
              "      fill: #D2E3FC;\n",
              "    }\n",
              "\n",
              "    [theme=dark] .colab-df-convert:hover {\n",
              "      background-color: #434B5C;\n",
              "      box-shadow: 0px 1px 3px 1px rgba(0, 0, 0, 0.15);\n",
              "      filter: drop-shadow(0px 1px 2px rgba(0, 0, 0, 0.3));\n",
              "      fill: #FFFFFF;\n",
              "    }\n",
              "  </style>\n",
              "\n",
              "    <script>\n",
              "      const buttonEl =\n",
              "        document.querySelector('#df-ad434897-2a2f-4721-adeb-8b183b9046df button.colab-df-convert');\n",
              "      buttonEl.style.display =\n",
              "        google.colab.kernel.accessAllowed ? 'block' : 'none';\n",
              "\n",
              "      async function convertToInteractive(key) {\n",
              "        const element = document.querySelector('#df-ad434897-2a2f-4721-adeb-8b183b9046df');\n",
              "        const dataTable =\n",
              "          await google.colab.kernel.invokeFunction('convertToInteractive',\n",
              "                                                    [key], {});\n",
              "        if (!dataTable) return;\n",
              "\n",
              "        const docLinkHtml = 'Like what you see? Visit the ' +\n",
              "          '<a target=\"_blank\" href=https://colab.research.google.com/notebooks/data_table.ipynb>data table notebook</a>'\n",
              "          + ' to learn more about interactive tables.';\n",
              "        element.innerHTML = '';\n",
              "        dataTable['output_type'] = 'display_data';\n",
              "        await google.colab.output.renderOutput(dataTable, element);\n",
              "        const docLink = document.createElement('div');\n",
              "        docLink.innerHTML = docLinkHtml;\n",
              "        element.appendChild(docLink);\n",
              "      }\n",
              "    </script>\n",
              "  </div>\n",
              "\n",
              "\n",
              "<div id=\"df-f171dd81-4881-4d92-a59e-434a7cb4c9c9\">\n",
              "  <button class=\"colab-df-quickchart\" onclick=\"quickchart('df-f171dd81-4881-4d92-a59e-434a7cb4c9c9')\"\n",
              "            title=\"Suggest charts\"\n",
              "            style=\"display:none;\">\n",
              "\n",
              "<svg xmlns=\"http://www.w3.org/2000/svg\" height=\"24px\"viewBox=\"0 0 24 24\"\n",
              "     width=\"24px\">\n",
              "    <g>\n",
              "        <path d=\"M19 3H5c-1.1 0-2 .9-2 2v14c0 1.1.9 2 2 2h14c1.1 0 2-.9 2-2V5c0-1.1-.9-2-2-2zM9 17H7v-7h2v7zm4 0h-2V7h2v10zm4 0h-2v-4h2v4z\"/>\n",
              "    </g>\n",
              "</svg>\n",
              "  </button>\n",
              "\n",
              "<style>\n",
              "  .colab-df-quickchart {\n",
              "      --bg-color: #E8F0FE;\n",
              "      --fill-color: #1967D2;\n",
              "      --hover-bg-color: #E2EBFA;\n",
              "      --hover-fill-color: #174EA6;\n",
              "      --disabled-fill-color: #AAA;\n",
              "      --disabled-bg-color: #DDD;\n",
              "  }\n",
              "\n",
              "  [theme=dark] .colab-df-quickchart {\n",
              "      --bg-color: #3B4455;\n",
              "      --fill-color: #D2E3FC;\n",
              "      --hover-bg-color: #434B5C;\n",
              "      --hover-fill-color: #FFFFFF;\n",
              "      --disabled-bg-color: #3B4455;\n",
              "      --disabled-fill-color: #666;\n",
              "  }\n",
              "\n",
              "  .colab-df-quickchart {\n",
              "    background-color: var(--bg-color);\n",
              "    border: none;\n",
              "    border-radius: 50%;\n",
              "    cursor: pointer;\n",
              "    display: none;\n",
              "    fill: var(--fill-color);\n",
              "    height: 32px;\n",
              "    padding: 0;\n",
              "    width: 32px;\n",
              "  }\n",
              "\n",
              "  .colab-df-quickchart:hover {\n",
              "    background-color: var(--hover-bg-color);\n",
              "    box-shadow: 0 1px 2px rgba(60, 64, 67, 0.3), 0 1px 3px 1px rgba(60, 64, 67, 0.15);\n",
              "    fill: var(--button-hover-fill-color);\n",
              "  }\n",
              "\n",
              "  .colab-df-quickchart-complete:disabled,\n",
              "  .colab-df-quickchart-complete:disabled:hover {\n",
              "    background-color: var(--disabled-bg-color);\n",
              "    fill: var(--disabled-fill-color);\n",
              "    box-shadow: none;\n",
              "  }\n",
              "\n",
              "  .colab-df-spinner {\n",
              "    border: 2px solid var(--fill-color);\n",
              "    border-color: transparent;\n",
              "    border-bottom-color: var(--fill-color);\n",
              "    animation:\n",
              "      spin 1s steps(1) infinite;\n",
              "  }\n",
              "\n",
              "  @keyframes spin {\n",
              "    0% {\n",
              "      border-color: transparent;\n",
              "      border-bottom-color: var(--fill-color);\n",
              "      border-left-color: var(--fill-color);\n",
              "    }\n",
              "    20% {\n",
              "      border-color: transparent;\n",
              "      border-left-color: var(--fill-color);\n",
              "      border-top-color: var(--fill-color);\n",
              "    }\n",
              "    30% {\n",
              "      border-color: transparent;\n",
              "      border-left-color: var(--fill-color);\n",
              "      border-top-color: var(--fill-color);\n",
              "      border-right-color: var(--fill-color);\n",
              "    }\n",
              "    40% {\n",
              "      border-color: transparent;\n",
              "      border-right-color: var(--fill-color);\n",
              "      border-top-color: var(--fill-color);\n",
              "    }\n",
              "    60% {\n",
              "      border-color: transparent;\n",
              "      border-right-color: var(--fill-color);\n",
              "    }\n",
              "    80% {\n",
              "      border-color: transparent;\n",
              "      border-right-color: var(--fill-color);\n",
              "      border-bottom-color: var(--fill-color);\n",
              "    }\n",
              "    90% {\n",
              "      border-color: transparent;\n",
              "      border-bottom-color: var(--fill-color);\n",
              "    }\n",
              "  }\n",
              "</style>\n",
              "\n",
              "  <script>\n",
              "    async function quickchart(key) {\n",
              "      const quickchartButtonEl =\n",
              "        document.querySelector('#' + key + ' button');\n",
              "      quickchartButtonEl.disabled = true;  // To prevent multiple clicks.\n",
              "      quickchartButtonEl.classList.add('colab-df-spinner');\n",
              "      try {\n",
              "        const charts = await google.colab.kernel.invokeFunction(\n",
              "            'suggestCharts', [key], {});\n",
              "      } catch (error) {\n",
              "        console.error('Error during call to suggestCharts:', error);\n",
              "      }\n",
              "      quickchartButtonEl.classList.remove('colab-df-spinner');\n",
              "      quickchartButtonEl.classList.add('colab-df-quickchart-complete');\n",
              "    }\n",
              "    (() => {\n",
              "      let quickchartButtonEl =\n",
              "        document.querySelector('#df-f171dd81-4881-4d92-a59e-434a7cb4c9c9 button');\n",
              "      quickchartButtonEl.style.display =\n",
              "        google.colab.kernel.accessAllowed ? 'block' : 'none';\n",
              "    })();\n",
              "  </script>\n",
              "</div>\n",
              "    </div>\n",
              "  </div>\n"
            ],
            "application/vnd.google.colaboratory.intrinsic+json": {
              "type": "dataframe",
              "summary": "{\n  \"name\": \"data\",\n  \"rows\": 8,\n  \"fields\": [\n    {\n      \"column\": \"High\",\n      \"properties\": {\n        \"dtype\": \"number\",\n        \"std\": 3185.5020000698155,\n        \"min\": 756.158006490401,\n        \"max\": 9064.289,\n        \"num_unique_values\": 8,\n        \"samples\": [\n          7525.544651500484,\n          7296.658,\n          1033.0\n        ],\n        \"semantic_type\": \"\",\n        \"description\": \"\"\n      }\n    },\n    {\n      \"column\": \"Close\",\n      \"properties\": {\n        \"dtype\": \"number\",\n        \"std\": 3176.8834925618003,\n        \"min\": 758.3791641869718,\n        \"max\": 9048.479,\n        \"num_unique_values\": 8,\n        \"samples\": [\n          7504.137266214908,\n          7280.226,\n          1033.0\n        ],\n        \"semantic_type\": \"\",\n        \"description\": \"\"\n      }\n    },\n    {\n      \"column\": \"Low\",\n      \"properties\": {\n        \"dtype\": \"number\",\n        \"std\": 3164.00822685458,\n        \"min\": 757.4540169039179,\n        \"max\": 9027.707,\n        \"num_unique_values\": 8,\n        \"samples\": [\n          7476.347848015488,\n          7255.941,\n          1033.0\n        ],\n        \"semantic_type\": \"\",\n        \"description\": \"\"\n      }\n    },\n    {\n      \"column\": \"Open\",\n      \"properties\": {\n        \"dtype\": \"number\",\n        \"std\": 3176.926659465273,\n        \"min\": 755.2666990386064,\n        \"max\": 9048.656,\n        \"num_unique_values\": 8,\n        \"samples\": [\n          7505.690026137464,\n          7279.55,\n          1033.0\n        ],\n        \"semantic_type\": \"\",\n        \"description\": \"\"\n      }\n    },\n    {\n      \"column\": \"std_close\",\n      \"properties\": {\n        \"dtype\": \"number\",\n        \"std\": 297.9220404021548,\n        \"min\": 1.1374190521708145e-13,\n        \"max\": 1033.0,\n        \"num_unique_values\": 4,\n        \"samples\": [\n          758.3791641869719,\n          758.3791641869718,\n          1033.0\n        ],\n        \"semantic_type\": \"\",\n        \"description\": \"\"\n      }\n    },\n    {\n      \"column\": \"ROI\",\n      \"properties\": {\n        \"dtype\": \"number\",\n        \"std\": 365.3021718710054,\n        \"min\": -4.024884700123586,\n        \"max\": 1033.0,\n        \"num_unique_values\": 8,\n        \"samples\": [\n          -0.024375291568531878,\n          -0.0008520682322058,\n          1033.0\n        ],\n        \"semantic_type\": \"\",\n        \"description\": \"\"\n      }\n    },\n    {\n      \"column\": \"7_Days_Average_ROI\",\n      \"properties\": {\n        \"dtype\": \"number\",\n        \"std\": 365.25694556196726,\n        \"min\": -1.351344771274437,\n        \"max\": 1033.0,\n        \"num_unique_values\": 8,\n        \"samples\": [\n          -0.024375291568531878,\n          -0.0025241324544108,\n          1033.0\n        ],\n        \"semantic_type\": \"\",\n        \"description\": \"\"\n      }\n    },\n    {\n      \"column\": \"ROI_Monthly_Avg\",\n      \"properties\": {\n        \"dtype\": \"number\",\n        \"std\": 365.22610617467586,\n        \"min\": -0.1438551934690355,\n        \"max\": 1033.0,\n        \"num_unique_values\": 8,\n        \"samples\": [\n          -0.024375291568531864,\n          -0.0542625027332613,\n          1033.0\n        ],\n        \"semantic_type\": \"\",\n        \"description\": \"\"\n      }\n    },\n    {\n      \"column\": \"Kurtosis\",\n      \"properties\": {\n        \"dtype\": \"number\",\n        \"std\": 365.05414357078143,\n        \"min\": 0.1401394230893155,\n        \"max\": 1033.0,\n        \"num_unique_values\": 8,\n        \"samples\": [\n          0.526009855692453,\n          0.2718615865447512,\n          1033.0\n        ],\n        \"semantic_type\": \"\",\n        \"description\": \"\"\n      }\n    },\n    {\n      \"column\": \"Skewness\",\n      \"properties\": {\n        \"dtype\": \"number\",\n        \"std\": 365.2795724158039,\n        \"min\": -1.8733760498374208,\n        \"max\": 1033.0,\n        \"num_unique_values\": 8,\n        \"samples\": [\n          -0.3030467871997029,\n          0.1736466598262681,\n          1033.0\n        ],\n        \"semantic_type\": \"\",\n        \"description\": \"\"\n      }\n    },\n    {\n      \"column\": \"yearly_std\",\n      \"properties\": {\n        \"dtype\": \"number\",\n        \"std\": 303.04617229743405,\n        \"min\": 77.92236277752306,\n        \"max\": 1033.0,\n        \"num_unique_values\": 8,\n        \"samples\": [\n          306.1381187738277,\n          247.72070614626332,\n          1033.0\n        ],\n        \"semantic_type\": \"\",\n        \"description\": \"\"\n      }\n    }\n  ]\n}"
            }
          },
          "metadata": {},
          "execution_count": 3
        }
      ],
      "source": [
        "data.describe()"
      ]
    },
    {
      "cell_type": "code",
      "execution_count": null,
      "metadata": {
        "colab": {
          "base_uri": "https://localhost:8080/"
        },
        "id": "iTdaTzrxAcgz",
        "outputId": "0ccc722a-1932-4720-86ca-d2d3dad66ea5"
      },
      "outputs": [
        {
          "output_type": "stream",
          "name": "stdout",
          "text": [
            "<class 'pandas.core.frame.DataFrame'>\n",
            "RangeIndex: 1033 entries, 0 to 1032\n",
            "Data columns (total 13 columns):\n",
            " #   Column              Non-Null Count  Dtype  \n",
            "---  ------              --------------  -----  \n",
            " 0   Date                1033 non-null   object \n",
            " 1   High                1033 non-null   float64\n",
            " 2   Close               1033 non-null   float64\n",
            " 3   Low                 1033 non-null   float64\n",
            " 4   Open                1033 non-null   float64\n",
            " 5   Ind_Name            1033 non-null   object \n",
            " 6   std_close           1033 non-null   float64\n",
            " 7   ROI                 1033 non-null   float64\n",
            " 8   7_Days_Average_ROI  1033 non-null   float64\n",
            " 9   ROI_Monthly_Avg     1033 non-null   float64\n",
            " 10  Kurtosis            1033 non-null   float64\n",
            " 11  Skewness            1033 non-null   float64\n",
            " 12  yearly_std          1033 non-null   float64\n",
            "dtypes: float64(11), object(2)\n",
            "memory usage: 105.0+ KB\n"
          ]
        }
      ],
      "source": [
        "# Drop the row with NaN\n",
        "data=data.dropna(how='any',axis=0)\n",
        "data.info()"
      ]
    },
    {
      "cell_type": "code",
      "execution_count": null,
      "metadata": {
        "colab": {
          "base_uri": "https://localhost:8080/"
        },
        "id": "-vvl9fIVAcg0",
        "outputId": "3de379ed-c25f-4caf-d35b-a11373e47883"
      },
      "outputs": [
        {
          "output_type": "stream",
          "name": "stdout",
          "text": [
            "[7042.642 6994.84  6967.192 6921.921 6892.276]\n"
          ]
        }
      ],
      "source": [
        "# Assuming 'Close' is the column you want to select\n",
        "close_prices = data['Close']\n",
        "\n",
        "# Convert the 'Close' prices to a numpy array\n",
        "close_prices_array = close_prices.values\n",
        "\n",
        "print(close_prices_array[:5])\n"
      ]
    },
    {
      "cell_type": "code",
      "execution_count": null,
      "metadata": {
        "colab": {
          "base_uri": "https://localhost:8080/"
        },
        "id": "pmdPBhIhAcg0",
        "outputId": "dfc3093c-05dc-45e6-8874-a26555c4008b"
      },
      "outputs": [
        {
          "output_type": "stream",
          "name": "stdout",
          "text": [
            "[[0.31526069]\n",
            " [0.29894236]\n",
            " [0.28950407]\n",
            " [0.27404975]\n",
            " [0.26392974]]\n"
          ]
        }
      ],
      "source": [
        "# Assuming close_prices_array is the 1D array of 'Close' prices\n",
        "close_prices_array = np.array(close_prices)\n",
        "\n",
        "# Reshape the array to 2D\n",
        "close_prices_array = close_prices_array.reshape(-1, 1)\n",
        "\n",
        "# Scale the data using MinMaxScaler\n",
        "scaler = MinMaxScaler(feature_range=(0,1))\n",
        "df_scaled = scaler.fit_transform(close_prices_array)\n",
        "\n",
        "print(df_scaled[:5])"
      ]
    },
    {
      "cell_type": "code",
      "execution_count": null,
      "metadata": {
        "id": "konSXoTXAcg1"
      },
      "outputs": [],
      "source": [
        "# Split data into predictors and outcomes\n",
        "# predict the number of passengers using by the past 6 months' number of passengers\n",
        "X=[]\n",
        "y=[]\n",
        "sequence=6\n",
        "for i in range(len(df_scaled) - sequence):\n",
        "    X.append(df_scaled[i:(i + sequence),0]) # appends a slice of the df_scaled array to the X list. The slice starts at index i and ends at index i + sequence - 1.\n",
        "                                            #The ,0 at the end specifies that only the values in the first column of the slice should be included.\n",
        "    y.append(df_scaled[i + sequence,0])\n",
        "X,y=np.array(X),np.array(y)"
      ]
    },
    {
      "cell_type": "code",
      "execution_count": null,
      "metadata": {
        "colab": {
          "base_uri": "https://localhost:8080/"
        },
        "id": "eB6zlme8Acg1",
        "outputId": "d0753cf4-bdf4-4667-f871-57aa5f403355"
      },
      "outputs": [
        {
          "output_type": "stream",
          "name": "stdout",
          "text": [
            "Predictors\n",
            "[[0.31526069 0.29894236 0.28950407 0.27404975 0.26392974 0.2613056 ]\n",
            " [0.29894236 0.28950407 0.27404975 0.26392974 0.2613056  0.25551181]\n",
            " [0.28950407 0.27404975 0.26392974 0.2613056  0.25551181 0.26002033]\n",
            " [0.27404975 0.26392974 0.2613056  0.25551181 0.26002033 0.26812112]\n",
            " [0.26392974 0.2613056  0.25551181 0.26002033 0.26812112 0.27374388]]\n",
            "Outcomes\n",
            "[0.25551181 0.26002033 0.26812112 0.27374388 0.26738922]\n"
          ]
        }
      ],
      "source": [
        "print(\"Predictors\")\n",
        "print(X[:5]) #print the elements from index 0 to index 4\n",
        "print(\"Outcomes\")\n",
        "print(y[:5])"
      ]
    },
    {
      "cell_type": "code",
      "execution_count": null,
      "metadata": {
        "colab": {
          "base_uri": "https://localhost:8080/"
        },
        "id": "QjBsShZuAcg2",
        "outputId": "4117e3c2-ee60-4d8f-c1ba-9c224aba6896"
      },
      "outputs": [
        {
          "output_type": "execute_result",
          "data": {
            "text/plain": [
              "(1027, 6, 1)"
            ]
          },
          "metadata": {},
          "execution_count": 9
        }
      ],
      "source": [
        "# Reshape the predictor\n",
        "X = np.reshape(X, (X.shape[0], X.shape[1], 1))\n",
        "# reshape the X array to a 3D tensor with a shape of (samples, timesteps, features)\n",
        "X.shape\n",
        "# By reshaping the X array in this way, we can prepare the data to be used in a recurrent neural network (RNN)\n",
        "#model. The samples dimension represents the number of data points, the timesteps dimension represents\n",
        "#the number of time steps in each sequence, and the features dimension represents the number of features in the data.\n",
        "#This is a standard format for RNN inputs, which can be used to train models that can analyze sequential data."
      ]
    },
    {
      "cell_type": "code",
      "execution_count": null,
      "metadata": {
        "id": "7WMLuFsxAcg2"
      },
      "outputs": [],
      "source": [
        "# Split data into training and test sets\n",
        "\n",
        "# Set the size of training and test data\n",
        "# Use 75% of the data for training\n",
        "train_size = math.ceil(len(X) * 0.75) # returns the smallest integer greater than or equal to x\n",
        "test_size = len(X - train_size)\n",
        "\n",
        "# Split X and y into training and test sets\n",
        "X_train = X[:train_size, :]\n",
        "y_train = y[:train_size]\n",
        "\n",
        "X_test = X[train_size:len(X),:] # This is a slice of the original X array that includes all rows starting from index train_size\n",
        "                                #and going up to the last row of X. The , and : are used to include all columns of the array.\n",
        "y_test = y[train_size:len(y)]"
      ]
    },
    {
      "cell_type": "code",
      "execution_count": null,
      "metadata": {
        "colab": {
          "base_uri": "https://localhost:8080/"
        },
        "id": "1rfJHF1pAcg3",
        "outputId": "d71b7879-d77f-4b06-9c46-ddd410e7bd2b"
      },
      "outputs": [
        {
          "output_type": "stream",
          "name": "stdout",
          "text": [
            "X_train:  (771, 6, 1)\n",
            "y_train:  (771,)\n",
            "X_test :  (256, 6, 1)\n",
            "y_test :  (256,)\n"
          ]
        }
      ],
      "source": [
        "# Show the size of training and test sets\n",
        "print(\"X_train: \", X_train.shape)\n",
        "print(\"y_train: \", y_train.shape)\n",
        "print(\"X_test : \", X_test.shape)\n",
        "print(\"y_test : \", y_test.shape)"
      ]
    },
    {
      "cell_type": "markdown",
      "metadata": {
        "id": "1N0Tpv_OAcg3"
      },
      "source": [
        "## LSTM layer:\n",
        "number_of_trainable_parameters = num_params = units(units + input_dim + 1)\n",
        "\n",
        "*input dimension for the first layer=1 because the input data X_train is a univariate time series, meaning that it only has one feature or variable being observed over time\n"
      ]
    },
    {
      "cell_type": "code",
      "execution_count": null,
      "metadata": {
        "colab": {
          "base_uri": "https://localhost:8080/"
        },
        "id": "g8HRvPoBAcg4",
        "outputId": "6fe5eda3-f371-4f32-abe0-58a71bdf8e80"
      },
      "outputs": [
        {
          "output_type": "stream",
          "name": "stdout",
          "text": [
            "Model: \"sequential\"\n",
            "_________________________________________________________________\n",
            " Layer (type)                Output Shape              Param #   \n",
            "=================================================================\n",
            " lstm (LSTM)                 (None, 6, 32)             4352      \n",
            "                                                                 \n",
            " lstm_1 (LSTM)               (None, 6, 32)             8320      \n",
            "                                                                 \n",
            " lstm_2 (LSTM)               (None, 6, 32)             8320      \n",
            "                                                                 \n",
            " lstm_3 (LSTM)               (None, 32)                8320      \n",
            "                                                                 \n",
            " dense (Dense)               (None, 1)                 33        \n",
            "                                                                 \n",
            "=================================================================\n",
            "Total params: 29345 (114.63 KB)\n",
            "Trainable params: 29345 (114.63 KB)\n",
            "Non-trainable params: 0 (0.00 Byte)\n",
            "_________________________________________________________________\n"
          ]
        }
      ],
      "source": [
        "# LSTM model\n",
        "lstm=Sequential()\n",
        "lstm.add(LSTM(units=32, return_sequences=True, input_shape=(X_train.shape[1],1)))\n",
        "lstm.add(LSTM(units=32, return_sequences=True))\n",
        "lstm.add(LSTM(units=32, return_sequences=True))\n",
        "lstm.add(LSTM(units=32))\n",
        "lstm.add(Dense(units=1))\n",
        "lstm.compile(optimizer='adam', loss='mean_squared_error')\n",
        "lstm.summary()"
      ]
    },
    {
      "cell_type": "markdown",
      "metadata": {
        "id": "OaXmjnrJAcg4"
      },
      "source": [
        "## LSTM layer:\n",
        "\n",
        "\n",
        "\n",
        "ps: n for the first layer is 1 (1 sequence)\n",
        "\n",
        "## dense layer:\n",
        "\n",
        "number_of_trainable_parameters = (input_size x output_size) + output_size\n"
      ]
    },
    {
      "cell_type": "code",
      "execution_count": null,
      "metadata": {
        "id": "LecIKM-LAcg6"
      },
      "outputs": [],
      "source": [
        "# Set Early Stopping\n",
        "early_stop = EarlyStopping(monitor='val_loss', patience=40)"
      ]
    },
    {
      "cell_type": "code",
      "execution_count": null,
      "metadata": {
        "id": "YF6Ss5lyAcg6"
      },
      "outputs": [],
      "source": [
        "# Fit LSTM model\n",
        "lstm_history = lstm.fit(X_train, y_train, batch_size=16, epochs=1000,\n",
        "                        validation_split=0.2, callbacks=[early_stop], verbose=0)"
      ]
    },
    {
      "cell_type": "code",
      "execution_count": null,
      "metadata": {
        "colab": {
          "base_uri": "https://localhost:8080/",
          "height": 413
        },
        "id": "mgYp3INMAcg8",
        "outputId": "ac900ac3-9faf-4107-b661-92285ff92fef"
      },
      "outputs": [
        {
          "output_type": "display_data",
          "data": {
            "text/plain": [
              "<Figure size 800x400 with 1 Axes>"
            ],
            "image/png": "[encoded data removed]"
          },
          "metadata": {}
        }
      ],
      "source": [
        "import matplotlib.pyplot as plt\n",
        "\n",
        "# Set subplot titles\n",
        "titles = ['LSTM']\n",
        "\n",
        "# Create a list of training histories (assuming lstm_history contains LSTM training history)\n",
        "models = [lstm_history]\n",
        "\n",
        "# Set the plot area\n",
        "fig, ax = plt.subplots(1, 1, figsize=(8, 4), tight_layout=True)\n",
        "\n",
        "# Plot learning history\n",
        "plt.suptitle('Learning History')\n",
        "for i in range(len(models)):\n",
        "    plt.plot(models[i].history['loss'], label='Training Loss')\n",
        "    plt.plot(models[i].history['val_loss'], label='Validation Loss')\n",
        "    plt.title(titles[i], fontsize=10)\n",
        "    plt.xlabel('Epoch')\n",
        "    plt.ylabel('Loss')\n",
        "    plt.legend()\n",
        "    plt.ylim([0, 0.05])\n",
        "\n",
        "plt.show()\n"
      ]
    },
    {
      "cell_type": "code",
      "execution_count": null,
      "metadata": {
        "colab": {
          "base_uri": "https://localhost:8080/"
        },
        "id": "Qg54_DrDAcg8",
        "outputId": "86b4b4c9-1ea5-4048-ec92-9642ea9b498a"
      },
      "outputs": [
        {
          "output_type": "stream",
          "name": "stdout",
          "text": [
            "8/8 [==============================] - 2s 6ms/step\n"
          ]
        }
      ],
      "source": [
        "# Make predictions and reverse the predicted value to real number\n",
        "\n",
        "\n",
        "\n",
        "# Predict by LSTM model\n",
        "lstm_y_pred=lstm.predict(X_test)\n",
        "lstm_y_pred=scaler.inverse_transform(lstm_y_pred)\n",
        "\n",
        "\n",
        "\n",
        "# Reverse test data to real number\n",
        "y_test=y_test.reshape(y_test.shape[0],1)\n",
        "y_test=scaler.inverse_transform(y_test)"
      ]
    },
    {
      "cell_type": "code",
      "execution_count": null,
      "metadata": {
        "colab": {
          "base_uri": "https://localhost:8080/",
          "height": 413
        },
        "id": "bFDfDQp2Acg9",
        "outputId": "93521227-05b1-4bda-9ce6-7ed303c2f2f0"
      },
      "outputs": [
        {
          "output_type": "display_data",
          "data": {
            "text/plain": [
              "<Figure size 800x400 with 1 Axes>"
            ],
            "image/png": "[encoded data removed]"
          },
          "metadata": {}
        }
      ],
      "source": [
        "import matplotlib.pyplot as plt\n",
        "\n",
        "# Set subplot titles\n",
        "titles = ['LSTM']\n",
        "\n",
        "# Create a list of prediction models (assuming lstm_y_pred contains LSTM predictions)\n",
        "models = [lstm_y_pred]\n",
        "\n",
        "# Set the plot area\n",
        "fig, ax = plt.subplots(1, 1, figsize=(8, 4), tight_layout=True)\n",
        "\n",
        "# Set the title\n",
        "plt.suptitle('Close Forecasting')\n",
        "\n",
        "# Create and show subplots\n",
        "for i in range(len(models)):\n",
        "    plt.plot(y_test, label='Actual')\n",
        "    plt.plot(models[i], label='LSTM Prediction')\n",
        "    plt.title(titles[i], fontsize=10)\n",
        "    plt.legend()\n",
        "    plt.xlabel('Time')\n",
        "    plt.ylabel('Close Price')\n",
        "\n",
        "plt.show()\n"
      ]
    },
    {
      "cell_type": "code",
      "source": [
        "from sklearn.metrics import r2_score, mean_squared_error\n",
        "\n",
        "\n",
        "r2 = r2_score(y_test, lstm_y_pred)\n",
        "print(\"R^2 Score:\", r2)\n",
        "print(f'mean_squared_error = {mean_squared_error(y_test, lstm_y_pred)}')\n",
        "rmse = math.sqrt(mean_squared_error(y_test, lstm_y_pred))\n",
        "print(\"The root mean squared error is {}.\".format(rmse))\n",
        "\n"
      ],
      "metadata": {
        "colab": {
          "base_uri": "https://localhost:8080/",
          "height": 367
        },
        "id": "nQuf4bEjsMBa",
        "outputId": "fe39cd12-6c79-4531-8209-dde3663f4cfa"
      },
      "execution_count": null,
      "outputs": [
        {
          "output_type": "stream",
          "name": "stdout",
          "text": [
            "R^2 Score: nan\n"
          ]
        },
        {
          "output_type": "error",
          "ename": "TypeError",
          "evalue": "unsupported operand type(s) for -: 'ellipsis' and 'ellipsis'",
          "traceback": [
            "\u001b[0;31m---------------------------------------------------------------------------\u001b[0m",
            "\u001b[0;31mTypeError\u001b[0m                                 Traceback (most recent call last)",
            "\u001b[0;32m<ipython-input-52-f8b39a454bd9>\u001b[0m in \u001b[0;36m<cell line: 6>\u001b[0;34m()\u001b[0m\n\u001b[1;32m      4\u001b[0m \u001b[0mr2\u001b[0m \u001b[0;34m=\u001b[0m \u001b[0mr2_score\u001b[0m\u001b[0;34m(\u001b[0m\u001b[0my_test\u001b[0m\u001b[0;34m,\u001b[0m \u001b[0mlstm_y_pred\u001b[0m\u001b[0;34m)\u001b[0m\u001b[0;34m\u001b[0m\u001b[0;34m\u001b[0m\u001b[0m\n\u001b[1;32m      5\u001b[0m \u001b[0mprint\u001b[0m\u001b[0;34m(\u001b[0m\u001b[0;34m\"R^2 Score:\"\u001b[0m\u001b[0;34m,\u001b[0m \u001b[0mr2\u001b[0m\u001b[0;34m)\u001b[0m\u001b[0;34m\u001b[0m\u001b[0;34m\u001b[0m\u001b[0m\n\u001b[0;32m----> 6\u001b[0;31m \u001b[0mprint\u001b[0m\u001b[0;34m(\u001b[0m\u001b[0;34mf'mean_squared_error = {mean_squared_error(y_test, lstm_y_pred)}'\u001b[0m\u001b[0;34m)\u001b[0m\u001b[0;34m\u001b[0m\u001b[0;34m\u001b[0m\u001b[0m\n\u001b[0m\u001b[1;32m      7\u001b[0m \u001b[0mrmse\u001b[0m \u001b[0;34m=\u001b[0m \u001b[0mmath\u001b[0m\u001b[0;34m.\u001b[0m\u001b[0msqrt\u001b[0m\u001b[0;34m(\u001b[0m\u001b[0mmean_squared_error\u001b[0m\u001b[0;34m(\u001b[0m\u001b[0my_test\u001b[0m\u001b[0;34m,\u001b[0m \u001b[0mlstm_y_pred\u001b[0m\u001b[0;34m)\u001b[0m\u001b[0;34m)\u001b[0m\u001b[0;34m\u001b[0m\u001b[0;34m\u001b[0m\u001b[0m\n\u001b[1;32m      8\u001b[0m \u001b[0mprint\u001b[0m\u001b[0;34m(\u001b[0m\u001b[0;34m\"The root mean squared error is {}.\"\u001b[0m\u001b[0;34m.\u001b[0m\u001b[0mformat\u001b[0m\u001b[0;34m(\u001b[0m\u001b[0mrmse\u001b[0m\u001b[0;34m)\u001b[0m\u001b[0;34m)\u001b[0m\u001b[0;34m\u001b[0m\u001b[0;34m\u001b[0m\u001b[0m\n",
            "\u001b[0;32m/usr/local/lib/python3.10/dist-packages/sklearn/metrics/_regression.py\u001b[0m in \u001b[0;36mmean_squared_error\u001b[0;34m(y_true, y_pred, sample_weight, multioutput, squared)\u001b[0m\n\u001b[1;32m    444\u001b[0m     )\n\u001b[1;32m    445\u001b[0m     \u001b[0mcheck_consistent_length\u001b[0m\u001b[0;34m(\u001b[0m\u001b[0my_true\u001b[0m\u001b[0;34m,\u001b[0m \u001b[0my_pred\u001b[0m\u001b[0;34m,\u001b[0m \u001b[0msample_weight\u001b[0m\u001b[0;34m)\u001b[0m\u001b[0;34m\u001b[0m\u001b[0;34m\u001b[0m\u001b[0m\n\u001b[0;32m--> 446\u001b[0;31m     \u001b[0moutput_errors\u001b[0m \u001b[0;34m=\u001b[0m \u001b[0mnp\u001b[0m\u001b[0;34m.\u001b[0m\u001b[0maverage\u001b[0m\u001b[0;34m(\u001b[0m\u001b[0;34m(\u001b[0m\u001b[0my_true\u001b[0m \u001b[0;34m-\u001b[0m \u001b[0my_pred\u001b[0m\u001b[0;34m)\u001b[0m \u001b[0;34m**\u001b[0m \u001b[0;36m2\u001b[0m\u001b[0;34m,\u001b[0m \u001b[0maxis\u001b[0m\u001b[0;34m=\u001b[0m\u001b[0;36m0\u001b[0m\u001b[0;34m,\u001b[0m \u001b[0mweights\u001b[0m\u001b[0;34m=\u001b[0m\u001b[0msample_weight\u001b[0m\u001b[0;34m)\u001b[0m\u001b[0;34m\u001b[0m\u001b[0;34m\u001b[0m\u001b[0m\n\u001b[0m\u001b[1;32m    447\u001b[0m \u001b[0;34m\u001b[0m\u001b[0m\n\u001b[1;32m    448\u001b[0m     \u001b[0;32mif\u001b[0m \u001b[0;32mnot\u001b[0m \u001b[0msquared\u001b[0m\u001b[0;34m:\u001b[0m\u001b[0;34m\u001b[0m\u001b[0;34m\u001b[0m\u001b[0m\n",
            "\u001b[0;31mTypeError\u001b[0m: unsupported operand type(s) for -: 'ellipsis' and 'ellipsis'"
          ]
        }
      ]
    },
    {
      "cell_type": "code",
      "source": [
        "def mean_absolute_percentage_error(y_test, lstm_y_pred):\n",
        "    y_test, lstm_y_pred = np.array(y_test), np.array(lstm_y_pred)\n",
        "    return np.mean(np.abs((y_test - lstm_y_pred) / y_test)) * 100"
      ],
      "metadata": {
        "id": "Fgpzb92aFAEz"
      },
      "execution_count": null,
      "outputs": []
    },
    {
      "cell_type": "code",
      "source": [
        "mape = mean_absolute_percentage_error(y_test, lstm_y_pred)\n",
        "print(\"Mean Absolute Percentage Error:\", mape)"
      ],
      "metadata": {
        "colab": {
          "base_uri": "https://localhost:8080/"
        },
        "id": "X53JodKtIikL",
        "outputId": "24bdd178-e39e-4b5a-ed4c-7128a9e6bcf8"
      },
      "execution_count": null,
      "outputs": [
        {
          "output_type": "stream",
          "name": "stdout",
          "text": [
            "Mean Absolute Percentage Error: 3.8020194418404247\n"
          ]
        }
      ]
    },
    {
      "cell_type": "code",
      "source": [],
      "metadata": {
        "id": "9Qr0v38pU2Fr"
      },
      "execution_count": null,
      "outputs": []
    },
    {
      "cell_type": "code",
      "source": [],
      "metadata": {
        "id": "VDF_kaIfU2PB"
      },
      "execution_count": null,
      "outputs": []
    },
    {
      "cell_type": "code",
      "source": [
        "from sklearn.metrics import mean_absolute_error\n",
        "\n",
        "# Calculate MAE\n",
        "mae = mean_absolute_error(y_test, lstm_y_pred)\n",
        "print(f\"Mean Absolute Error (MAE): {mae}\")"
      ],
      "metadata": {
        "colab": {
          "base_uri": "https://localhost:8080/",
          "height": 245
        },
        "id": "jdlYRHz6LkYX",
        "outputId": "10d3111c-b3ea-413e-d736-7a3b23ab685d"
      },
      "execution_count": null,
      "outputs": [
        {
          "output_type": "error",
          "ename": "TypeError",
          "evalue": "unsupported operand type(s) for -: 'ellipsis' and 'ellipsis'",
          "traceback": [
            "\u001b[0;31m---------------------------------------------------------------------------\u001b[0m",
            "\u001b[0;31mTypeError\u001b[0m                                 Traceback (most recent call last)",
            "\u001b[0;32m<ipython-input-49-ee0eec58da77>\u001b[0m in \u001b[0;36m<cell line: 1>\u001b[0;34m()\u001b[0m\n\u001b[0;32m----> 1\u001b[0;31m \u001b[0mmape\u001b[0m \u001b[0;34m=\u001b[0m \u001b[0mmean_absolute_percentage_error\u001b[0m\u001b[0;34m(\u001b[0m\u001b[0my_test\u001b[0m\u001b[0;34m,\u001b[0m \u001b[0mlstm_y_pred\u001b[0m\u001b[0;34m)\u001b[0m\u001b[0;34m\u001b[0m\u001b[0;34m\u001b[0m\u001b[0m\n\u001b[0m\u001b[1;32m      2\u001b[0m \u001b[0mprint\u001b[0m\u001b[0;34m(\u001b[0m\u001b[0;34m\"Mean Absolute Percentage Error:\"\u001b[0m\u001b[0;34m,\u001b[0m \u001b[0mmape\u001b[0m\u001b[0;34m)\u001b[0m\u001b[0;34m\u001b[0m\u001b[0;34m\u001b[0m\u001b[0m\n",
            "\u001b[0;32m<ipython-input-46-f26e41e07055>\u001b[0m in \u001b[0;36mmean_absolute_percentage_error\u001b[0;34m(y_test, lstm_y_pred)\u001b[0m\n\u001b[1;32m      1\u001b[0m \u001b[0;32mdef\u001b[0m \u001b[0mmean_absolute_percentage_error\u001b[0m\u001b[0;34m(\u001b[0m\u001b[0my_test\u001b[0m\u001b[0;34m,\u001b[0m \u001b[0mlstm_y_pred\u001b[0m\u001b[0;34m)\u001b[0m\u001b[0;34m:\u001b[0m\u001b[0;34m\u001b[0m\u001b[0;34m\u001b[0m\u001b[0m\n\u001b[1;32m      2\u001b[0m     \u001b[0my_test\u001b[0m\u001b[0;34m,\u001b[0m \u001b[0mlstm_y_pred\u001b[0m \u001b[0;34m=\u001b[0m \u001b[0mnp\u001b[0m\u001b[0;34m.\u001b[0m\u001b[0marray\u001b[0m\u001b[0;34m(\u001b[0m\u001b[0my_test\u001b[0m\u001b[0;34m)\u001b[0m\u001b[0;34m,\u001b[0m \u001b[0mnp\u001b[0m\u001b[0;34m.\u001b[0m\u001b[0marray\u001b[0m\u001b[0;34m(\u001b[0m\u001b[0mlstm_y_pred\u001b[0m\u001b[0;34m)\u001b[0m\u001b[0;34m\u001b[0m\u001b[0;34m\u001b[0m\u001b[0m\n\u001b[0;32m----> 3\u001b[0;31m     \u001b[0;32mreturn\u001b[0m \u001b[0mnp\u001b[0m\u001b[0;34m.\u001b[0m\u001b[0mmean\u001b[0m\u001b[0;34m(\u001b[0m\u001b[0mnp\u001b[0m\u001b[0;34m.\u001b[0m\u001b[0mabs\u001b[0m\u001b[0;34m(\u001b[0m\u001b[0;34m(\u001b[0m\u001b[0my_test\u001b[0m \u001b[0;34m-\u001b[0m \u001b[0mlstm_y_pred\u001b[0m\u001b[0;34m)\u001b[0m \u001b[0;34m/\u001b[0m \u001b[0my_test\u001b[0m\u001b[0;34m)\u001b[0m\u001b[0;34m)\u001b[0m \u001b[0;34m*\u001b[0m \u001b[0;36m100\u001b[0m\u001b[0;34m\u001b[0m\u001b[0;34m\u001b[0m\u001b[0m\n\u001b[0m",
            "\u001b[0;31mTypeError\u001b[0m: unsupported operand type(s) for -: 'ellipsis' and 'ellipsis'"
          ]
        }
      ]
    },
    {
      "cell_type": "markdown",
      "source": [
        "## XGBOOST"
      ],
      "metadata": {
        "id": "j0yFG2KAYWEU"
      }
    },
    {
      "cell_type": "markdown",
      "source": [
        "Here I split stock data frame into three subsets: training ( 70%\n",
        " ), validation ( 15%\n",
        " ) and test ( 15%\n",
        " ) sets. I calculated split indices and create three separate frames (train_df, valid_df, test_df). All three frames have been ploted in the chart below."
      ],
      "metadata": {
        "id": "MxbNLp8ydiYW"
      }
    },
    {
      "cell_type": "code",
      "execution_count": null,
      "metadata": {
        "id": "Qgz3kyPQAcg9",
        "colab": {
          "base_uri": "https://localhost:8080/",
          "height": 542
        },
        "outputId": "f11484bd-461a-4ccb-de7d-6ab22259e35b"
      },
      "outputs": [
        {
          "output_type": "display_data",
          "data": {
            "text/html": [
              "<html>\n",
              "<head><meta charset=\"utf-8\" /></head>\n",
              "<body>\n",
              "    <div>            <script src=\"https://cdnjs.cloudflare.com/ajax/libs/mathjax/2.7.5/MathJax.js?config=TeX-AMS-MML_SVG\"></script><script type=\"text/javascript\">if (window.MathJax && window.MathJax.Hub && window.MathJax.Hub.Config) {window.MathJax.Hub.Config({SVG: {font: \"STIX-Web\"}});}</script>                <script type=\"text/javascript\">window.PlotlyConfig = {MathJaxConfig: 'local'};</script>\n",
              "        <script charset=\"utf-8\" src=\"https://cdn.plot.ly/plotly-2.24.1.min.js\"></script>                <div id=\"f861e47e-d2ab-46dc-a908-fddd4e104048\" class=\"plotly-graph-div\" style=\"height:525px; width:100%;\"></div>            <script type=\"text/javascript\">                                    window.PLOTLYENV=window.PLOTLYENV || {};                                    if (document.getElementById(\"f861e47e-d2ab-46dc-a908-fddd4e104048\")) {                    Plotly.newPlot(                        \"f861e47e-d2ab-46dc-a908-fddd4e104048\",                        [{\"name\":\"Training\",\"x\":[\"2020-01-02\",\"2020-01-03\",\"2020-01-06\",\"2020-01-07\",\"2020-01-08\",\"2020-01-09\",\"2020-01-10\",\"2020-01-13\",\"2020-01-15\",\"2020-01-16\",\"2020-01-17\",\"2020-01-20\",\"2020-01-21\",\"2020-01-22\",\"2020-01-23\",\"2020-01-24\",\"2020-01-27\",\"2020-01-28\",\"2020-01-29\",\"2020-01-30\",\"2020-01-31\",\"2020-02-03\",\"2020-02-04\",\"2020-02-05\",\"2020-02-06\",\"2020-02-07\",\"2020-02-10\",\"2020-02-11\",\"2020-02-12\",\"2020-02-13\",\"2020-02-14\",\"2020-02-17\",\"2020-02-18\",\"2020-02-19\",\"2020-02-20\",\"2020-02-21\",\"2020-02-24\",\"2020-02-25\",\"2020-02-26\",\"2020-02-27\",\"2020-02-28\",\"2020-03-02\",\"2020-03-03\",\"2020-03-04\",\"2020-03-05\",\"2020-03-06\",\"2020-03-09\",\"2020-03-10\",\"2020-03-11\",\"2020-03-12\",\"2020-03-13\",\"2020-03-16\",\"2020-03-17\",\"2020-03-18\",\"2020-03-19\",\"2020-03-23\",\"2020-03-24\",\"2020-03-25\",\"2020-03-26\",\"2020-03-27\",\"2020-03-30\",\"2020-03-31\",\"2020-04-01\",\"2020-04-02\",\"2020-04-03\",\"2020-04-06\",\"2020-04-07\",\"2020-04-08\",\"2020-04-13\",\"2020-04-14\",\"2020-04-15\",\"2020-04-16\",\"2020-04-17\",\"2020-04-20\",\"2020-04-21\",\"2020-04-22\",\"2020-04-23\",\"2020-04-24\",\"2020-04-27\",\"2020-04-28\",\"2020-04-29\",\"2020-04-30\",\"2020-05-04\",\"2020-05-05\",\"2020-05-06\",\"2020-05-07\",\"2020-05-08\",\"2020-05-11\",\"2020-05-12\",\"2020-05-13\",\"2020-05-14\",\"2020-05-15\",\"2020-05-18\",\"2020-05-19\",\"2020-05-20\",\"2020-05-21\",\"2020-05-22\",\"2020-05-26\",\"2020-05-27\",\"2020-05-28\",\"2020-05-29\",\"2020-06-01\",\"2020-06-02\",\"2020-06-03\",\"2020-06-04\",\"2020-06-05\",\"2020-06-08\",\"2020-06-09\",\"2020-06-10\",\"2020-06-11\",\"2020-06-12\",\"2020-06-15\",\"2020-06-16\",\"2020-06-17\",\"2020-06-18\",\"2020-06-19\",\"2020-06-22\",\"2020-06-23\",\"2020-06-24\",\"2020-06-25\",\"2020-06-26\",\"2020-06-29\",\"2020-06-30\",\"2020-07-01\",\"2020-07-02\",\"2020-07-03\",\"2020-07-06\",\"2020-07-07\",\"2020-07-08\",\"2020-07-09\",\"2020-07-10\",\"2020-07-13\",\"2020-07-14\",\"2020-07-15\",\"2020-07-16\",\"2020-07-17\",\"2020-07-20\",\"2020-07-21\",\"2020-07-22\",\"2020-07-23\",\"2020-07-24\",\"2020-07-27\",\"2020-07-28\",\"2020-07-29\",\"2020-07-30\",\"2020-08-03\",\"2020-08-04\",\"2020-08-05\",\"2020-08-06\",\"2020-08-07\",\"2020-08-10\",\"2020-08-11\",\"2020-08-12\",\"2020-08-14\",\"2020-08-17\",\"2020-08-18\",\"2020-08-19\",\"2020-08-21\",\"2020-08-24\",\"2020-08-25\",\"2020-08-26\",\"2020-08-27\",\"2020-08-28\",\"2020-08-31\",\"2020-09-01\",\"2020-09-02\",\"2020-09-03\",\"2020-09-04\",\"2020-09-07\",\"2020-09-08\",\"2020-09-09\",\"2020-09-10\",\"2020-09-11\",\"2020-09-14\",\"2020-09-15\",\"2020-09-16\",\"2020-09-17\",\"2020-09-18\",\"2020-09-21\",\"2020-09-22\",\"2020-09-23\",\"2020-09-24\",\"2020-09-25\",\"2020-09-28\",\"2020-09-29\",\"2020-09-30\",\"2020-10-01\",\"2020-10-02\",\"2020-10-05\",\"2020-10-06\",\"2020-10-07\",\"2020-10-08\",\"2020-10-09\",\"2020-10-12\",\"2020-10-13\",\"2020-10-14\",\"2020-10-16\",\"2020-10-19\",\"2020-10-20\",\"2020-10-21\",\"2020-10-22\",\"2020-10-23\",\"2020-10-26\",\"2020-10-27\",\"2020-10-28\",\"2020-10-30\",\"2020-11-02\",\"2020-11-03\",\"2020-11-04\",\"2020-11-05\",\"2020-11-06\",\"2020-11-09\",\"2020-11-10\",\"2020-11-11\",\"2020-11-12\",\"2020-11-13\",\"2020-11-16\",\"2020-11-17\",\"2020-11-18\",\"2020-11-19\",\"2020-11-20\",\"2020-11-23\",\"2020-11-24\",\"2020-11-25\",\"2020-11-26\",\"2020-11-27\",\"2020-11-30\",\"2020-12-01\",\"2020-12-02\",\"2020-12-03\",\"2020-12-04\",\"2020-12-07\",\"2020-12-08\",\"2020-12-09\",\"2020-12-10\",\"2020-12-11\",\"2020-12-14\",\"2020-12-15\",\"2020-12-16\",\"2020-12-17\",\"2020-12-18\",\"2020-12-21\",\"2020-12-22\",\"2020-12-23\",\"2020-12-24\",\"2020-12-25\",\"2020-12-28\",\"2020-12-29\",\"2020-12-30\",\"2020-12-31\",\"2021-01-04\",\"2021-01-05\",\"2021-01-06\",\"2021-01-07\",\"2021-01-08\",\"2021-01-11\",\"2021-01-12\",\"2021-01-13\",\"2021-01-15\",\"2021-01-18\",\"2021-01-19\",\"2021-01-20\",\"2021-01-21\",\"2021-01-22\",\"2021-01-25\",\"2021-01-26\",\"2021-01-27\",\"2021-01-28\",\"2021-01-29\",\"2021-02-01\",\"2021-02-02\",\"2021-02-03\",\"2021-02-04\",\"2021-02-05\",\"2021-02-08\",\"2021-02-09\",\"2021-02-10\",\"2021-02-11\",\"2021-02-12\",\"2021-02-15\",\"2021-02-16\",\"2021-02-17\",\"2021-02-18\",\"2021-02-19\",\"2021-02-22\",\"2021-02-23\",\"2021-02-24\",\"2021-02-25\",\"2021-02-26\",\"2021-03-01\",\"2021-03-02\",\"2021-03-03\",\"2021-03-04\",\"2021-03-05\",\"2021-03-08\",\"2021-03-09\",\"2021-03-10\",\"2021-03-11\",\"2021-03-12\",\"2021-03-15\",\"2021-03-16\",\"2021-03-17\",\"2021-03-18\",\"2021-03-19\",\"2021-03-22\",\"2021-03-23\",\"2021-03-24\",\"2021-03-25\",\"2021-03-26\",\"2021-03-29\",\"2021-03-30\",\"2021-03-31\",\"2021-04-01\",\"2021-04-02\",\"2021-04-05\",\"2021-04-06\",\"2021-04-07\",\"2021-04-08\",\"2021-04-12\",\"2021-04-13\",\"2021-04-14\",\"2021-04-15\",\"2021-04-16\",\"2021-04-19\",\"2021-04-20\",\"2021-04-21\",\"2021-04-22\",\"2021-04-23\",\"2021-04-26\",\"2021-04-27\",\"2021-04-28\",\"2021-04-29\",\"2021-04-30\",\"2021-05-03\",\"2021-05-04\",\"2021-05-05\",\"2021-05-06\",\"2021-05-07\",\"2021-05-10\",\"2021-05-11\",\"2021-05-17\",\"2021-05-18\",\"2021-05-19\",\"2021-05-20\",\"2021-05-21\",\"2021-05-24\",\"2021-05-25\",\"2021-05-26\",\"2021-05-27\",\"2021-05-28\",\"2021-05-31\",\"2021-06-01\",\"2021-06-02\",\"2021-06-03\",\"2021-06-04\",\"2021-06-07\",\"2021-06-08\",\"2021-06-09\",\"2021-06-10\",\"2021-06-11\",\"2021-06-14\",\"2021-06-15\",\"2021-06-16\",\"2021-06-17\",\"2021-06-18\",\"2021-06-21\",\"2021-06-22\",\"2021-06-23\",\"2021-06-24\",\"2021-06-25\",\"2021-06-28\",\"2021-06-29\",\"2021-06-30\",\"2021-07-01\",\"2021-07-02\",\"2021-07-05\",\"2021-07-06\",\"2021-07-07\",\"2021-07-08\",\"2021-07-09\",\"2021-07-12\",\"2021-07-13\",\"2021-07-14\",\"2021-07-15\",\"2021-07-16\",\"2021-07-19\",\"2021-07-22\",\"2021-07-23\",\"2021-07-26\",\"2021-07-27\",\"2021-07-28\",\"2021-07-29\",\"2021-07-30\",\"2021-08-02\",\"2021-08-03\",\"2021-08-04\",\"2021-08-05\",\"2021-08-06\",\"2021-08-09\",\"2021-08-11\",\"2021-08-12\",\"2021-08-16\",\"2021-08-17\",\"2021-08-18\",\"2021-08-19\",\"2021-08-20\",\"2021-08-23\",\"2021-08-24\",\"2021-08-25\",\"2021-08-26\",\"2021-08-27\",\"2021-08-30\",\"2021-08-31\",\"2021-09-01\",\"2021-09-02\",\"2021-09-03\",\"2021-09-06\",\"2021-09-07\",\"2021-09-08\",\"2021-09-09\",\"2021-09-10\",\"2021-09-13\",\"2021-09-14\",\"2021-09-15\",\"2021-09-16\",\"2021-09-17\",\"2021-09-20\",\"2021-09-21\",\"2021-09-22\",\"2021-09-23\",\"2021-09-24\",\"2021-09-27\",\"2021-09-28\",\"2021-09-29\",\"2021-09-30\",\"2021-10-01\",\"2021-10-04\",\"2021-10-05\",\"2021-10-06\",\"2021-10-07\",\"2021-10-08\",\"2021-10-11\",\"2021-10-12\",\"2021-10-13\",\"2021-10-14\",\"2021-10-19\",\"2021-10-20\",\"2021-10-21\",\"2021-10-22\",\"2021-10-25\",\"2021-10-26\",\"2021-10-27\",\"2021-10-28\",\"2021-10-29\",\"2021-11-01\",\"2021-11-02\",\"2021-11-03\",\"2021-11-04\",\"2021-11-05\",\"2021-11-08\",\"2021-11-09\",\"2021-11-10\",\"2021-11-11\",\"2021-11-12\",\"2021-11-15\",\"2021-11-16\",\"2021-11-17\",\"2021-11-18\",\"2021-11-19\",\"2021-11-22\",\"2021-11-23\",\"2021-11-24\",\"2021-11-25\",\"2021-11-26\",\"2021-11-29\",\"2021-11-30\",\"2021-12-01\",\"2021-12-02\",\"2021-12-03\",\"2021-12-06\",\"2021-12-07\",\"2021-12-08\",\"2021-12-09\",\"2021-12-10\",\"2021-12-13\",\"2021-12-14\",\"2021-12-15\",\"2021-12-16\",\"2021-12-20\",\"2021-12-21\",\"2021-12-22\",\"2021-12-23\",\"2021-12-24\",\"2021-12-27\",\"2021-12-28\",\"2021-12-29\",\"2021-12-30\",\"2021-12-31\",\"2022-01-03\",\"2022-01-04\",\"2022-01-05\",\"2022-01-06\",\"2022-01-07\",\"2022-01-10\",\"2022-01-11\",\"2022-01-12\",\"2022-01-13\",\"2022-01-14\",\"2022-01-17\",\"2022-01-18\",\"2022-01-19\",\"2022-01-20\",\"2022-01-21\",\"2022-01-24\",\"2022-01-25\",\"2022-01-26\",\"2022-01-27\",\"2022-01-28\",\"2022-01-31\",\"2022-02-01\",\"2022-02-02\",\"2022-02-03\",\"2022-02-04\",\"2022-02-07\",\"2022-02-08\",\"2022-02-09\",\"2022-02-10\",\"2022-02-11\",\"2022-02-14\",\"2022-02-15\",\"2022-02-16\",\"2022-02-17\",\"2022-02-18\",\"2022-02-21\",\"2022-02-22\",\"2022-02-23\",\"2022-02-24\",\"2022-02-25\",\"2022-02-28\",\"2022-03-01\",\"2022-03-02\",\"2022-03-03\",\"2022-03-04\",\"2022-03-07\",\"2022-03-08\",\"2022-03-09\",\"2022-03-10\",\"2022-03-11\",\"2022-03-14\",\"2022-03-15\",\"2022-03-16\",\"2022-03-17\",\"2022-03-18\",\"2022-03-21\",\"2022-03-22\",\"2022-03-23\",\"2022-03-24\",\"2022-03-25\",\"2022-03-28\",\"2022-03-29\",\"2022-03-30\",\"2022-03-31\",\"2022-04-01\",\"2022-04-04\",\"2022-04-05\",\"2022-04-06\",\"2022-04-07\",\"2022-04-08\",\"2022-04-11\",\"2022-04-12\",\"2022-04-13\",\"2022-04-14\",\"2022-04-15\",\"2022-04-18\",\"2022-04-19\",\"2022-04-20\",\"2022-04-21\",\"2022-04-22\",\"2022-04-25\",\"2022-04-26\",\"2022-04-27\",\"2022-04-28\",\"2022-04-29\",\"2022-05-04\",\"2022-05-05\",\"2022-05-06\",\"2022-05-09\",\"2022-05-10\",\"2022-05-11\",\"2022-05-12\",\"2022-05-13\",\"2022-05-16\",\"2022-05-17\",\"2022-05-18\",\"2022-05-19\",\"2022-05-20\",\"2022-05-23\",\"2022-05-24\",\"2022-05-25\",\"2022-05-26\",\"2022-05-27\",\"2022-05-30\",\"2022-05-31\",\"2022-06-01\",\"2022-06-02\",\"2022-06-03\",\"2022-06-06\",\"2022-06-07\",\"2022-06-08\",\"2022-06-09\",\"2022-06-10\",\"2022-06-13\",\"2022-06-14\",\"2022-06-15\",\"2022-06-16\",\"2022-06-17\",\"2022-06-20\",\"2022-06-21\",\"2022-06-22\",\"2022-06-23\",\"2022-06-24\",\"2022-06-27\",\"2022-06-28\",\"2022-06-29\",\"2022-06-30\",\"2022-07-01\",\"2022-07-04\",\"2022-07-05\",\"2022-07-06\",\"2022-07-07\",\"2022-07-08\",\"2022-07-11\",\"2022-07-12\",\"2022-07-13\",\"2022-07-14\",\"2022-07-15\",\"2022-07-18\",\"2022-07-19\",\"2022-07-20\",\"2022-07-21\",\"2022-07-22\",\"2022-07-26\",\"2022-07-27\",\"2022-07-28\",\"2022-07-29\",\"2022-08-01\",\"2022-08-02\",\"2022-08-03\",\"2022-08-04\",\"2022-08-05\",\"2022-08-08\",\"2022-08-09\",\"2022-08-10\",\"2022-08-11\",\"2022-08-12\",\"2022-08-15\",\"2022-08-16\",\"2022-08-17\",\"2022-08-18\",\"2022-08-19\",\"2022-08-22\",\"2022-08-23\",\"2022-08-24\",\"2022-08-25\",\"2022-08-26\",\"2022-08-29\",\"2022-08-30\",\"2022-08-31\",\"2022-09-01\",\"2022-09-02\",\"2022-09-05\",\"2022-09-06\",\"2022-09-07\",\"2022-09-08\",\"2022-09-09\",\"2022-09-12\",\"2022-09-13\",\"2022-09-14\",\"2022-09-15\",\"2022-09-16\",\"2022-09-19\",\"2022-09-20\",\"2022-09-21\",\"2022-09-22\",\"2022-09-23\",\"2022-09-26\",\"2022-09-27\",\"2022-09-28\",\"2022-09-29\",\"2022-09-30\",\"2022-10-03\",\"2022-10-04\",\"2022-10-05\",\"2022-10-06\",\"2022-10-07\",\"2022-10-10\",\"2022-10-11\",\"2022-10-12\",\"2022-10-13\",\"2022-10-14\",\"2022-10-17\",\"2022-10-18\",\"2022-10-19\",\"2022-10-20\",\"2022-10-21\",\"2022-10-24\",\"2022-10-25\",\"2022-10-26\",\"2022-10-27\",\"2022-10-28\",\"2022-10-31\",\"2022-11-01\",\"2022-11-02\",\"2022-11-03\",\"2022-11-04\",\"2022-11-07\",\"2022-11-08\",\"2022-11-09\",\"2022-11-10\",\"2022-11-11\",\"2022-11-14\",\"2022-11-15\",\"2022-11-16\",\"2022-11-17\"],\"y\":[7042.642,6994.84,6967.192,6921.921,6892.276,6884.589,6867.617,6880.824,6904.554,6921.025,6902.41,6939.534,6953.457,6974.912,6987.92,7015.007,7053.893,7059.653,7048.026,7055.671,7080.147,7089.393,7076.307,7073.439,7070.321,7103.535,7092.227,7087.229,7093.796,7108.453,7115.516,7136.823,7151.849,7160.622,7169.745,7171.172,7175.098,7150.066,7133.995,7153.686,7174.683,7206.194,7180.633,7162.205,7113.694,7028.747,6925.354,6862.225,6912.473,6813.779,6623.861,6349.514,6119.135,6158.525,6141.039,6197.219,6319.417,6355.906,6426.853,6412.601,6434.926,6485.971,6487.17,6340.659,6254.182,6227.081,6260.247,6244.81,6247.119,6235.944,6243.351,6262.122,6279.667,6342.21,6325.916,6336.335,6365.969,6359.958,6351.735,6293.249,6237.077,6212.572,6236.931,6245.141,6240.196,6285.422,6268.361,6290.069,6329.467,6367.479,6430.959,6480.845,6432.914,6427.318,6453.933,6446.513,6475.044,6478.035,6465.207,6440.399,6489.146,6521.003,6570.01,6575.208,6623.604,6647.767,6642.431,6624.681,6636.222,6655.192,6695.616,6699.281,6702.58,6725.002,6717.165,6701.676,6698.282,6725.639,6694.663,6643.563,6608.152,6627.972,6627.631,6563.453,6549.891,6573.206,6584.777,6573.232,6603.689,6606.311,6610.62,6615.226,6591.726,6573.847,6559.237,6552.094,6576.276,6528.068,6553.683,6563.984,6596.28,6600.653,6582.103,6579.736,6587.534,6586.812,6609.502,6686.525,6659.632,6664.849,6702.884,6718.841,6760.859,6757.811,6689.103,6670.978,6680.618,6705.805,6707.089,6721.851,6736.295,6738.585,6758.037,6766.456,6754.969,6768.329,6753.482,6767.328,6761.582,6745.397,6791.938,6818.663,6866.346,6894.639,6898.959,6867.456,6852.999,6881.191,6845.151,6811.05,6832.673,6794.08,6810.394,6775.82,6827.252,6750.303,6579.998,6569.48,6689.48,6741.765,6675.0,6671.098,6677.797,6661.333,6654.197,6662.9,6676.056,6682.41,6649.346,6651.569,6646.143,6660.9,6647.492,6625.174,6612.011,6557.479,6540.796,6546.609,6546.448,6536.692,6566.646,6604.487,6619.048,6623.291,6628.262,6644.349,6672.553,6697.672,6715.367,6739.521,6744.675,6747.986,6754.111,6807.723,6774.497,6781.405,6819.958,6815.089,6823.482,6823.059,6827.194,6854.535,6873.624,6896.113,6885.843,6851.258,6837.38,6849.192,6815.803,6826.363,6850.687,6867.953,6841.834,6854.909,6866.665,6867.905,6854.194,6852.248,6851.632,6884.956,6807.968,6765.164,6743.705,6719.628,6743.144,6731.828,6733.199,6712.768,6717.205,6684.206,6716.557,6704.079,6698.037,6649.774,6678.532,6643.683,6615.975,6652.326,6654.776,6635.248,6597.941,6606.549,6605.24,6623.534,6611.644,6618.695,6651.877,6649.136,6629.608,6657.435,6673.516,6666.227,6710.939,6698.212,6693.965,6696.979,6692.646,6691.505,6674.747,6655.633,6665.394,6686.901,6723.982,6763.979,6775.604,6775.665,6788.65,6820.794,6828.751,6829.256,6791.27,6799.132,6818.306,6807.771,6887.415,6964.045,7077.897,7080.33,7080.766,7093.412,7098.125,7089.159,7135.773,7151.467,7175.538,7210.284,7194.833,7164.486,7138.098,7123.588,7105.755,7083.513,7031.572,7001.833,6973.525,6991.894,7035.459,7066.755,7072.769,7069.294,7084.492,7131.673,7161.721,7212.531,7246.059,7233.423,7268.37,7247.297,7297.379,7360.111,7393.969,7381.174,7391.243,7409.618,7431.209,7427.201,7397.921,7385.246,7399.823,7441.887,7394.232,7399.089,7375.958,7369.984,7369.071,7371.627,7367.448,7365.074,7373.957,7377.376,7386.503,7363.059,7337.763,7323.249,7320.46,7322.82,7327.225,7313.518,7298.538,7307.108,7295.626,7264.546,7243.232,7234.484,7234.763,7234.215,7245.45,7257.264,7275.103,7253.817,7252.193,7252.416,7235.782,7227.931,7263.705,7292.351,7286.405,7283.459,7235.573,7256.352,7265.696,7287.56,7307.793,7298.751,7287.415,7277.089,7292.364,7299.839,7311.319,7285.26,7283.135,7302.997,7300.491,7295.584,7311.562,7323.486,7302.541,7311.046,7311.02,7313.364,7351.06,7354.417,7356.766,7348.994,7335.995,7347.445,7321.875,7301.071,7284.684,7282.758,7285.892,7283.129,7253.73,7240.108,7244.852,7259.207,7263.427,7244.065,7209.664,7255.314,7255.85,7281.554,7248.001,7266.912,7281.63,7288.943,7286.593,7272.465,7283.367,7268.53,7263.283,7253.921,7243.886,7226.835,7222.077,7172.367,7107.066,7077.622,7002.605,7002.264,6981.945,7016.363,7046.693,7038.333,7013.313,7010.556,7029.68,7000.218,7004.698,6999.8,7022.112,7035.141,7036.818,7047.438,7038.345,7042.521,7024.9,7032.885,7036.18,7037.422,7052.637,7054.392,7066.807,7069.854,7066.419,7045.732,7041.956,7024.349,7022.406,6982.468,6977.506,6967.067,6964.317,6975.892,6970.976,6973.75,6968.927,6958.192,6944.028,6955.576,6898.207,6919.059,6913.083,6932.814,6959.12,6994.137,7060.233,7044.742,6975.973,6959.469,6977.252,6959.272,6981.787,6977.74,6989.488,7031.088,7078.649,7098.53,7088.641,7081.549,7082.076,7069.518,7071.097,7104.417,7087.239,7118.317,7118.779,7100.513,7091.389,7112.743,7116.79,7096.023,7096.019,7091.429,7096.496,7111.105,7117.62,7123.224,7120.718,7124.674,7151.539,7161.425,7152.709,7154.42,7129.934,7111.292,7065.38,7072.446,7081.501,7064.74,7130.15,7132.771,7119.253,7117.232,7104.615,7075.412,7089.328,7088.668,7134.082,7155.562,7140.366,7159.238,7135.496,7096.569,7098.477,7094.311,7109.867,7131.364,7067.503,7079.84,7090.483,7105.337,7088.712,7092.148,7114.282,7127.954,7153.552,7152.28,7173.197,7186.981,7225.003,7264.665,7251.595,7231.974,7227.925,7231.479,7234.513,7226.497,7228.892,7239.645,7244.179,7236.098,7255.386,7303.938,7278.984,7276.849,7279.469,7303.266,7266.384,7280.226,7320.976,7306.515,7282.257,7305.822,7316.353,7317.207,7320.313,7331.261,7359.872,7357.732,7356.664,7369.361,7374.944,7385.589,7369.399,7343.228,7340.877,7324.486,7341.337,7340.329,7350.367,7364.089,7383.064,7415.11,7483.67,7460.516,7454.283,7461.437,7545.35,7562.39,7541.067,7530.529,7520.852,7490.727,7489.394,7491.066,7512.199,7493.08,7517.773,7512.156,7520.711,7522.287,7529.554,7545.606,7558.809,7584.157,7583.409,7561.305,7597.48,7620.147,7671.371,7694.411,7689.814,7700.148,7732.723,7746.259,7745.208,7751.81,7769.596,7748.82,7753.67,7761.097,7778.013,7784.187,7805.498,7802.927,7832.733,7841.738,7919.806,7932.963,7915.008,7911.446,7920.445,7949.412,7970.567,7998.964,8014.849,8108.028,8129.937,8107.419,8116.597,8125.061,8215.548,8193.997,8200.49,8188.022,8185.621,8182.233,8152.465,8124.217,8127.092,8126.119,8163.329,8153.456,8191.764,8268.047,8306.377,8322.672,8347.771,8318.846,8304.293,8242.039,8167.015,8165.03,8107.276,8147.812,8157.486,8104.408,8112.109,8126.42,8129.305,8130.761,8119.38,8100.25,8118.434,8123.438,8147.891,8173.573,8167.033,8190.956,8224.475,8267.834,8248.08,8245.623,8230.106,8219.906,8219.281,8188.458,8161.783,8127.243,8135.241,8093.953,8057.723,8055.139],\"type\":\"scatter\"},{\"name\":\"Validation\",\"x\":[\"2022-11-18\",\"2022-11-21\",\"2022-11-22\",\"2022-11-23\",\"2022-11-24\",\"2022-11-25\",\"2022-11-28\",\"2022-11-29\",\"2022-11-30\",\"2022-12-01\",\"2022-12-02\",\"2022-12-05\",\"2022-12-06\",\"2022-12-07\",\"2022-12-08\",\"2022-12-09\",\"2022-12-12\",\"2022-12-13\",\"2022-12-14\",\"2022-12-15\",\"2022-12-16\",\"2022-12-19\",\"2022-12-20\",\"2022-12-21\",\"2022-12-22\",\"2022-12-23\",\"2022-12-26\",\"2022-12-27\",\"2022-12-28\",\"2022-12-29\",\"2022-12-30\",\"2023-01-02\",\"2023-01-03\",\"2023-01-04\",\"2023-01-05\",\"2023-01-06\",\"2023-01-09\",\"2023-01-10\",\"2023-01-11\",\"2023-01-12\",\"2023-01-13\",\"2023-01-16\",\"2023-01-17\",\"2023-01-18\",\"2023-01-19\",\"2023-01-20\",\"2023-01-23\",\"2023-01-24\",\"2023-01-25\",\"2023-01-26\",\"2023-01-27\",\"2023-01-30\",\"2023-01-31\",\"2023-02-01\",\"2023-02-02\",\"2023-02-03\",\"2023-02-06\",\"2023-02-07\",\"2023-02-08\",\"2023-02-09\",\"2023-02-10\",\"2023-02-13\",\"2023-02-14\",\"2023-02-15\",\"2023-02-16\",\"2023-02-17\",\"2023-02-20\",\"2023-02-21\",\"2023-02-22\",\"2023-02-23\",\"2023-02-24\",\"2023-02-27\",\"2023-02-28\",\"2023-03-01\",\"2023-03-02\",\"2023-03-03\",\"2023-03-06\",\"2023-03-07\",\"2023-03-08\",\"2023-03-09\",\"2023-03-10\",\"2023-03-13\",\"2023-03-14\",\"2023-03-15\",\"2023-03-16\",\"2023-03-17\",\"2023-03-21\",\"2023-03-22\",\"2023-03-23\",\"2023-03-24\",\"2023-03-27\",\"2023-03-28\",\"2023-03-29\",\"2023-03-30\",\"2023-03-31\",\"2023-04-03\",\"2023-04-04\",\"2023-04-05\",\"2023-04-06\",\"2023-04-07\",\"2023-04-10\",\"2023-04-11\",\"2023-04-12\",\"2023-04-13\",\"2023-04-14\",\"2023-04-17\",\"2023-04-18\",\"2023-04-19\",\"2023-04-20\",\"2023-04-24\",\"2023-04-25\",\"2023-04-26\",\"2023-04-27\",\"2023-04-28\",\"2023-05-02\",\"2023-05-03\",\"2023-05-04\",\"2023-05-05\",\"2023-05-08\",\"2023-05-09\",\"2023-05-10\",\"2023-05-11\",\"2023-05-12\",\"2023-05-15\",\"2023-05-16\",\"2023-05-17\",\"2023-05-18\",\"2023-05-19\",\"2023-05-22\",\"2023-05-23\",\"2023-05-24\",\"2023-05-25\",\"2023-05-26\",\"2023-05-29\",\"2023-05-30\",\"2023-05-31\",\"2023-06-01\",\"2023-06-02\",\"2023-06-05\",\"2023-06-06\",\"2023-06-07\",\"2023-06-08\",\"2023-06-09\",\"2023-06-12\",\"2023-06-13\",\"2023-06-14\",\"2023-06-15\",\"2023-06-16\",\"2023-06-19\",\"2023-06-20\",\"2023-06-21\",\"2023-06-22\",\"2023-06-23\",\"2023-06-26\",\"2023-06-27\"],\"y\":[8076.075,8113.947,8099.378,8094.194,8081.064,8076.048,8093.58,8094.267,8083.248,8063.294,8067.412,8078.204,8052.101,8032.329,8029.491,8067.185,8122.294,8106.3,8109.073,8109.538,8122.694,8130.471,8129.81,8102.369,8096.448,8073.982,8068.196,8086.898,8076.905,8115.246,8113.564,8093.691,8068.601,8051.085,8088.196,8103.646,8104.166,8108.464,8117.692,8235.332,8285.995,8303.66,8280.692,8226.926,8233.214,8246.903,8200.396,8239.183,8225.664,8275.367,8352.761,8318.435,8275.965,8242.015,8185.109,8221.715,8202.205,8179.775,8118.66,8070.008,8046.734,8098.31,8160.571,8117.277,8124.41,8132.258,8096.939,8091.205,8043.944,8039.941,8039.991,8017.94,8045.714,8031.336,8085.897,8100.206,8128.076,8106.12,8095.195,8111.608,8086.691,8093.043,8097.018,8089.396,8084.213,8073.806,8049.854,8014.196,8044.407,8066.37,8103.812,8096.971,8115.474,8125.747,8126.406,8135.576,8212.168,8253.078,8219.225,8234.266,8224.093,8230.555,8213.004,8205.075,8152.102,8142.653,8220.0,8202.834,8243.939,8248.271,8278.656,8267.2,8302.349,8279.13,8293.916,8356.652,8355.208,8368.365,8370.771,8390.333,8384.429,8405.538,8356.082,8370.934,8413.455,8466.724,8492.206,8540.491,8550.072,8577.129,8590.651,8665.425,8675.312,8701.07,8718.573,8731.218,8809.879,8810.2,8823.767,8793.886,8774.959,8775.091,8784.887,8799.535,8818.326,8817.18,8817.245,8815.36,8783.097,8864.551,8894.82,8909.438,8923.313,8914.19,8922.087],\"type\":\"scatter\"},{\"name\":\"Test\",\"x\":[\"2023-06-30\",\"2023-07-03\",\"2023-07-04\",\"2023-07-05\",\"2023-07-06\",\"2023-07-07\",\"2023-07-10\",\"2023-07-11\",\"2023-07-12\",\"2023-07-13\",\"2023-07-14\",\"2023-07-17\",\"2023-07-20\",\"2023-07-21\",\"2023-07-24\",\"2023-07-26\",\"2023-07-27\",\"2023-07-28\",\"2023-07-31\",\"2023-08-01\",\"2023-08-02\",\"2023-08-03\",\"2023-08-04\",\"2023-08-07\",\"2023-08-08\",\"2023-08-09\",\"2023-08-10\",\"2023-08-11\",\"2023-08-14\",\"2023-08-15\",\"2023-08-16\",\"2023-08-17\",\"2023-08-18\",\"2023-08-21\",\"2023-08-22\",\"2023-08-23\",\"2023-08-24\",\"2023-08-25\",\"2023-08-28\",\"2023-08-29\",\"2023-08-30\",\"2023-08-31\",\"2023-09-01\",\"2023-09-04\",\"2023-09-05\",\"2023-09-06\",\"2023-09-07\",\"2023-09-08\",\"2023-09-11\",\"2023-09-12\",\"2023-09-13\",\"2023-09-14\",\"2023-09-15\",\"2023-09-18\",\"2023-09-19\",\"2023-09-20\",\"2023-09-21\",\"2023-09-22\",\"2023-09-25\",\"2023-09-26\",\"2023-09-28\",\"2023-09-29\",\"2023-10-02\",\"2023-10-03\",\"2023-10-04\",\"2023-10-05\",\"2023-10-06\",\"2023-10-09\",\"2023-10-10\",\"2023-10-11\",\"2023-10-12\",\"2023-10-13\",\"2023-10-16\",\"2023-10-17\",\"2023-10-18\",\"2023-10-19\",\"2023-10-20\",\"2023-10-23\",\"2023-10-24\",\"2023-10-25\",\"2023-10-26\",\"2023-10-27\",\"2023-10-30\",\"2023-10-31\",\"2023-11-01\",\"2023-11-02\",\"2023-11-03\",\"2023-11-06\",\"2023-11-07\",\"2023-11-08\",\"2023-11-09\",\"2023-11-10\",\"2023-11-13\",\"2023-11-14\",\"2023-11-15\",\"2023-11-16\",\"2023-11-17\",\"2023-11-20\",\"2023-11-21\",\"2023-11-22\",\"2023-11-23\",\"2023-11-24\",\"2023-11-27\",\"2023-11-28\",\"2023-11-29\",\"2023-11-30\",\"2023-12-01\",\"2023-12-04\",\"2023-12-05\",\"2023-12-06\",\"2023-12-07\",\"2023-12-08\",\"2023-12-11\",\"2023-12-12\",\"2023-12-13\",\"2023-12-14\",\"2023-12-15\",\"2023-12-18\",\"2023-12-19\",\"2023-12-20\",\"2023-12-21\",\"2023-12-22\",\"2023-12-25\",\"2023-12-26\",\"2023-12-27\",\"2023-12-28\",\"2023-12-29\",\"2024-01-02\",\"2024-01-03\",\"2024-01-04\",\"2024-01-05\",\"2024-01-08\",\"2024-01-09\",\"2024-01-10\",\"2024-01-11\",\"2024-01-12\",\"2024-01-15\",\"2024-01-16\",\"2024-01-17\",\"2024-01-18\",\"2024-01-19\",\"2024-01-22\",\"2024-01-23\",\"2024-01-24\",\"2024-01-25\",\"2024-01-26\",\"2024-01-29\",\"2024-01-30\",\"2024-01-31\",\"2024-02-01\",\"2024-02-02\",\"2024-02-05\",\"2024-02-06\",\"2024-02-07\"],\"y\":[8946.812,8962.321,8967.419,8992.281,8993.469,9022.924,9032.591,9014.294,9010.605,8977.998,8967.696,8987.308,8992.42,9021.406,9027.65,9027.621,9032.119,9048.479,9024.137,8993.789,8960.9,8960.973,8920.348,8922.668,8912.016,8894.005,8904.297,8892.74,8902.887,8924.021,8893.845,8885.076,8886.379,8901.167,8888.213,8871.432,8922.644,8853.202,8895.769,8893.142,8912.115,8940.484,8944.014,8945.759,8972.907,8978.926,8957.861,8968.006,8941.016,8899.732,8878.308,8879.303,8822.14,8771.979,8730.173,8669.297,8543.893,8498.421,8425.637,8452.616,8443.498,8459.027,8488.017,8480.786,8480.295,8481.093,8480.832,8455.136,8469.103,8461.937,8462.374,8485.839,8494.565,8485.236,8501.279,8447.355,8446.114,8498.445,8494.028,8447.003,8447.699,8440.562,8413.704,8397.979,8397.563,8398.888,8419.065,8410.927,8412.257,8407.381,8445.308,8454.437,8459.907,8428.58,8469.914,8472.269,8491.934,8506.248,8544.238,8554.68,8569.472,8544.65,8564.807,8566.112,8567.316,8577.231,8576.747,8576.414,8589.605,8595.953,8587.344,8607.111,8603.73,8622.873,8623.0,8645.014,8650.356,8616.113,8618.343,8624.014,8589.57,8607.199,8600.126,8606.922,8652.057,8727.683,8747.943,8687.837,8614.042,8582.683,8550.357,8511.835,8480.947,8421.604,8431.013,8459.944,8444.439,8448.942,8406.158,8420.049,8411.421,8434.079,8424.068,8428.574,8427.928,8426.194,8429.375,8413.017,8418.413,8385.983,8378.098,8362.443,8353.96,8379.622],\"type\":\"scatter\"}],                        {\"template\":{\"data\":{\"histogram2dcontour\":[{\"type\":\"histogram2dcontour\",\"colorbar\":{\"outlinewidth\":0,\"ticks\":\"\"},\"colorscale\":[[0.0,\"#0d0887\"],[0.1111111111111111,\"#46039f\"],[0.2222222222222222,\"#7201a8\"],[0.3333333333333333,\"#9c179e\"],[0.4444444444444444,\"#bd3786\"],[0.5555555555555556,\"#d8576b\"],[0.6666666666666666,\"#ed7953\"],[0.7777777777777778,\"#fb9f3a\"],[0.8888888888888888,\"#fdca26\"],[1.0,\"#f0f921\"]]}],\"choropleth\":[{\"type\":\"choropleth\",\"colorbar\":{\"outlinewidth\":0,\"ticks\":\"\"}}],\"histogram2d\":[{\"type\":\"histogram2d\",\"colorbar\":{\"outlinewidth\":0,\"ticks\":\"\"},\"colorscale\":[[0.0,\"#0d0887\"],[0.1111111111111111,\"#46039f\"],[0.2222222222222222,\"#7201a8\"],[0.3333333333333333,\"#9c179e\"],[0.4444444444444444,\"#bd3786\"],[0.5555555555555556,\"#d8576b\"],[0.6666666666666666,\"#ed7953\"],[0.7777777777777778,\"#fb9f3a\"],[0.8888888888888888,\"#fdca26\"],[1.0,\"#f0f921\"]]}],\"heatmap\":[{\"type\":\"heatmap\",\"colorbar\":{\"outlinewidth\":0,\"ticks\":\"\"},\"colorscale\":[[0.0,\"#0d0887\"],[0.1111111111111111,\"#46039f\"],[0.2222222222222222,\"#7201a8\"],[0.3333333333333333,\"#9c179e\"],[0.4444444444444444,\"#bd3786\"],[0.5555555555555556,\"#d8576b\"],[0.6666666666666666,\"#ed7953\"],[0.7777777777777778,\"#fb9f3a\"],[0.8888888888888888,\"#fdca26\"],[1.0,\"#f0f921\"]]}],\"heatmapgl\":[{\"type\":\"heatmapgl\",\"colorbar\":{\"outlinewidth\":0,\"ticks\":\"\"},\"colorscale\":[[0.0,\"#0d0887\"],[0.1111111111111111,\"#46039f\"],[0.2222222222222222,\"#7201a8\"],[0.3333333333333333,\"#9c179e\"],[0.4444444444444444,\"#bd3786\"],[0.5555555555555556,\"#d8576b\"],[0.6666666666666666,\"#ed7953\"],[0.7777777777777778,\"#fb9f3a\"],[0.8888888888888888,\"#fdca26\"],[1.0,\"#f0f921\"]]}],\"contourcarpet\":[{\"type\":\"contourcarpet\",\"colorbar\":{\"outlinewidth\":0,\"ticks\":\"\"}}],\"contour\":[{\"type\":\"contour\",\"colorbar\":{\"outlinewidth\":0,\"ticks\":\"\"},\"colorscale\":[[0.0,\"#0d0887\"],[0.1111111111111111,\"#46039f\"],[0.2222222222222222,\"#7201a8\"],[0.3333333333333333,\"#9c179e\"],[0.4444444444444444,\"#bd3786\"],[0.5555555555555556,\"#d8576b\"],[0.6666666666666666,\"#ed7953\"],[0.7777777777777778,\"#fb9f3a\"],[0.8888888888888888,\"#fdca26\"],[1.0,\"#f0f921\"]]}],\"surface\":[{\"type\":\"surface\",\"colorbar\":{\"outlinewidth\":0,\"ticks\":\"\"},\"colorscale\":[[0.0,\"#0d0887\"],[0.1111111111111111,\"#46039f\"],[0.2222222222222222,\"#7201a8\"],[0.3333333333333333,\"#9c179e\"],[0.4444444444444444,\"#bd3786\"],[0.5555555555555556,\"#d8576b\"],[0.6666666666666666,\"#ed7953\"],[0.7777777777777778,\"#fb9f3a\"],[0.8888888888888888,\"#fdca26\"],[1.0,\"#f0f921\"]]}],\"mesh3d\":[{\"type\":\"mesh3d\",\"colorbar\":{\"outlinewidth\":0,\"ticks\":\"\"}}],\"scatter\":[{\"fillpattern\":{\"fillmode\":\"overlay\",\"size\":10,\"solidity\":0.2},\"type\":\"scatter\"}],\"parcoords\":[{\"type\":\"parcoords\",\"line\":{\"colorbar\":{\"outlinewidth\":0,\"ticks\":\"\"}}}],\"scatterpolargl\":[{\"type\":\"scatterpolargl\",\"marker\":{\"colorbar\":{\"outlinewidth\":0,\"ticks\":\"\"}}}],\"bar\":[{\"error_x\":{\"color\":\"#2a3f5f\"},\"error_y\":{\"color\":\"#2a3f5f\"},\"marker\":{\"line\":{\"color\":\"#E5ECF6\",\"width\":0.5},\"pattern\":{\"fillmode\":\"overlay\",\"size\":10,\"solidity\":0.2}},\"type\":\"bar\"}],\"scattergeo\":[{\"type\":\"scattergeo\",\"marker\":{\"colorbar\":{\"outlinewidth\":0,\"ticks\":\"\"}}}],\"scatterpolar\":[{\"type\":\"scatterpolar\",\"marker\":{\"colorbar\":{\"outlinewidth\":0,\"ticks\":\"\"}}}],\"histogram\":[{\"marker\":{\"pattern\":{\"fillmode\":\"overlay\",\"size\":10,\"solidity\":0.2}},\"type\":\"histogram\"}],\"scattergl\":[{\"type\":\"scattergl\",\"marker\":{\"colorbar\":{\"outlinewidth\":0,\"ticks\":\"\"}}}],\"scatter3d\":[{\"type\":\"scatter3d\",\"line\":{\"colorbar\":{\"outlinewidth\":0,\"ticks\":\"\"}},\"marker\":{\"colorbar\":{\"outlinewidth\":0,\"ticks\":\"\"}}}],\"scattermapbox\":[{\"type\":\"scattermapbox\",\"marker\":{\"colorbar\":{\"outlinewidth\":0,\"ticks\":\"\"}}}],\"scatterternary\":[{\"type\":\"scatterternary\",\"marker\":{\"colorbar\":{\"outlinewidth\":0,\"ticks\":\"\"}}}],\"scattercarpet\":[{\"type\":\"scattercarpet\",\"marker\":{\"colorbar\":{\"outlinewidth\":0,\"ticks\":\"\"}}}],\"carpet\":[{\"aaxis\":{\"endlinecolor\":\"#2a3f5f\",\"gridcolor\":\"white\",\"linecolor\":\"white\",\"minorgridcolor\":\"white\",\"startlinecolor\":\"#2a3f5f\"},\"baxis\":{\"endlinecolor\":\"#2a3f5f\",\"gridcolor\":\"white\",\"linecolor\":\"white\",\"minorgridcolor\":\"white\",\"startlinecolor\":\"#2a3f5f\"},\"type\":\"carpet\"}],\"table\":[{\"cells\":{\"fill\":{\"color\":\"#EBF0F8\"},\"line\":{\"color\":\"white\"}},\"header\":{\"fill\":{\"color\":\"#C8D4E3\"},\"line\":{\"color\":\"white\"}},\"type\":\"table\"}],\"barpolar\":[{\"marker\":{\"line\":{\"color\":\"#E5ECF6\",\"width\":0.5},\"pattern\":{\"fillmode\":\"overlay\",\"size\":10,\"solidity\":0.2}},\"type\":\"barpolar\"}],\"pie\":[{\"automargin\":true,\"type\":\"pie\"}]},\"layout\":{\"autotypenumbers\":\"strict\",\"colorway\":[\"#636efa\",\"#EF553B\",\"#00cc96\",\"#ab63fa\",\"#FFA15A\",\"#19d3f3\",\"#FF6692\",\"#B6E880\",\"#FF97FF\",\"#FECB52\"],\"font\":{\"color\":\"#2a3f5f\"},\"hovermode\":\"closest\",\"hoverlabel\":{\"align\":\"left\"},\"paper_bgcolor\":\"white\",\"plot_bgcolor\":\"#E5ECF6\",\"polar\":{\"bgcolor\":\"#E5ECF6\",\"angularaxis\":{\"gridcolor\":\"white\",\"linecolor\":\"white\",\"ticks\":\"\"},\"radialaxis\":{\"gridcolor\":\"white\",\"linecolor\":\"white\",\"ticks\":\"\"}},\"ternary\":{\"bgcolor\":\"#E5ECF6\",\"aaxis\":{\"gridcolor\":\"white\",\"linecolor\":\"white\",\"ticks\":\"\"},\"baxis\":{\"gridcolor\":\"white\",\"linecolor\":\"white\",\"ticks\":\"\"},\"caxis\":{\"gridcolor\":\"white\",\"linecolor\":\"white\",\"ticks\":\"\"}},\"coloraxis\":{\"colorbar\":{\"outlinewidth\":0,\"ticks\":\"\"}},\"colorscale\":{\"sequential\":[[0.0,\"#0d0887\"],[0.1111111111111111,\"#46039f\"],[0.2222222222222222,\"#7201a8\"],[0.3333333333333333,\"#9c179e\"],[0.4444444444444444,\"#bd3786\"],[0.5555555555555556,\"#d8576b\"],[0.6666666666666666,\"#ed7953\"],[0.7777777777777778,\"#fb9f3a\"],[0.8888888888888888,\"#fdca26\"],[1.0,\"#f0f921\"]],\"sequentialminus\":[[0.0,\"#0d0887\"],[0.1111111111111111,\"#46039f\"],[0.2222222222222222,\"#7201a8\"],[0.3333333333333333,\"#9c179e\"],[0.4444444444444444,\"#bd3786\"],[0.5555555555555556,\"#d8576b\"],[0.6666666666666666,\"#ed7953\"],[0.7777777777777778,\"#fb9f3a\"],[0.8888888888888888,\"#fdca26\"],[1.0,\"#f0f921\"]],\"diverging\":[[0,\"#8e0152\"],[0.1,\"#c51b7d\"],[0.2,\"#de77ae\"],[0.3,\"#f1b6da\"],[0.4,\"#fde0ef\"],[0.5,\"#f7f7f7\"],[0.6,\"#e6f5d0\"],[0.7,\"#b8e186\"],[0.8,\"#7fbc41\"],[0.9,\"#4d9221\"],[1,\"#276419\"]]},\"xaxis\":{\"gridcolor\":\"white\",\"linecolor\":\"white\",\"ticks\":\"\",\"title\":{\"standoff\":15},\"zerolinecolor\":\"white\",\"automargin\":true,\"zerolinewidth\":2},\"yaxis\":{\"gridcolor\":\"white\",\"linecolor\":\"white\",\"ticks\":\"\",\"title\":{\"standoff\":15},\"zerolinecolor\":\"white\",\"automargin\":true,\"zerolinewidth\":2},\"scene\":{\"xaxis\":{\"backgroundcolor\":\"#E5ECF6\",\"gridcolor\":\"white\",\"linecolor\":\"white\",\"showbackground\":true,\"ticks\":\"\",\"zerolinecolor\":\"white\",\"gridwidth\":2},\"yaxis\":{\"backgroundcolor\":\"#E5ECF6\",\"gridcolor\":\"white\",\"linecolor\":\"white\",\"showbackground\":true,\"ticks\":\"\",\"zerolinecolor\":\"white\",\"gridwidth\":2},\"zaxis\":{\"backgroundcolor\":\"#E5ECF6\",\"gridcolor\":\"white\",\"linecolor\":\"white\",\"showbackground\":true,\"ticks\":\"\",\"zerolinecolor\":\"white\",\"gridwidth\":2}},\"shapedefaults\":{\"line\":{\"color\":\"#2a3f5f\"}},\"annotationdefaults\":{\"arrowcolor\":\"#2a3f5f\",\"arrowhead\":0,\"arrowwidth\":1},\"geo\":{\"bgcolor\":\"white\",\"landcolor\":\"#E5ECF6\",\"subunitcolor\":\"white\",\"showland\":true,\"showlakes\":true,\"lakecolor\":\"white\"},\"title\":{\"x\":0.05},\"mapbox\":{\"style\":\"light\"}}}},                        {\"responsive\": true}                    ).then(function(){\n",
              "                            \n",
              "var gd = document.getElementById('f861e47e-d2ab-46dc-a908-fddd4e104048');\n",
              "var x = new MutationObserver(function (mutations, observer) {{\n",
              "        var display = window.getComputedStyle(gd).display;\n",
              "        if (!display || display === 'none') {{\n",
              "            console.log([gd, 'removed!']);\n",
              "            Plotly.purge(gd);\n",
              "            observer.disconnect();\n",
              "        }}\n",
              "}});\n",
              "\n",
              "// Listen for the removal of the full notebook cells\n",
              "var notebookContainer = gd.closest('#notebook-container');\n",
              "if (notebookContainer) {{\n",
              "    x.observe(notebookContainer, {childList: true});\n",
              "}}\n",
              "\n",
              "// Listen for the clearing of the current output cell\n",
              "var outputEl = gd.closest('.output');\n",
              "if (outputEl) {{\n",
              "    x.observe(outputEl, {childList: true});\n",
              "}}\n",
              "\n",
              "                        })                };                            </script>        </div>\n",
              "</body>\n",
              "</html>"
            ]
          },
          "metadata": {}
        }
      ],
      "source": [
        "import plotly.graph_objects as go\n",
        "\n",
        "test_size  = 0.15\n",
        "valid_size = 0.15\n",
        "\n",
        "test_split_idx  = int(data.shape[0] * (1-test_size))\n",
        "valid_split_idx = int(data.shape[0] * (1-(valid_size+test_size)))\n",
        "\n",
        "train_df  = data.loc[:valid_split_idx].copy()\n",
        "valid_df  = data.loc[valid_split_idx+1:test_split_idx].copy()\n",
        "test_df   = data.loc[test_split_idx+1:].copy()\n",
        "\n",
        "fig = go.Figure()\n",
        "fig.add_trace(go.Scatter(x=train_df.Date, y=train_df.Close, name='Training'))\n",
        "fig.add_trace(go.Scatter(x=valid_df.Date, y=valid_df.Close, name='Validation'))\n",
        "fig.add_trace(go.Scatter(x=test_df.Date,  y=test_df.Close,  name='Test'))\n",
        "fig.show()"
      ]
    },
    {
      "cell_type": "code",
      "source": [
        "drop_cols = ['Date',  'Open', 'Low', 'High', 'Ind_Name']\n",
        "\n",
        "train_df = train_df.drop(columns=drop_cols)\n",
        "valid_df = valid_df.drop(columns=drop_cols)\n",
        "test_df = test_df.drop(columns=drop_cols)\n"
      ],
      "metadata": {
        "id": "_jRMRfMkeHjt"
      },
      "execution_count": null,
      "outputs": []
    },
    {
      "cell_type": "code",
      "source": [
        "y_train = train_df['Close'].copy()\n",
        "X_train = train_df.drop(columns=['Close'])\n",
        "\n",
        "y_valid = valid_df['Close'].copy()\n",
        "X_valid = valid_df.drop(columns=['Close'])\n",
        "\n",
        "y_test = test_df['Close'].copy()\n",
        "X_test = test_df.drop(columns=['Close'])\n",
        "\n",
        "X_train.info()\n"
      ],
      "metadata": {
        "colab": {
          "base_uri": "https://localhost:8080/"
        },
        "id": "6MNce-UeeSI0",
        "outputId": "a66aab68-4a92-47c3-8c18-e6e288ddea47"
      },
      "execution_count": null,
      "outputs": [
        {
          "output_type": "stream",
          "name": "stdout",
          "text": [
            "<class 'pandas.core.frame.DataFrame'>\n",
            "RangeIndex: 724 entries, 0 to 723\n",
            "Data columns (total 7 columns):\n",
            " #   Column              Non-Null Count  Dtype  \n",
            "---  ------              --------------  -----  \n",
            " 0   std_close           724 non-null    float64\n",
            " 1   ROI                 724 non-null    float64\n",
            " 2   7_Days_Average_ROI  724 non-null    float64\n",
            " 3   ROI_Monthly_Avg     724 non-null    float64\n",
            " 4   Kurtosis            724 non-null    float64\n",
            " 5   Skewness            724 non-null    float64\n",
            " 6   yearly_std          724 non-null    float64\n",
            "dtypes: float64(7)\n",
            "memory usage: 39.7 KB\n"
          ]
        }
      ]
    },
    {
      "cell_type": "code",
      "source": [
        "from xgboost import XGBRegressor\n",
        "\n",
        "\n",
        "# 3. Model training\n",
        "model = XGBRegressor()\n",
        "model.fit(X_train, y_train)\n",
        "\n",
        "# 4. Model evaluation\n",
        "y_pred = model.predict(X_test)\n",
        "mse = mean_squared_error(y_test, y_pred)\n",
        "print(f\"Mean Squared Error: {mse}\")"
      ],
      "metadata": {
        "colab": {
          "base_uri": "https://localhost:8080/"
        },
        "id": "I_P_UnbdROEv",
        "outputId": "3675830e-f942-49c3-f3c9-83ad5199458f"
      },
      "execution_count": null,
      "outputs": [
        {
          "output_type": "stream",
          "name": "stdout",
          "text": [
            "Mean Squared Error: 2323609.9379561897\n"
          ]
        }
      ]
    },
    {
      "cell_type": "code",
      "source": [
        "from sklearn.model_selection import train_test_split, GridSearchCV\n",
        "import xgboost as xgb\n",
        "import matplotlib.pyplot as plt\n",
        "from xgboost import plot_importance, plot_tree\n",
        "import time\n",
        "\n",
        "\n",
        "\n",
        "parameters = {\n",
        "    'n_estimators': [100, 200, 300, 400],\n",
        "    'learning_rate': [0.001, 0.005, 0.01, 0.05],\n",
        "    'max_depth': [8, 10, 12, 15],\n",
        "    'gamma': [0.001, 0.005, 0.01, 0.02],\n",
        "    'random_state': [42]\n",
        "}\n",
        "\n",
        "eval_set = [(X_train, y_train), (X_valid, y_valid)]\n",
        "model = xgb.XGBRegressor(eval_set=eval_set, objective='reg:squarederror', verbose=False)\n",
        "clf = GridSearchCV(model, parameters)\n",
        "\n",
        "clf.fit(X_train, y_train)\n",
        "\n",
        "print(f'Best params: {clf.best_params_}')\n",
        "print(f'Best validation score = {clf.best_score_}')\n",
        "\n",
        "\n"
      ],
      "metadata": {
        "colab": {
          "base_uri": "https://localhost:8080/"
        },
        "id": "XU3U5DMMfa_b",
        "outputId": "dad72992-4495-47e3-db17-507cbc39d8fb"
      },
      "execution_count": null,
      "outputs": [
        {
          "output_type": "stream",
          "name": "stdout",
          "text": [
            "Best params: {'gamma': 0.001, 'learning_rate': 0.005, 'max_depth': 15, 'n_estimators': 300, 'random_state': 42}\n",
            "Best validation score = -5.426355705603216\n"
          ]
        }
      ]
    },
    {
      "cell_type": "code",
      "source": [
        "%%time\n",
        "\n",
        "model = xgb.XGBRegressor(**clf.best_params_, objective='reg:squarederror')\n",
        "model.fit(X_train, y_train, eval_set=eval_set, verbose=False)"
      ],
      "metadata": {
        "colab": {
          "base_uri": "https://localhost:8080/",
          "height": 283
        },
        "id": "BUdgGyxJe7vo",
        "outputId": "97d17176-e2d1-4074-bdff-4cccb06e9fcd"
      },
      "execution_count": null,
      "outputs": [
        {
          "output_type": "stream",
          "name": "stdout",
          "text": [
            "CPU times: user 1.39 s, sys: 18.9 ms, total: 1.4 s\n",
            "Wall time: 719 ms\n"
          ]
        },
        {
          "output_type": "execute_result",
          "data": {
            "text/plain": [
              "XGBRegressor(base_score=None, booster=None, callbacks=None,\n",
              "             colsample_bylevel=None, colsample_bynode=None,\n",
              "             colsample_bytree=None, device=None, early_stopping_rounds=None,\n",
              "             enable_categorical=False, eval_metric=None, feature_types=None,\n",
              "             gamma=0.001, grow_policy=None, importance_type=None,\n",
              "             interaction_constraints=None, learning_rate=0.005, max_bin=None,\n",
              "             max_cat_threshold=None, max_cat_to_onehot=None,\n",
              "             max_delta_step=None, max_depth=15, max_leaves=None,\n",
              "             min_child_weight=None, missing=nan, monotone_constraints=None,\n",
              "             multi_strategy=None, n_estimators=300, n_jobs=None,\n",
              "             num_parallel_tree=None, random_state=42, ...)"
            ],
            "text/html": [
              "<style>#sk-container-id-1 {color: black;background-color: white;}#sk-container-id-1 pre{padding: 0;}#sk-container-id-1 div.sk-toggleable {background-color: white;}#sk-container-id-1 label.sk-toggleable__label {cursor: pointer;display: block;width: 100%;margin-bottom: 0;padding: 0.3em;box-sizing: border-box;text-align: center;}#sk-container-id-1 label.sk-toggleable__label-arrow:before {content: \"▸\";float: left;margin-right: 0.25em;color: #696969;}#sk-container-id-1 label.sk-toggleable__label-arrow:hover:before {color: black;}#sk-container-id-1 div.sk-estimator:hover label.sk-toggleable__label-arrow:before {color: black;}#sk-container-id-1 div.sk-toggleable__content {max-height: 0;max-width: 0;overflow: hidden;text-align: left;background-color: #f0f8ff;}#sk-container-id-1 div.sk-toggleable__content pre {margin: 0.2em;color: black;border-radius: 0.25em;background-color: #f0f8ff;}#sk-container-id-1 input.sk-toggleable__control:checked~div.sk-toggleable__content {max-height: 200px;max-width: 100%;overflow: auto;}#sk-container-id-1 input.sk-toggleable__control:checked~label.sk-toggleable__label-arrow:before {content: \"▾\";}#sk-container-id-1 div.sk-estimator input.sk-toggleable__control:checked~label.sk-toggleable__label {background-color: #d4ebff;}#sk-container-id-1 div.sk-label input.sk-toggleable__control:checked~label.sk-toggleable__label {background-color: #d4ebff;}#sk-container-id-1 input.sk-hidden--visually {border: 0;clip: rect(1px 1px 1px 1px);clip: rect(1px, 1px, 1px, 1px);height: 1px;margin: -1px;overflow: hidden;padding: 0;position: absolute;width: 1px;}#sk-container-id-1 div.sk-estimator {font-family: monospace;background-color: #f0f8ff;border: 1px dotted black;border-radius: 0.25em;box-sizing: border-box;margin-bottom: 0.5em;}#sk-container-id-1 div.sk-estimator:hover {background-color: #d4ebff;}#sk-container-id-1 div.sk-parallel-item::after {content: \"\";width: 100%;border-bottom: 1px solid gray;flex-grow: 1;}#sk-container-id-1 div.sk-label:hover label.sk-toggleable__label {background-color: #d4ebff;}#sk-container-id-1 div.sk-serial::before {content: \"\";position: absolute;border-left: 1px solid gray;box-sizing: border-box;top: 0;bottom: 0;left: 50%;z-index: 0;}#sk-container-id-1 div.sk-serial {display: flex;flex-direction: column;align-items: center;background-color: white;padding-right: 0.2em;padding-left: 0.2em;position: relative;}#sk-container-id-1 div.sk-item {position: relative;z-index: 1;}#sk-container-id-1 div.sk-parallel {display: flex;align-items: stretch;justify-content: center;background-color: white;position: relative;}#sk-container-id-1 div.sk-item::before, #sk-container-id-1 div.sk-parallel-item::before {content: \"\";position: absolute;border-left: 1px solid gray;box-sizing: border-box;top: 0;bottom: 0;left: 50%;z-index: -1;}#sk-container-id-1 div.sk-parallel-item {display: flex;flex-direction: column;z-index: 1;position: relative;background-color: white;}#sk-container-id-1 div.sk-parallel-item:first-child::after {align-self: flex-end;width: 50%;}#sk-container-id-1 div.sk-parallel-item:last-child::after {align-self: flex-start;width: 50%;}#sk-container-id-1 div.sk-parallel-item:only-child::after {width: 0;}#sk-container-id-1 div.sk-dashed-wrapped {border: 1px dashed gray;margin: 0 0.4em 0.5em 0.4em;box-sizing: border-box;padding-bottom: 0.4em;background-color: white;}#sk-container-id-1 div.sk-label label {font-family: monospace;font-weight: bold;display: inline-block;line-height: 1.2em;}#sk-container-id-1 div.sk-label-container {text-align: center;}#sk-container-id-1 div.sk-container {/* jupyter's `normalize.less` sets `[hidden] { display: none; }` but bootstrap.min.css set `[hidden] { display: none !important; }` so we also need the `!important` here to be able to override the default hidden behavior on the sphinx rendered scikit-learn.org. See: https://github.com/scikit-learn/scikit-learn/issues/21755 */display: inline-block !important;position: relative;}#sk-container-id-1 div.sk-text-repr-fallback {display: none;}</style><div id=\"sk-container-id-1\" class=\"sk-top-container\"><div class=\"sk-text-repr-fallback\"><pre>XGBRegressor(base_score=None, booster=None, callbacks=None,\n",
              "             colsample_bylevel=None, colsample_bynode=None,\n",
              "             colsample_bytree=None, device=None, early_stopping_rounds=None,\n",
              "             enable_categorical=False, eval_metric=None, feature_types=None,\n",
              "             gamma=0.001, grow_policy=None, importance_type=None,\n",
              "             interaction_constraints=None, learning_rate=0.005, max_bin=None,\n",
              "             max_cat_threshold=None, max_cat_to_onehot=None,\n",
              "             max_delta_step=None, max_depth=15, max_leaves=None,\n",
              "             min_child_weight=None, missing=nan, monotone_constraints=None,\n",
              "             multi_strategy=None, n_estimators=300, n_jobs=None,\n",
              "             num_parallel_tree=None, random_state=42, ...)</pre><b>In a Jupyter environment, please rerun this cell to show the HTML representation or trust the notebook. <br />On GitHub, the HTML representation is unable to render, please try loading this page with nbviewer.org.</b></div><div class=\"sk-container\" hidden><div class=\"sk-item\"><div class=\"sk-estimator sk-toggleable\"><input class=\"sk-toggleable__control sk-hidden--visually\" id=\"sk-estimator-id-1\" type=\"checkbox\" checked><label for=\"sk-estimator-id-1\" class=\"sk-toggleable__label sk-toggleable__label-arrow\">XGBRegressor</label><div class=\"sk-toggleable__content\"><pre>XGBRegressor(base_score=None, booster=None, callbacks=None,\n",
              "             colsample_bylevel=None, colsample_bynode=None,\n",
              "             colsample_bytree=None, device=None, early_stopping_rounds=None,\n",
              "             enable_categorical=False, eval_metric=None, feature_types=None,\n",
              "             gamma=0.001, grow_policy=None, importance_type=None,\n",
              "             interaction_constraints=None, learning_rate=0.005, max_bin=None,\n",
              "             max_cat_threshold=None, max_cat_to_onehot=None,\n",
              "             max_delta_step=None, max_depth=15, max_leaves=None,\n",
              "             min_child_weight=None, missing=nan, monotone_constraints=None,\n",
              "             multi_strategy=None, n_estimators=300, n_jobs=None,\n",
              "             num_parallel_tree=None, random_state=42, ...)</pre></div></div></div></div></div>"
            ]
          },
          "metadata": {},
          "execution_count": 23
        }
      ]
    },
    {
      "cell_type": "code",
      "source": [
        "plot_importance(model);"
      ],
      "metadata": {
        "colab": {
          "base_uri": "https://localhost:8080/",
          "height": 472
        },
        "id": "nbq-jmqJi24C",
        "outputId": "3559b4e0-6cdb-4f41-c4cf-7f60ba87eecd"
      },
      "execution_count": null,
      "outputs": [
        {
          "output_type": "display_data",
          "data": {
            "text/plain": [
              "<Figure size 640x480 with 1 Axes>"
            ],
            "image/png": "[encoded data removed]"
          },
          "metadata": {}
        }
      ]
    },
    {
      "cell_type": "code",
      "source": [
        "y_pred = model.predict(X_test)\n",
        "print(f'y_true = {np.array(y_test)[:5]}')\n",
        "print(f'y_pred = {y_pred[:5]}')"
      ],
      "metadata": {
        "colab": {
          "base_uri": "https://localhost:8080/"
        },
        "id": "UBiz3sz6i8mv",
        "outputId": "8181cad2-751e-48a8-e41c-ebe6ac033aa3"
      },
      "execution_count": null,
      "outputs": [
        {
          "output_type": "stream",
          "name": "stdout",
          "text": [
            "y_true = [8946.812 8962.321 8967.419 8992.281 8993.469]\n",
            "y_pred = [7190.553  7251.1904 7251.1904 7230.032  7230.032 ]\n"
          ]
        }
      ]
    },
    {
      "cell_type": "code",
      "source": [
        "from sklearn.metrics import mean_squared_error\n",
        "print(f'mean_squared_error = {mean_squared_error(y_test, y_pred)}')"
      ],
      "metadata": {
        "colab": {
          "base_uri": "https://localhost:8080/"
        },
        "id": "dzILpOt6jDVR",
        "outputId": "3bebfaee-eecc-465d-9c67-3402fd6c09c7"
      },
      "execution_count": null,
      "outputs": [
        {
          "output_type": "stream",
          "name": "stdout",
          "text": [
            "mean_squared_error = 2302395.0817988217\n"
          ]
        }
      ]
    },
    {
      "cell_type": "code",
      "source": [
        "from plotly.subplots import make_subplots\n",
        "\n",
        "predicted_prices = data.loc[test_split_idx+1:].copy()\n",
        "predicted_prices['Close'] = y_pred\n",
        "\n",
        "fig = make_subplots(rows=2, cols=1)\n",
        "fig.add_trace(go.Scatter(x=data.Date, y=data.Close,\n",
        "                         name='Truth',\n",
        "                         marker_color='LightSkyBlue'), row=1, col=1)\n",
        "\n",
        "fig.add_trace(go.Scatter(x=predicted_prices.Date,\n",
        "                         y=predicted_prices.Close,\n",
        "                         name='Prediction',\n",
        "                         marker_color='MediumPurple'), row=1, col=1)\n",
        "\n",
        "fig.add_trace(go.Scatter(x=predicted_prices.Date,\n",
        "                         y=y_test,\n",
        "                         name='Truth',\n",
        "                         marker_color='LightSkyBlue',\n",
        "                         showlegend=False), row=2, col=1)\n",
        "\n",
        "fig.add_trace(go.Scatter(x=predicted_prices.Date,\n",
        "                         y=y_pred,\n",
        "                         name='Prediction',\n",
        "                         marker_color='MediumPurple',\n",
        "                         showlegend=False), row=2, col=1)\n",
        "\n",
        "fig.show()"
      ],
      "metadata": {
        "colab": {
          "base_uri": "https://localhost:8080/",
          "height": 542
        },
        "id": "6F65kYiUjGTl",
        "outputId": "f63022cd-b99a-4416-9d07-b4d36c44bbea"
      },
      "execution_count": null,
      "outputs": [
        {
          "output_type": "display_data",
          "data": {
            "text/html": [
              "<html>\n",
              "<head><meta charset=\"utf-8\" /></head>\n",
              "<body>\n",
              "    <div>            <script src=\"https://cdnjs.cloudflare.com/ajax/libs/mathjax/2.7.5/MathJax.js?config=TeX-AMS-MML_SVG\"></script><script type=\"text/javascript\">if (window.MathJax && window.MathJax.Hub && window.MathJax.Hub.Config) {window.MathJax.Hub.Config({SVG: {font: \"STIX-Web\"}});}</script>                <script type=\"text/javascript\">window.PlotlyConfig = {MathJaxConfig: 'local'};</script>\n",
              "        <script charset=\"utf-8\" src=\"https://cdn.plot.ly/plotly-2.24.1.min.js\"></script>                <div id=\"807115d1-467f-4d78-acf3-38077090af03\" class=\"plotly-graph-div\" style=\"height:525px; width:100%;\"></div>            <script type=\"text/javascript\">                                    window.PLOTLYENV=window.PLOTLYENV || {};                                    if (document.getElementById(\"807115d1-467f-4d78-acf3-38077090af03\")) {                    Plotly.newPlot(                        \"807115d1-467f-4d78-acf3-38077090af03\",                        [{\"marker\":{\"color\":\"LightSkyBlue\"},\"name\":\"Truth\",\"x\":[\"2020-01-02\",\"2020-01-03\",\"2020-01-06\",\"2020-01-07\",\"2020-01-08\",\"2020-01-09\",\"2020-01-10\",\"2020-01-13\",\"2020-01-15\",\"2020-01-16\",\"2020-01-17\",\"2020-01-20\",\"2020-01-21\",\"2020-01-22\",\"2020-01-23\",\"2020-01-24\",\"2020-01-27\",\"2020-01-28\",\"2020-01-29\",\"2020-01-30\",\"2020-01-31\",\"2020-02-03\",\"2020-02-04\",\"2020-02-05\",\"2020-02-06\",\"2020-02-07\",\"2020-02-10\",\"2020-02-11\",\"2020-02-12\",\"2020-02-13\",\"2020-02-14\",\"2020-02-17\",\"2020-02-18\",\"2020-02-19\",\"2020-02-20\",\"2020-02-21\",\"2020-02-24\",\"2020-02-25\",\"2020-02-26\",\"2020-02-27\",\"2020-02-28\",\"2020-03-02\",\"2020-03-03\",\"2020-03-04\",\"2020-03-05\",\"2020-03-06\",\"2020-03-09\",\"2020-03-10\",\"2020-03-11\",\"2020-03-12\",\"2020-03-13\",\"2020-03-16\",\"2020-03-17\",\"2020-03-18\",\"2020-03-19\",\"2020-03-23\",\"2020-03-24\",\"2020-03-25\",\"2020-03-26\",\"2020-03-27\",\"2020-03-30\",\"2020-03-31\",\"2020-04-01\",\"2020-04-02\",\"2020-04-03\",\"2020-04-06\",\"2020-04-07\",\"2020-04-08\",\"2020-04-13\",\"2020-04-14\",\"2020-04-15\",\"2020-04-16\",\"2020-04-17\",\"2020-04-20\",\"2020-04-21\",\"2020-04-22\",\"2020-04-23\",\"2020-04-24\",\"2020-04-27\",\"2020-04-28\",\"2020-04-29\",\"2020-04-30\",\"2020-05-04\",\"2020-05-05\",\"2020-05-06\",\"2020-05-07\",\"2020-05-08\",\"2020-05-11\",\"2020-05-12\",\"2020-05-13\",\"2020-05-14\",\"2020-05-15\",\"2020-05-18\",\"2020-05-19\",\"2020-05-20\",\"2020-05-21\",\"2020-05-22\",\"2020-05-26\",\"2020-05-27\",\"2020-05-28\",\"2020-05-29\",\"2020-06-01\",\"2020-06-02\",\"2020-06-03\",\"2020-06-04\",\"2020-06-05\",\"2020-06-08\",\"2020-06-09\",\"2020-06-10\",\"2020-06-11\",\"2020-06-12\",\"2020-06-15\",\"2020-06-16\",\"2020-06-17\",\"2020-06-18\",\"2020-06-19\",\"2020-06-22\",\"2020-06-23\",\"2020-06-24\",\"2020-06-25\",\"2020-06-26\",\"2020-06-29\",\"2020-06-30\",\"2020-07-01\",\"2020-07-02\",\"2020-07-03\",\"2020-07-06\",\"2020-07-07\",\"2020-07-08\",\"2020-07-09\",\"2020-07-10\",\"2020-07-13\",\"2020-07-14\",\"2020-07-15\",\"2020-07-16\",\"2020-07-17\",\"2020-07-20\",\"2020-07-21\",\"2020-07-22\",\"2020-07-23\",\"2020-07-24\",\"2020-07-27\",\"2020-07-28\",\"2020-07-29\",\"2020-07-30\",\"2020-08-03\",\"2020-08-04\",\"2020-08-05\",\"2020-08-06\",\"2020-08-07\",\"2020-08-10\",\"2020-08-11\",\"2020-08-12\",\"2020-08-14\",\"2020-08-17\",\"2020-08-18\",\"2020-08-19\",\"2020-08-21\",\"2020-08-24\",\"2020-08-25\",\"2020-08-26\",\"2020-08-27\",\"2020-08-28\",\"2020-08-31\",\"2020-09-01\",\"2020-09-02\",\"2020-09-03\",\"2020-09-04\",\"2020-09-07\",\"2020-09-08\",\"2020-09-09\",\"2020-09-10\",\"2020-09-11\",\"2020-09-14\",\"2020-09-15\",\"2020-09-16\",\"2020-09-17\",\"2020-09-18\",\"2020-09-21\",\"2020-09-22\",\"2020-09-23\",\"2020-09-24\",\"2020-09-25\",\"2020-09-28\",\"2020-09-29\",\"2020-09-30\",\"2020-10-01\",\"2020-10-02\",\"2020-10-05\",\"2020-10-06\",\"2020-10-07\",\"2020-10-08\",\"2020-10-09\",\"2020-10-12\",\"2020-10-13\",\"2020-10-14\",\"2020-10-16\",\"2020-10-19\",\"2020-10-20\",\"2020-10-21\",\"2020-10-22\",\"2020-10-23\",\"2020-10-26\",\"2020-10-27\",\"2020-10-28\",\"2020-10-30\",\"2020-11-02\",\"2020-11-03\",\"2020-11-04\",\"2020-11-05\",\"2020-11-06\",\"2020-11-09\",\"2020-11-10\",\"2020-11-11\",\"2020-11-12\",\"2020-11-13\",\"2020-11-16\",\"2020-11-17\",\"2020-11-18\",\"2020-11-19\",\"2020-11-20\",\"2020-11-23\",\"2020-11-24\",\"2020-11-25\",\"2020-11-26\",\"2020-11-27\",\"2020-11-30\",\"2020-12-01\",\"2020-12-02\",\"2020-12-03\",\"2020-12-04\",\"2020-12-07\",\"2020-12-08\",\"2020-12-09\",\"2020-12-10\",\"2020-12-11\",\"2020-12-14\",\"2020-12-15\",\"2020-12-16\",\"2020-12-17\",\"2020-12-18\",\"2020-12-21\",\"2020-12-22\",\"2020-12-23\",\"2020-12-24\",\"2020-12-25\",\"2020-12-28\",\"2020-12-29\",\"2020-12-30\",\"2020-12-31\",\"2021-01-04\",\"2021-01-05\",\"2021-01-06\",\"2021-01-07\",\"2021-01-08\",\"2021-01-11\",\"2021-01-12\",\"2021-01-13\",\"2021-01-15\",\"2021-01-18\",\"2021-01-19\",\"2021-01-20\",\"2021-01-21\",\"2021-01-22\",\"2021-01-25\",\"2021-01-26\",\"2021-01-27\",\"2021-01-28\",\"2021-01-29\",\"2021-02-01\",\"2021-02-02\",\"2021-02-03\",\"2021-02-04\",\"2021-02-05\",\"2021-02-08\",\"2021-02-09\",\"2021-02-10\",\"2021-02-11\",\"2021-02-12\",\"2021-02-15\",\"2021-02-16\",\"2021-02-17\",\"2021-02-18\",\"2021-02-19\",\"2021-02-22\",\"2021-02-23\",\"2021-02-24\",\"2021-02-25\",\"2021-02-26\",\"2021-03-01\",\"2021-03-02\",\"2021-03-03\",\"2021-03-04\",\"2021-03-05\",\"2021-03-08\",\"2021-03-09\",\"2021-03-10\",\"2021-03-11\",\"2021-03-12\",\"2021-03-15\",\"2021-03-16\",\"2021-03-17\",\"2021-03-18\",\"2021-03-19\",\"2021-03-22\",\"2021-03-23\",\"2021-03-24\",\"2021-03-25\",\"2021-03-26\",\"2021-03-29\",\"2021-03-30\",\"2021-03-31\",\"2021-04-01\",\"2021-04-02\",\"2021-04-05\",\"2021-04-06\",\"2021-04-07\",\"2021-04-08\",\"2021-04-12\",\"2021-04-13\",\"2021-04-14\",\"2021-04-15\",\"2021-04-16\",\"2021-04-19\",\"2021-04-20\",\"2021-04-21\",\"2021-04-22\",\"2021-04-23\",\"2021-04-26\",\"2021-04-27\",\"2021-04-28\",\"2021-04-29\",\"2021-04-30\",\"2021-05-03\",\"2021-05-04\",\"2021-05-05\",\"2021-05-06\",\"2021-05-07\",\"2021-05-10\",\"2021-05-11\",\"2021-05-17\",\"2021-05-18\",\"2021-05-19\",\"2021-05-20\",\"2021-05-21\",\"2021-05-24\",\"2021-05-25\",\"2021-05-26\",\"2021-05-27\",\"2021-05-28\",\"2021-05-31\",\"2021-06-01\",\"2021-06-02\",\"2021-06-03\",\"2021-06-04\",\"2021-06-07\",\"2021-06-08\",\"2021-06-09\",\"2021-06-10\",\"2021-06-11\",\"2021-06-14\",\"2021-06-15\",\"2021-06-16\",\"2021-06-17\",\"2021-06-18\",\"2021-06-21\",\"2021-06-22\",\"2021-06-23\",\"2021-06-24\",\"2021-06-25\",\"2021-06-28\",\"2021-06-29\",\"2021-06-30\",\"2021-07-01\",\"2021-07-02\",\"2021-07-05\",\"2021-07-06\",\"2021-07-07\",\"2021-07-08\",\"2021-07-09\",\"2021-07-12\",\"2021-07-13\",\"2021-07-14\",\"2021-07-15\",\"2021-07-16\",\"2021-07-19\",\"2021-07-22\",\"2021-07-23\",\"2021-07-26\",\"2021-07-27\",\"2021-07-28\",\"2021-07-29\",\"2021-07-30\",\"2021-08-02\",\"2021-08-03\",\"2021-08-04\",\"2021-08-05\",\"2021-08-06\",\"2021-08-09\",\"2021-08-11\",\"2021-08-12\",\"2021-08-16\",\"2021-08-17\",\"2021-08-18\",\"2021-08-19\",\"2021-08-20\",\"2021-08-23\",\"2021-08-24\",\"2021-08-25\",\"2021-08-26\",\"2021-08-27\",\"2021-08-30\",\"2021-08-31\",\"2021-09-01\",\"2021-09-02\",\"2021-09-03\",\"2021-09-06\",\"2021-09-07\",\"2021-09-08\",\"2021-09-09\",\"2021-09-10\",\"2021-09-13\",\"2021-09-14\",\"2021-09-15\",\"2021-09-16\",\"2021-09-17\",\"2021-09-20\",\"2021-09-21\",\"2021-09-22\",\"2021-09-23\",\"2021-09-24\",\"2021-09-27\",\"2021-09-28\",\"2021-09-29\",\"2021-09-30\",\"2021-10-01\",\"2021-10-04\",\"2021-10-05\",\"2021-10-06\",\"2021-10-07\",\"2021-10-08\",\"2021-10-11\",\"2021-10-12\",\"2021-10-13\",\"2021-10-14\",\"2021-10-19\",\"2021-10-20\",\"2021-10-21\",\"2021-10-22\",\"2021-10-25\",\"2021-10-26\",\"2021-10-27\",\"2021-10-28\",\"2021-10-29\",\"2021-11-01\",\"2021-11-02\",\"2021-11-03\",\"2021-11-04\",\"2021-11-05\",\"2021-11-08\",\"2021-11-09\",\"2021-11-10\",\"2021-11-11\",\"2021-11-12\",\"2021-11-15\",\"2021-11-16\",\"2021-11-17\",\"2021-11-18\",\"2021-11-19\",\"2021-11-22\",\"2021-11-23\",\"2021-11-24\",\"2021-11-25\",\"2021-11-26\",\"2021-11-29\",\"2021-11-30\",\"2021-12-01\",\"2021-12-02\",\"2021-12-03\",\"2021-12-06\",\"2021-12-07\",\"2021-12-08\",\"2021-12-09\",\"2021-12-10\",\"2021-12-13\",\"2021-12-14\",\"2021-12-15\",\"2021-12-16\",\"2021-12-20\",\"2021-12-21\",\"2021-12-22\",\"2021-12-23\",\"2021-12-24\",\"2021-12-27\",\"2021-12-28\",\"2021-12-29\",\"2021-12-30\",\"2021-12-31\",\"2022-01-03\",\"2022-01-04\",\"2022-01-05\",\"2022-01-06\",\"2022-01-07\",\"2022-01-10\",\"2022-01-11\",\"2022-01-12\",\"2022-01-13\",\"2022-01-14\",\"2022-01-17\",\"2022-01-18\",\"2022-01-19\",\"2022-01-20\",\"2022-01-21\",\"2022-01-24\",\"2022-01-25\",\"2022-01-26\",\"2022-01-27\",\"2022-01-28\",\"2022-01-31\",\"2022-02-01\",\"2022-02-02\",\"2022-02-03\",\"2022-02-04\",\"2022-02-07\",\"2022-02-08\",\"2022-02-09\",\"2022-02-10\",\"2022-02-11\",\"2022-02-14\",\"2022-02-15\",\"2022-02-16\",\"2022-02-17\",\"2022-02-18\",\"2022-02-21\",\"2022-02-22\",\"2022-02-23\",\"2022-02-24\",\"2022-02-25\",\"2022-02-28\",\"2022-03-01\",\"2022-03-02\",\"2022-03-03\",\"2022-03-04\",\"2022-03-07\",\"2022-03-08\",\"2022-03-09\",\"2022-03-10\",\"2022-03-11\",\"2022-03-14\",\"2022-03-15\",\"2022-03-16\",\"2022-03-17\",\"2022-03-18\",\"2022-03-21\",\"2022-03-22\",\"2022-03-23\",\"2022-03-24\",\"2022-03-25\",\"2022-03-28\",\"2022-03-29\",\"2022-03-30\",\"2022-03-31\",\"2022-04-01\",\"2022-04-04\",\"2022-04-05\",\"2022-04-06\",\"2022-04-07\",\"2022-04-08\",\"2022-04-11\",\"2022-04-12\",\"2022-04-13\",\"2022-04-14\",\"2022-04-15\",\"2022-04-18\",\"2022-04-19\",\"2022-04-20\",\"2022-04-21\",\"2022-04-22\",\"2022-04-25\",\"2022-04-26\",\"2022-04-27\",\"2022-04-28\",\"2022-04-29\",\"2022-05-04\",\"2022-05-05\",\"2022-05-06\",\"2022-05-09\",\"2022-05-10\",\"2022-05-11\",\"2022-05-12\",\"2022-05-13\",\"2022-05-16\",\"2022-05-17\",\"2022-05-18\",\"2022-05-19\",\"2022-05-20\",\"2022-05-23\",\"2022-05-24\",\"2022-05-25\",\"2022-05-26\",\"2022-05-27\",\"2022-05-30\",\"2022-05-31\",\"2022-06-01\",\"2022-06-02\",\"2022-06-03\",\"2022-06-06\",\"2022-06-07\",\"2022-06-08\",\"2022-06-09\",\"2022-06-10\",\"2022-06-13\",\"2022-06-14\",\"2022-06-15\",\"2022-06-16\",\"2022-06-17\",\"2022-06-20\",\"2022-06-21\",\"2022-06-22\",\"2022-06-23\",\"2022-06-24\",\"2022-06-27\",\"2022-06-28\",\"2022-06-29\",\"2022-06-30\",\"2022-07-01\",\"2022-07-04\",\"2022-07-05\",\"2022-07-06\",\"2022-07-07\",\"2022-07-08\",\"2022-07-11\",\"2022-07-12\",\"2022-07-13\",\"2022-07-14\",\"2022-07-15\",\"2022-07-18\",\"2022-07-19\",\"2022-07-20\",\"2022-07-21\",\"2022-07-22\",\"2022-07-26\",\"2022-07-27\",\"2022-07-28\",\"2022-07-29\",\"2022-08-01\",\"2022-08-02\",\"2022-08-03\",\"2022-08-04\",\"2022-08-05\",\"2022-08-08\",\"2022-08-09\",\"2022-08-10\",\"2022-08-11\",\"2022-08-12\",\"2022-08-15\",\"2022-08-16\",\"2022-08-17\",\"2022-08-18\",\"2022-08-19\",\"2022-08-22\",\"2022-08-23\",\"2022-08-24\",\"2022-08-25\",\"2022-08-26\",\"2022-08-29\",\"2022-08-30\",\"2022-08-31\",\"2022-09-01\",\"2022-09-02\",\"2022-09-05\",\"2022-09-06\",\"2022-09-07\",\"2022-09-08\",\"2022-09-09\",\"2022-09-12\",\"2022-09-13\",\"2022-09-14\",\"2022-09-15\",\"2022-09-16\",\"2022-09-19\",\"2022-09-20\",\"2022-09-21\",\"2022-09-22\",\"2022-09-23\",\"2022-09-26\",\"2022-09-27\",\"2022-09-28\",\"2022-09-29\",\"2022-09-30\",\"2022-10-03\",\"2022-10-04\",\"2022-10-05\",\"2022-10-06\",\"2022-10-07\",\"2022-10-10\",\"2022-10-11\",\"2022-10-12\",\"2022-10-13\",\"2022-10-14\",\"2022-10-17\",\"2022-10-18\",\"2022-10-19\",\"2022-10-20\",\"2022-10-21\",\"2022-10-24\",\"2022-10-25\",\"2022-10-26\",\"2022-10-27\",\"2022-10-28\",\"2022-10-31\",\"2022-11-01\",\"2022-11-02\",\"2022-11-03\",\"2022-11-04\",\"2022-11-07\",\"2022-11-08\",\"2022-11-09\",\"2022-11-10\",\"2022-11-11\",\"2022-11-14\",\"2022-11-15\",\"2022-11-16\",\"2022-11-17\",\"2022-11-18\",\"2022-11-21\",\"2022-11-22\",\"2022-11-23\",\"2022-11-24\",\"2022-11-25\",\"2022-11-28\",\"2022-11-29\",\"2022-11-30\",\"2022-12-01\",\"2022-12-02\",\"2022-12-05\",\"2022-12-06\",\"2022-12-07\",\"2022-12-08\",\"2022-12-09\",\"2022-12-12\",\"2022-12-13\",\"2022-12-14\",\"2022-12-15\",\"2022-12-16\",\"2022-12-19\",\"2022-12-20\",\"2022-12-21\",\"2022-12-22\",\"2022-12-23\",\"2022-12-26\",\"2022-12-27\",\"2022-12-28\",\"2022-12-29\",\"2022-12-30\",\"2023-01-02\",\"2023-01-03\",\"2023-01-04\",\"2023-01-05\",\"2023-01-06\",\"2023-01-09\",\"2023-01-10\",\"2023-01-11\",\"2023-01-12\",\"2023-01-13\",\"2023-01-16\",\"2023-01-17\",\"2023-01-18\",\"2023-01-19\",\"2023-01-20\",\"2023-01-23\",\"2023-01-24\",\"2023-01-25\",\"2023-01-26\",\"2023-01-27\",\"2023-01-30\",\"2023-01-31\",\"2023-02-01\",\"2023-02-02\",\"2023-02-03\",\"2023-02-06\",\"2023-02-07\",\"2023-02-08\",\"2023-02-09\",\"2023-02-10\",\"2023-02-13\",\"2023-02-14\",\"2023-02-15\",\"2023-02-16\",\"2023-02-17\",\"2023-02-20\",\"2023-02-21\",\"2023-02-22\",\"2023-02-23\",\"2023-02-24\",\"2023-02-27\",\"2023-02-28\",\"2023-03-01\",\"2023-03-02\",\"2023-03-03\",\"2023-03-06\",\"2023-03-07\",\"2023-03-08\",\"2023-03-09\",\"2023-03-10\",\"2023-03-13\",\"2023-03-14\",\"2023-03-15\",\"2023-03-16\",\"2023-03-17\",\"2023-03-21\",\"2023-03-22\",\"2023-03-23\",\"2023-03-24\",\"2023-03-27\",\"2023-03-28\",\"2023-03-29\",\"2023-03-30\",\"2023-03-31\",\"2023-04-03\",\"2023-04-04\",\"2023-04-05\",\"2023-04-06\",\"2023-04-07\",\"2023-04-10\",\"2023-04-11\",\"2023-04-12\",\"2023-04-13\",\"2023-04-14\",\"2023-04-17\",\"2023-04-18\",\"2023-04-19\",\"2023-04-20\",\"2023-04-24\",\"2023-04-25\",\"2023-04-26\",\"2023-04-27\",\"2023-04-28\",\"2023-05-02\",\"2023-05-03\",\"2023-05-04\",\"2023-05-05\",\"2023-05-08\",\"2023-05-09\",\"2023-05-10\",\"2023-05-11\",\"2023-05-12\",\"2023-05-15\",\"2023-05-16\",\"2023-05-17\",\"2023-05-18\",\"2023-05-19\",\"2023-05-22\",\"2023-05-23\",\"2023-05-24\",\"2023-05-25\",\"2023-05-26\",\"2023-05-29\",\"2023-05-30\",\"2023-05-31\",\"2023-06-01\",\"2023-06-02\",\"2023-06-05\",\"2023-06-06\",\"2023-06-07\",\"2023-06-08\",\"2023-06-09\",\"2023-06-12\",\"2023-06-13\",\"2023-06-14\",\"2023-06-15\",\"2023-06-16\",\"2023-06-19\",\"2023-06-20\",\"2023-06-21\",\"2023-06-22\",\"2023-06-23\",\"2023-06-26\",\"2023-06-27\",\"2023-06-30\",\"2023-07-03\",\"2023-07-04\",\"2023-07-05\",\"2023-07-06\",\"2023-07-07\",\"2023-07-10\",\"2023-07-11\",\"2023-07-12\",\"2023-07-13\",\"2023-07-14\",\"2023-07-17\",\"2023-07-20\",\"2023-07-21\",\"2023-07-24\",\"2023-07-26\",\"2023-07-27\",\"2023-07-28\",\"2023-07-31\",\"2023-08-01\",\"2023-08-02\",\"2023-08-03\",\"2023-08-04\",\"2023-08-07\",\"2023-08-08\",\"2023-08-09\",\"2023-08-10\",\"2023-08-11\",\"2023-08-14\",\"2023-08-15\",\"2023-08-16\",\"2023-08-17\",\"2023-08-18\",\"2023-08-21\",\"2023-08-22\",\"2023-08-23\",\"2023-08-24\",\"2023-08-25\",\"2023-08-28\",\"2023-08-29\",\"2023-08-30\",\"2023-08-31\",\"2023-09-01\",\"2023-09-04\",\"2023-09-05\",\"2023-09-06\",\"2023-09-07\",\"2023-09-08\",\"2023-09-11\",\"2023-09-12\",\"2023-09-13\",\"2023-09-14\",\"2023-09-15\",\"2023-09-18\",\"2023-09-19\",\"2023-09-20\",\"2023-09-21\",\"2023-09-22\",\"2023-09-25\",\"2023-09-26\",\"2023-09-28\",\"2023-09-29\",\"2023-10-02\",\"2023-10-03\",\"2023-10-04\",\"2023-10-05\",\"2023-10-06\",\"2023-10-09\",\"2023-10-10\",\"2023-10-11\",\"2023-10-12\",\"2023-10-13\",\"2023-10-16\",\"2023-10-17\",\"2023-10-18\",\"2023-10-19\",\"2023-10-20\",\"2023-10-23\",\"2023-10-24\",\"2023-10-25\",\"2023-10-26\",\"2023-10-27\",\"2023-10-30\",\"2023-10-31\",\"2023-11-01\",\"2023-11-02\",\"2023-11-03\",\"2023-11-06\",\"2023-11-07\",\"2023-11-08\",\"2023-11-09\",\"2023-11-10\",\"2023-11-13\",\"2023-11-14\",\"2023-11-15\",\"2023-11-16\",\"2023-11-17\",\"2023-11-20\",\"2023-11-21\",\"2023-11-22\",\"2023-11-23\",\"2023-11-24\",\"2023-11-27\",\"2023-11-28\",\"2023-11-29\",\"2023-11-30\",\"2023-12-01\",\"2023-12-04\",\"2023-12-05\",\"2023-12-06\",\"2023-12-07\",\"2023-12-08\",\"2023-12-11\",\"2023-12-12\",\"2023-12-13\",\"2023-12-14\",\"2023-12-15\",\"2023-12-18\",\"2023-12-19\",\"2023-12-20\",\"2023-12-21\",\"2023-12-22\",\"2023-12-25\",\"2023-12-26\",\"2023-12-27\",\"2023-12-28\",\"2023-12-29\",\"2024-01-02\",\"2024-01-03\",\"2024-01-04\",\"2024-01-05\",\"2024-01-08\",\"2024-01-09\",\"2024-01-10\",\"2024-01-11\",\"2024-01-12\",\"2024-01-15\",\"2024-01-16\",\"2024-01-17\",\"2024-01-18\",\"2024-01-19\",\"2024-01-22\",\"2024-01-23\",\"2024-01-24\",\"2024-01-25\",\"2024-01-26\",\"2024-01-29\",\"2024-01-30\",\"2024-01-31\",\"2024-02-01\",\"2024-02-02\",\"2024-02-05\",\"2024-02-06\",\"2024-02-07\"],\"y\":[7042.642,6994.84,6967.192,6921.921,6892.276,6884.589,6867.617,6880.824,6904.554,6921.025,6902.41,6939.534,6953.457,6974.912,6987.92,7015.007,7053.893,7059.653,7048.026,7055.671,7080.147,7089.393,7076.307,7073.439,7070.321,7103.535,7092.227,7087.229,7093.796,7108.453,7115.516,7136.823,7151.849,7160.622,7169.745,7171.172,7175.098,7150.066,7133.995,7153.686,7174.683,7206.194,7180.633,7162.205,7113.694,7028.747,6925.354,6862.225,6912.473,6813.779,6623.861,6349.514,6119.135,6158.525,6141.039,6197.219,6319.417,6355.906,6426.853,6412.601,6434.926,6485.971,6487.17,6340.659,6254.182,6227.081,6260.247,6244.81,6247.119,6235.944,6243.351,6262.122,6279.667,6342.21,6325.916,6336.335,6365.969,6359.958,6351.735,6293.249,6237.077,6212.572,6236.931,6245.141,6240.196,6285.422,6268.361,6290.069,6329.467,6367.479,6430.959,6480.845,6432.914,6427.318,6453.933,6446.513,6475.044,6478.035,6465.207,6440.399,6489.146,6521.003,6570.01,6575.208,6623.604,6647.767,6642.431,6624.681,6636.222,6655.192,6695.616,6699.281,6702.58,6725.002,6717.165,6701.676,6698.282,6725.639,6694.663,6643.563,6608.152,6627.972,6627.631,6563.453,6549.891,6573.206,6584.777,6573.232,6603.689,6606.311,6610.62,6615.226,6591.726,6573.847,6559.237,6552.094,6576.276,6528.068,6553.683,6563.984,6596.28,6600.653,6582.103,6579.736,6587.534,6586.812,6609.502,6686.525,6659.632,6664.849,6702.884,6718.841,6760.859,6757.811,6689.103,6670.978,6680.618,6705.805,6707.089,6721.851,6736.295,6738.585,6758.037,6766.456,6754.969,6768.329,6753.482,6767.328,6761.582,6745.397,6791.938,6818.663,6866.346,6894.639,6898.959,6867.456,6852.999,6881.191,6845.151,6811.05,6832.673,6794.08,6810.394,6775.82,6827.252,6750.303,6579.998,6569.48,6689.48,6741.765,6675.0,6671.098,6677.797,6661.333,6654.197,6662.9,6676.056,6682.41,6649.346,6651.569,6646.143,6660.9,6647.492,6625.174,6612.011,6557.479,6540.796,6546.609,6546.448,6536.692,6566.646,6604.487,6619.048,6623.291,6628.262,6644.349,6672.553,6697.672,6715.367,6739.521,6744.675,6747.986,6754.111,6807.723,6774.497,6781.405,6819.958,6815.089,6823.482,6823.059,6827.194,6854.535,6873.624,6896.113,6885.843,6851.258,6837.38,6849.192,6815.803,6826.363,6850.687,6867.953,6841.834,6854.909,6866.665,6867.905,6854.194,6852.248,6851.632,6884.956,6807.968,6765.164,6743.705,6719.628,6743.144,6731.828,6733.199,6712.768,6717.205,6684.206,6716.557,6704.079,6698.037,6649.774,6678.532,6643.683,6615.975,6652.326,6654.776,6635.248,6597.941,6606.549,6605.24,6623.534,6611.644,6618.695,6651.877,6649.136,6629.608,6657.435,6673.516,6666.227,6710.939,6698.212,6693.965,6696.979,6692.646,6691.505,6674.747,6655.633,6665.394,6686.901,6723.982,6763.979,6775.604,6775.665,6788.65,6820.794,6828.751,6829.256,6791.27,6799.132,6818.306,6807.771,6887.415,6964.045,7077.897,7080.33,7080.766,7093.412,7098.125,7089.159,7135.773,7151.467,7175.538,7210.284,7194.833,7164.486,7138.098,7123.588,7105.755,7083.513,7031.572,7001.833,6973.525,6991.894,7035.459,7066.755,7072.769,7069.294,7084.492,7131.673,7161.721,7212.531,7246.059,7233.423,7268.37,7247.297,7297.379,7360.111,7393.969,7381.174,7391.243,7409.618,7431.209,7427.201,7397.921,7385.246,7399.823,7441.887,7394.232,7399.089,7375.958,7369.984,7369.071,7371.627,7367.448,7365.074,7373.957,7377.376,7386.503,7363.059,7337.763,7323.249,7320.46,7322.82,7327.225,7313.518,7298.538,7307.108,7295.626,7264.546,7243.232,7234.484,7234.763,7234.215,7245.45,7257.264,7275.103,7253.817,7252.193,7252.416,7235.782,7227.931,7263.705,7292.351,7286.405,7283.459,7235.573,7256.352,7265.696,7287.56,7307.793,7298.751,7287.415,7277.089,7292.364,7299.839,7311.319,7285.26,7283.135,7302.997,7300.491,7295.584,7311.562,7323.486,7302.541,7311.046,7311.02,7313.364,7351.06,7354.417,7356.766,7348.994,7335.995,7347.445,7321.875,7301.071,7284.684,7282.758,7285.892,7283.129,7253.73,7240.108,7244.852,7259.207,7263.427,7244.065,7209.664,7255.314,7255.85,7281.554,7248.001,7266.912,7281.63,7288.943,7286.593,7272.465,7283.367,7268.53,7263.283,7253.921,7243.886,7226.835,7222.077,7172.367,7107.066,7077.622,7002.605,7002.264,6981.945,7016.363,7046.693,7038.333,7013.313,7010.556,7029.68,7000.218,7004.698,6999.8,7022.112,7035.141,7036.818,7047.438,7038.345,7042.521,7024.9,7032.885,7036.18,7037.422,7052.637,7054.392,7066.807,7069.854,7066.419,7045.732,7041.956,7024.349,7022.406,6982.468,6977.506,6967.067,6964.317,6975.892,6970.976,6973.75,6968.927,6958.192,6944.028,6955.576,6898.207,6919.059,6913.083,6932.814,6959.12,6994.137,7060.233,7044.742,6975.973,6959.469,6977.252,6959.272,6981.787,6977.74,6989.488,7031.088,7078.649,7098.53,7088.641,7081.549,7082.076,7069.518,7071.097,7104.417,7087.239,7118.317,7118.779,7100.513,7091.389,7112.743,7116.79,7096.023,7096.019,7091.429,7096.496,7111.105,7117.62,7123.224,7120.718,7124.674,7151.539,7161.425,7152.709,7154.42,7129.934,7111.292,7065.38,7072.446,7081.501,7064.74,7130.15,7132.771,7119.253,7117.232,7104.615,7075.412,7089.328,7088.668,7134.082,7155.562,7140.366,7159.238,7135.496,7096.569,7098.477,7094.311,7109.867,7131.364,7067.503,7079.84,7090.483,7105.337,7088.712,7092.148,7114.282,7127.954,7153.552,7152.28,7173.197,7186.981,7225.003,7264.665,7251.595,7231.974,7227.925,7231.479,7234.513,7226.497,7228.892,7239.645,7244.179,7236.098,7255.386,7303.938,7278.984,7276.849,7279.469,7303.266,7266.384,7280.226,7320.976,7306.515,7282.257,7305.822,7316.353,7317.207,7320.313,7331.261,7359.872,7357.732,7356.664,7369.361,7374.944,7385.589,7369.399,7343.228,7340.877,7324.486,7341.337,7340.329,7350.367,7364.089,7383.064,7415.11,7483.67,7460.516,7454.283,7461.437,7545.35,7562.39,7541.067,7530.529,7520.852,7490.727,7489.394,7491.066,7512.199,7493.08,7517.773,7512.156,7520.711,7522.287,7529.554,7545.606,7558.809,7584.157,7583.409,7561.305,7597.48,7620.147,7671.371,7694.411,7689.814,7700.148,7732.723,7746.259,7745.208,7751.81,7769.596,7748.82,7753.67,7761.097,7778.013,7784.187,7805.498,7802.927,7832.733,7841.738,7919.806,7932.963,7915.008,7911.446,7920.445,7949.412,7970.567,7998.964,8014.849,8108.028,8129.937,8107.419,8116.597,8125.061,8215.548,8193.997,8200.49,8188.022,8185.621,8182.233,8152.465,8124.217,8127.092,8126.119,8163.329,8153.456,8191.764,8268.047,8306.377,8322.672,8347.771,8318.846,8304.293,8242.039,8167.015,8165.03,8107.276,8147.812,8157.486,8104.408,8112.109,8126.42,8129.305,8130.761,8119.38,8100.25,8118.434,8123.438,8147.891,8173.573,8167.033,8190.956,8224.475,8267.834,8248.08,8245.623,8230.106,8219.906,8219.281,8188.458,8161.783,8127.243,8135.241,8093.953,8057.723,8055.139,8076.075,8113.947,8099.378,8094.194,8081.064,8076.048,8093.58,8094.267,8083.248,8063.294,8067.412,8078.204,8052.101,8032.329,8029.491,8067.185,8122.294,8106.3,8109.073,8109.538,8122.694,8130.471,8129.81,8102.369,8096.448,8073.982,8068.196,8086.898,8076.905,8115.246,8113.564,8093.691,8068.601,8051.085,8088.196,8103.646,8104.166,8108.464,8117.692,8235.332,8285.995,8303.66,8280.692,8226.926,8233.214,8246.903,8200.396,8239.183,8225.664,8275.367,8352.761,8318.435,8275.965,8242.015,8185.109,8221.715,8202.205,8179.775,8118.66,8070.008,8046.734,8098.31,8160.571,8117.277,8124.41,8132.258,8096.939,8091.205,8043.944,8039.941,8039.991,8017.94,8045.714,8031.336,8085.897,8100.206,8128.076,8106.12,8095.195,8111.608,8086.691,8093.043,8097.018,8089.396,8084.213,8073.806,8049.854,8014.196,8044.407,8066.37,8103.812,8096.971,8115.474,8125.747,8126.406,8135.576,8212.168,8253.078,8219.225,8234.266,8224.093,8230.555,8213.004,8205.075,8152.102,8142.653,8220.0,8202.834,8243.939,8248.271,8278.656,8267.2,8302.349,8279.13,8293.916,8356.652,8355.208,8368.365,8370.771,8390.333,8384.429,8405.538,8356.082,8370.934,8413.455,8466.724,8492.206,8540.491,8550.072,8577.129,8590.651,8665.425,8675.312,8701.07,8718.573,8731.218,8809.879,8810.2,8823.767,8793.886,8774.959,8775.091,8784.887,8799.535,8818.326,8817.18,8817.245,8815.36,8783.097,8864.551,8894.82,8909.438,8923.313,8914.19,8922.087,8946.812,8962.321,8967.419,8992.281,8993.469,9022.924,9032.591,9014.294,9010.605,8977.998,8967.696,8987.308,8992.42,9021.406,9027.65,9027.621,9032.119,9048.479,9024.137,8993.789,8960.9,8960.973,8920.348,8922.668,8912.016,8894.005,8904.297,8892.74,8902.887,8924.021,8893.845,8885.076,8886.379,8901.167,8888.213,8871.432,8922.644,8853.202,8895.769,8893.142,8912.115,8940.484,8944.014,8945.759,8972.907,8978.926,8957.861,8968.006,8941.016,8899.732,8878.308,8879.303,8822.14,8771.979,8730.173,8669.297,8543.893,8498.421,8425.637,8452.616,8443.498,8459.027,8488.017,8480.786,8480.295,8481.093,8480.832,8455.136,8469.103,8461.937,8462.374,8485.839,8494.565,8485.236,8501.279,8447.355,8446.114,8498.445,8494.028,8447.003,8447.699,8440.562,8413.704,8397.979,8397.563,8398.888,8419.065,8410.927,8412.257,8407.381,8445.308,8454.437,8459.907,8428.58,8469.914,8472.269,8491.934,8506.248,8544.238,8554.68,8569.472,8544.65,8564.807,8566.112,8567.316,8577.231,8576.747,8576.414,8589.605,8595.953,8587.344,8607.111,8603.73,8622.873,8623.0,8645.014,8650.356,8616.113,8618.343,8624.014,8589.57,8607.199,8600.126,8606.922,8652.057,8727.683,8747.943,8687.837,8614.042,8582.683,8550.357,8511.835,8480.947,8421.604,8431.013,8459.944,8444.439,8448.942,8406.158,8420.049,8411.421,8434.079,8424.068,8428.574,8427.928,8426.194,8429.375,8413.017,8418.413,8385.983,8378.098,8362.443,8353.96,8379.622],\"type\":\"scatter\",\"xaxis\":\"x\",\"yaxis\":\"y\"},{\"marker\":{\"color\":\"MediumPurple\"},\"name\":\"Prediction\",\"x\":[\"2023-06-30\",\"2023-07-03\",\"2023-07-04\",\"2023-07-05\",\"2023-07-06\",\"2023-07-07\",\"2023-07-10\",\"2023-07-11\",\"2023-07-12\",\"2023-07-13\",\"2023-07-14\",\"2023-07-17\",\"2023-07-20\",\"2023-07-21\",\"2023-07-24\",\"2023-07-26\",\"2023-07-27\",\"2023-07-28\",\"2023-07-31\",\"2023-08-01\",\"2023-08-02\",\"2023-08-03\",\"2023-08-04\",\"2023-08-07\",\"2023-08-08\",\"2023-08-09\",\"2023-08-10\",\"2023-08-11\",\"2023-08-14\",\"2023-08-15\",\"2023-08-16\",\"2023-08-17\",\"2023-08-18\",\"2023-08-21\",\"2023-08-22\",\"2023-08-23\",\"2023-08-24\",\"2023-08-25\",\"2023-08-28\",\"2023-08-29\",\"2023-08-30\",\"2023-08-31\",\"2023-09-01\",\"2023-09-04\",\"2023-09-05\",\"2023-09-06\",\"2023-09-07\",\"2023-09-08\",\"2023-09-11\",\"2023-09-12\",\"2023-09-13\",\"2023-09-14\",\"2023-09-15\",\"2023-09-18\",\"2023-09-19\",\"2023-09-20\",\"2023-09-21\",\"2023-09-22\",\"2023-09-25\",\"2023-09-26\",\"2023-09-28\",\"2023-09-29\",\"2023-10-02\",\"2023-10-03\",\"2023-10-04\",\"2023-10-05\",\"2023-10-06\",\"2023-10-09\",\"2023-10-10\",\"2023-10-11\",\"2023-10-12\",\"2023-10-13\",\"2023-10-16\",\"2023-10-17\",\"2023-10-18\",\"2023-10-19\",\"2023-10-20\",\"2023-10-23\",\"2023-10-24\",\"2023-10-25\",\"2023-10-26\",\"2023-10-27\",\"2023-10-30\",\"2023-10-31\",\"2023-11-01\",\"2023-11-02\",\"2023-11-03\",\"2023-11-06\",\"2023-11-07\",\"2023-11-08\",\"2023-11-09\",\"2023-11-10\",\"2023-11-13\",\"2023-11-14\",\"2023-11-15\",\"2023-11-16\",\"2023-11-17\",\"2023-11-20\",\"2023-11-21\",\"2023-11-22\",\"2023-11-23\",\"2023-11-24\",\"2023-11-27\",\"2023-11-28\",\"2023-11-29\",\"2023-11-30\",\"2023-12-01\",\"2023-12-04\",\"2023-12-05\",\"2023-12-06\",\"2023-12-07\",\"2023-12-08\",\"2023-12-11\",\"2023-12-12\",\"2023-12-13\",\"2023-12-14\",\"2023-12-15\",\"2023-12-18\",\"2023-12-19\",\"2023-12-20\",\"2023-12-21\",\"2023-12-22\",\"2023-12-25\",\"2023-12-26\",\"2023-12-27\",\"2023-12-28\",\"2023-12-29\",\"2024-01-02\",\"2024-01-03\",\"2024-01-04\",\"2024-01-05\",\"2024-01-08\",\"2024-01-09\",\"2024-01-10\",\"2024-01-11\",\"2024-01-12\",\"2024-01-15\",\"2024-01-16\",\"2024-01-17\",\"2024-01-18\",\"2024-01-19\",\"2024-01-22\",\"2024-01-23\",\"2024-01-24\",\"2024-01-25\",\"2024-01-26\",\"2024-01-29\",\"2024-01-30\",\"2024-01-31\",\"2024-02-01\",\"2024-02-02\",\"2024-02-05\",\"2024-02-06\",\"2024-02-07\"],\"y\":[7190.55322265625,7251.1904296875,7251.1904296875,7230.0322265625,7230.0322265625,7230.0322265625,7230.0322265625,7220.43212890625,7220.43212890625,7211.98486328125,7241.59033203125,7251.1904296875,7250.16796875,7251.1904296875,7251.1904296875,7251.1904296875,7251.1904296875,7060.30126953125,7059.4287109375,7059.4287109375,7059.4287109375,7060.30126953125,7059.4287109375,7060.30126953125,7245.48583984375,7239.37939453125,7255.26123046875,7245.48583984375,7255.26123046875,7255.26123046875,7239.37939453125,7248.88134765625,7248.88134765625,7252.7724609375,7248.88134765625,7248.88134765625,7252.7724609375,7248.88134765625,7274.9482421875,7265.34814453125,7274.9482421875,7274.9482421875,7229.59716796875,7229.59716796875,7229.59716796875,7046.640625,7039.91943359375,7046.640625,7032.98876953125,7032.98876953125,7039.91943359375,7036.25048828125,7085.4404296875,7085.4404296875,7085.4404296875,7135.47509765625,7100.98876953125,7085.4404296875,7135.47509765625,7229.59716796875,7229.59716796875,7229.59716796875,7229.59716796875,7229.59716796875,7229.59716796875,7229.59716796875,7229.59716796875,7217.22509765625,7229.59716796875,7229.59716796875,7229.59716796875,7229.59716796875,7229.59716796875,7229.59716796875,7229.59716796875,7205.048828125,7229.59716796875,7229.59716796875,7229.59716796875,7205.048828125,7229.59716796875,7229.59716796875,7217.22509765625,7229.59716796875,7056.39208984375,7045.111328125,7043.31494140625,7064.36767578125,7065.158203125,7064.98193359375,7066.1796875,7067.01513671875,7063.62158203125,7062.20166015625,7113.9833984375,7081.04345703125,7113.9833984375,7089.06787109375,7113.9833984375,7113.9833984375,7113.9833984375,7062.20166015625,7066.1796875,7064.36767578125,7065.158203125,7065.158203125,7167.13623046875,7166.9609375,7190.55322265625,7190.55322265625,7190.55322265625,7190.55322265625,7190.55322265625,7190.55322265625,7190.55322265625,7167.13623046875,7167.13623046875,7178.642578125,7166.67138671875,7167.13623046875,7166.9609375,7167.13623046875,7190.55322265625,7190.55322265625,7190.55322265625,7190.55322265625,7190.55322265625,7110.810546875,7104.17578125,7005.625,7005.625,7005.625,7005.625,7005.625,7005.625,7005.625,7112.07080078125,7083.05517578125,7095.44482421875,7105.16845703125,7112.041015625,7105.16845703125,7112.07080078125,7083.05517578125,7114.240234375,7113.0419921875,7083.05517578125,7100.44140625,7114.240234375,7082.8408203125,7112.57421875,7100.44140625,7112.57421875,7118.9150390625],\"type\":\"scatter\",\"xaxis\":\"x\",\"yaxis\":\"y\"},{\"marker\":{\"color\":\"LightSkyBlue\"},\"name\":\"Truth\",\"showlegend\":false,\"x\":[\"2023-06-30\",\"2023-07-03\",\"2023-07-04\",\"2023-07-05\",\"2023-07-06\",\"2023-07-07\",\"2023-07-10\",\"2023-07-11\",\"2023-07-12\",\"2023-07-13\",\"2023-07-14\",\"2023-07-17\",\"2023-07-20\",\"2023-07-21\",\"2023-07-24\",\"2023-07-26\",\"2023-07-27\",\"2023-07-28\",\"2023-07-31\",\"2023-08-01\",\"2023-08-02\",\"2023-08-03\",\"2023-08-04\",\"2023-08-07\",\"2023-08-08\",\"2023-08-09\",\"2023-08-10\",\"2023-08-11\",\"2023-08-14\",\"2023-08-15\",\"2023-08-16\",\"2023-08-17\",\"2023-08-18\",\"2023-08-21\",\"2023-08-22\",\"2023-08-23\",\"2023-08-24\",\"2023-08-25\",\"2023-08-28\",\"2023-08-29\",\"2023-08-30\",\"2023-08-31\",\"2023-09-01\",\"2023-09-04\",\"2023-09-05\",\"2023-09-06\",\"2023-09-07\",\"2023-09-08\",\"2023-09-11\",\"2023-09-12\",\"2023-09-13\",\"2023-09-14\",\"2023-09-15\",\"2023-09-18\",\"2023-09-19\",\"2023-09-20\",\"2023-09-21\",\"2023-09-22\",\"2023-09-25\",\"2023-09-26\",\"2023-09-28\",\"2023-09-29\",\"2023-10-02\",\"2023-10-03\",\"2023-10-04\",\"2023-10-05\",\"2023-10-06\",\"2023-10-09\",\"2023-10-10\",\"2023-10-11\",\"2023-10-12\",\"2023-10-13\",\"2023-10-16\",\"2023-10-17\",\"2023-10-18\",\"2023-10-19\",\"2023-10-20\",\"2023-10-23\",\"2023-10-24\",\"2023-10-25\",\"2023-10-26\",\"2023-10-27\",\"2023-10-30\",\"2023-10-31\",\"2023-11-01\",\"2023-11-02\",\"2023-11-03\",\"2023-11-06\",\"2023-11-07\",\"2023-11-08\",\"2023-11-09\",\"2023-11-10\",\"2023-11-13\",\"2023-11-14\",\"2023-11-15\",\"2023-11-16\",\"2023-11-17\",\"2023-11-20\",\"2023-11-21\",\"2023-11-22\",\"2023-11-23\",\"2023-11-24\",\"2023-11-27\",\"2023-11-28\",\"2023-11-29\",\"2023-11-30\",\"2023-12-01\",\"2023-12-04\",\"2023-12-05\",\"2023-12-06\",\"2023-12-07\",\"2023-12-08\",\"2023-12-11\",\"2023-12-12\",\"2023-12-13\",\"2023-12-14\",\"2023-12-15\",\"2023-12-18\",\"2023-12-19\",\"2023-12-20\",\"2023-12-21\",\"2023-12-22\",\"2023-12-25\",\"2023-12-26\",\"2023-12-27\",\"2023-12-28\",\"2023-12-29\",\"2024-01-02\",\"2024-01-03\",\"2024-01-04\",\"2024-01-05\",\"2024-01-08\",\"2024-01-09\",\"2024-01-10\",\"2024-01-11\",\"2024-01-12\",\"2024-01-15\",\"2024-01-16\",\"2024-01-17\",\"2024-01-18\",\"2024-01-19\",\"2024-01-22\",\"2024-01-23\",\"2024-01-24\",\"2024-01-25\",\"2024-01-26\",\"2024-01-29\",\"2024-01-30\",\"2024-01-31\",\"2024-02-01\",\"2024-02-02\",\"2024-02-05\",\"2024-02-06\",\"2024-02-07\"],\"y\":[8946.812,8962.321,8967.419,8992.281,8993.469,9022.924,9032.591,9014.294,9010.605,8977.998,8967.696,8987.308,8992.42,9021.406,9027.65,9027.621,9032.119,9048.479,9024.137,8993.789,8960.9,8960.973,8920.348,8922.668,8912.016,8894.005,8904.297,8892.74,8902.887,8924.021,8893.845,8885.076,8886.379,8901.167,8888.213,8871.432,8922.644,8853.202,8895.769,8893.142,8912.115,8940.484,8944.014,8945.759,8972.907,8978.926,8957.861,8968.006,8941.016,8899.732,8878.308,8879.303,8822.14,8771.979,8730.173,8669.297,8543.893,8498.421,8425.637,8452.616,8443.498,8459.027,8488.017,8480.786,8480.295,8481.093,8480.832,8455.136,8469.103,8461.937,8462.374,8485.839,8494.565,8485.236,8501.279,8447.355,8446.114,8498.445,8494.028,8447.003,8447.699,8440.562,8413.704,8397.979,8397.563,8398.888,8419.065,8410.927,8412.257,8407.381,8445.308,8454.437,8459.907,8428.58,8469.914,8472.269,8491.934,8506.248,8544.238,8554.68,8569.472,8544.65,8564.807,8566.112,8567.316,8577.231,8576.747,8576.414,8589.605,8595.953,8587.344,8607.111,8603.73,8622.873,8623.0,8645.014,8650.356,8616.113,8618.343,8624.014,8589.57,8607.199,8600.126,8606.922,8652.057,8727.683,8747.943,8687.837,8614.042,8582.683,8550.357,8511.835,8480.947,8421.604,8431.013,8459.944,8444.439,8448.942,8406.158,8420.049,8411.421,8434.079,8424.068,8428.574,8427.928,8426.194,8429.375,8413.017,8418.413,8385.983,8378.098,8362.443,8353.96,8379.622],\"type\":\"scatter\",\"xaxis\":\"x2\",\"yaxis\":\"y2\"},{\"marker\":{\"color\":\"MediumPurple\"},\"name\":\"Prediction\",\"showlegend\":false,\"x\":[\"2023-06-30\",\"2023-07-03\",\"2023-07-04\",\"2023-07-05\",\"2023-07-06\",\"2023-07-07\",\"2023-07-10\",\"2023-07-11\",\"2023-07-12\",\"2023-07-13\",\"2023-07-14\",\"2023-07-17\",\"2023-07-20\",\"2023-07-21\",\"2023-07-24\",\"2023-07-26\",\"2023-07-27\",\"2023-07-28\",\"2023-07-31\",\"2023-08-01\",\"2023-08-02\",\"2023-08-03\",\"2023-08-04\",\"2023-08-07\",\"2023-08-08\",\"2023-08-09\",\"2023-08-10\",\"2023-08-11\",\"2023-08-14\",\"2023-08-15\",\"2023-08-16\",\"2023-08-17\",\"2023-08-18\",\"2023-08-21\",\"2023-08-22\",\"2023-08-23\",\"2023-08-24\",\"2023-08-25\",\"2023-08-28\",\"2023-08-29\",\"2023-08-30\",\"2023-08-31\",\"2023-09-01\",\"2023-09-04\",\"2023-09-05\",\"2023-09-06\",\"2023-09-07\",\"2023-09-08\",\"2023-09-11\",\"2023-09-12\",\"2023-09-13\",\"2023-09-14\",\"2023-09-15\",\"2023-09-18\",\"2023-09-19\",\"2023-09-20\",\"2023-09-21\",\"2023-09-22\",\"2023-09-25\",\"2023-09-26\",\"2023-09-28\",\"2023-09-29\",\"2023-10-02\",\"2023-10-03\",\"2023-10-04\",\"2023-10-05\",\"2023-10-06\",\"2023-10-09\",\"2023-10-10\",\"2023-10-11\",\"2023-10-12\",\"2023-10-13\",\"2023-10-16\",\"2023-10-17\",\"2023-10-18\",\"2023-10-19\",\"2023-10-20\",\"2023-10-23\",\"2023-10-24\",\"2023-10-25\",\"2023-10-26\",\"2023-10-27\",\"2023-10-30\",\"2023-10-31\",\"2023-11-01\",\"2023-11-02\",\"2023-11-03\",\"2023-11-06\",\"2023-11-07\",\"2023-11-08\",\"2023-11-09\",\"2023-11-10\",\"2023-11-13\",\"2023-11-14\",\"2023-11-15\",\"2023-11-16\",\"2023-11-17\",\"2023-11-20\",\"2023-11-21\",\"2023-11-22\",\"2023-11-23\",\"2023-11-24\",\"2023-11-27\",\"2023-11-28\",\"2023-11-29\",\"2023-11-30\",\"2023-12-01\",\"2023-12-04\",\"2023-12-05\",\"2023-12-06\",\"2023-12-07\",\"2023-12-08\",\"2023-12-11\",\"2023-12-12\",\"2023-12-13\",\"2023-12-14\",\"2023-12-15\",\"2023-12-18\",\"2023-12-19\",\"2023-12-20\",\"2023-12-21\",\"2023-12-22\",\"2023-12-25\",\"2023-12-26\",\"2023-12-27\",\"2023-12-28\",\"2023-12-29\",\"2024-01-02\",\"2024-01-03\",\"2024-01-04\",\"2024-01-05\",\"2024-01-08\",\"2024-01-09\",\"2024-01-10\",\"2024-01-11\",\"2024-01-12\",\"2024-01-15\",\"2024-01-16\",\"2024-01-17\",\"2024-01-18\",\"2024-01-19\",\"2024-01-22\",\"2024-01-23\",\"2024-01-24\",\"2024-01-25\",\"2024-01-26\",\"2024-01-29\",\"2024-01-30\",\"2024-01-31\",\"2024-02-01\",\"2024-02-02\",\"2024-02-05\",\"2024-02-06\",\"2024-02-07\"],\"y\":[7190.55322265625,7251.1904296875,7251.1904296875,7230.0322265625,7230.0322265625,7230.0322265625,7230.0322265625,7220.43212890625,7220.43212890625,7211.98486328125,7241.59033203125,7251.1904296875,7250.16796875,7251.1904296875,7251.1904296875,7251.1904296875,7251.1904296875,7060.30126953125,7059.4287109375,7059.4287109375,7059.4287109375,7060.30126953125,7059.4287109375,7060.30126953125,7245.48583984375,7239.37939453125,7255.26123046875,7245.48583984375,7255.26123046875,7255.26123046875,7239.37939453125,7248.88134765625,7248.88134765625,7252.7724609375,7248.88134765625,7248.88134765625,7252.7724609375,7248.88134765625,7274.9482421875,7265.34814453125,7274.9482421875,7274.9482421875,7229.59716796875,7229.59716796875,7229.59716796875,7046.640625,7039.91943359375,7046.640625,7032.98876953125,7032.98876953125,7039.91943359375,7036.25048828125,7085.4404296875,7085.4404296875,7085.4404296875,7135.47509765625,7100.98876953125,7085.4404296875,7135.47509765625,7229.59716796875,7229.59716796875,7229.59716796875,7229.59716796875,7229.59716796875,7229.59716796875,7229.59716796875,7229.59716796875,7217.22509765625,7229.59716796875,7229.59716796875,7229.59716796875,7229.59716796875,7229.59716796875,7229.59716796875,7229.59716796875,7205.048828125,7229.59716796875,7229.59716796875,7229.59716796875,7205.048828125,7229.59716796875,7229.59716796875,7217.22509765625,7229.59716796875,7056.39208984375,7045.111328125,7043.31494140625,7064.36767578125,7065.158203125,7064.98193359375,7066.1796875,7067.01513671875,7063.62158203125,7062.20166015625,7113.9833984375,7081.04345703125,7113.9833984375,7089.06787109375,7113.9833984375,7113.9833984375,7113.9833984375,7062.20166015625,7066.1796875,7064.36767578125,7065.158203125,7065.158203125,7167.13623046875,7166.9609375,7190.55322265625,7190.55322265625,7190.55322265625,7190.55322265625,7190.55322265625,7190.55322265625,7190.55322265625,7167.13623046875,7167.13623046875,7178.642578125,7166.67138671875,7167.13623046875,7166.9609375,7167.13623046875,7190.55322265625,7190.55322265625,7190.55322265625,7190.55322265625,7190.55322265625,7110.810546875,7104.17578125,7005.625,7005.625,7005.625,7005.625,7005.625,7005.625,7005.625,7112.07080078125,7083.05517578125,7095.44482421875,7105.16845703125,7112.041015625,7105.16845703125,7112.07080078125,7083.05517578125,7114.240234375,7113.0419921875,7083.05517578125,7100.44140625,7114.240234375,7082.8408203125,7112.57421875,7100.44140625,7112.57421875,7118.9150390625],\"type\":\"scatter\",\"xaxis\":\"x2\",\"yaxis\":\"y2\"}],                        {\"template\":{\"data\":{\"histogram2dcontour\":[{\"type\":\"histogram2dcontour\",\"colorbar\":{\"outlinewidth\":0,\"ticks\":\"\"},\"colorscale\":[[0.0,\"#0d0887\"],[0.1111111111111111,\"#46039f\"],[0.2222222222222222,\"#7201a8\"],[0.3333333333333333,\"#9c179e\"],[0.4444444444444444,\"#bd3786\"],[0.5555555555555556,\"#d8576b\"],[0.6666666666666666,\"#ed7953\"],[0.7777777777777778,\"#fb9f3a\"],[0.8888888888888888,\"#fdca26\"],[1.0,\"#f0f921\"]]}],\"choropleth\":[{\"type\":\"choropleth\",\"colorbar\":{\"outlinewidth\":0,\"ticks\":\"\"}}],\"histogram2d\":[{\"type\":\"histogram2d\",\"colorbar\":{\"outlinewidth\":0,\"ticks\":\"\"},\"colorscale\":[[0.0,\"#0d0887\"],[0.1111111111111111,\"#46039f\"],[0.2222222222222222,\"#7201a8\"],[0.3333333333333333,\"#9c179e\"],[0.4444444444444444,\"#bd3786\"],[0.5555555555555556,\"#d8576b\"],[0.6666666666666666,\"#ed7953\"],[0.7777777777777778,\"#fb9f3a\"],[0.8888888888888888,\"#fdca26\"],[1.0,\"#f0f921\"]]}],\"heatmap\":[{\"type\":\"heatmap\",\"colorbar\":{\"outlinewidth\":0,\"ticks\":\"\"},\"colorscale\":[[0.0,\"#0d0887\"],[0.1111111111111111,\"#46039f\"],[0.2222222222222222,\"#7201a8\"],[0.3333333333333333,\"#9c179e\"],[0.4444444444444444,\"#bd3786\"],[0.5555555555555556,\"#d8576b\"],[0.6666666666666666,\"#ed7953\"],[0.7777777777777778,\"#fb9f3a\"],[0.8888888888888888,\"#fdca26\"],[1.0,\"#f0f921\"]]}],\"heatmapgl\":[{\"type\":\"heatmapgl\",\"colorbar\":{\"outlinewidth\":0,\"ticks\":\"\"},\"colorscale\":[[0.0,\"#0d0887\"],[0.1111111111111111,\"#46039f\"],[0.2222222222222222,\"#7201a8\"],[0.3333333333333333,\"#9c179e\"],[0.4444444444444444,\"#bd3786\"],[0.5555555555555556,\"#d8576b\"],[0.6666666666666666,\"#ed7953\"],[0.7777777777777778,\"#fb9f3a\"],[0.8888888888888888,\"#fdca26\"],[1.0,\"#f0f921\"]]}],\"contourcarpet\":[{\"type\":\"contourcarpet\",\"colorbar\":{\"outlinewidth\":0,\"ticks\":\"\"}}],\"contour\":[{\"type\":\"contour\",\"colorbar\":{\"outlinewidth\":0,\"ticks\":\"\"},\"colorscale\":[[0.0,\"#0d0887\"],[0.1111111111111111,\"#46039f\"],[0.2222222222222222,\"#7201a8\"],[0.3333333333333333,\"#9c179e\"],[0.4444444444444444,\"#bd3786\"],[0.5555555555555556,\"#d8576b\"],[0.6666666666666666,\"#ed7953\"],[0.7777777777777778,\"#fb9f3a\"],[0.8888888888888888,\"#fdca26\"],[1.0,\"#f0f921\"]]}],\"surface\":[{\"type\":\"surface\",\"colorbar\":{\"outlinewidth\":0,\"ticks\":\"\"},\"colorscale\":[[0.0,\"#0d0887\"],[0.1111111111111111,\"#46039f\"],[0.2222222222222222,\"#7201a8\"],[0.3333333333333333,\"#9c179e\"],[0.4444444444444444,\"#bd3786\"],[0.5555555555555556,\"#d8576b\"],[0.6666666666666666,\"#ed7953\"],[0.7777777777777778,\"#fb9f3a\"],[0.8888888888888888,\"#fdca26\"],[1.0,\"#f0f921\"]]}],\"mesh3d\":[{\"type\":\"mesh3d\",\"colorbar\":{\"outlinewidth\":0,\"ticks\":\"\"}}],\"scatter\":[{\"fillpattern\":{\"fillmode\":\"overlay\",\"size\":10,\"solidity\":0.2},\"type\":\"scatter\"}],\"parcoords\":[{\"type\":\"parcoords\",\"line\":{\"colorbar\":{\"outlinewidth\":0,\"ticks\":\"\"}}}],\"scatterpolargl\":[{\"type\":\"scatterpolargl\",\"marker\":{\"colorbar\":{\"outlinewidth\":0,\"ticks\":\"\"}}}],\"bar\":[{\"error_x\":{\"color\":\"#2a3f5f\"},\"error_y\":{\"color\":\"#2a3f5f\"},\"marker\":{\"line\":{\"color\":\"#E5ECF6\",\"width\":0.5},\"pattern\":{\"fillmode\":\"overlay\",\"size\":10,\"solidity\":0.2}},\"type\":\"bar\"}],\"scattergeo\":[{\"type\":\"scattergeo\",\"marker\":{\"colorbar\":{\"outlinewidth\":0,\"ticks\":\"\"}}}],\"scatterpolar\":[{\"type\":\"scatterpolar\",\"marker\":{\"colorbar\":{\"outlinewidth\":0,\"ticks\":\"\"}}}],\"histogram\":[{\"marker\":{\"pattern\":{\"fillmode\":\"overlay\",\"size\":10,\"solidity\":0.2}},\"type\":\"histogram\"}],\"scattergl\":[{\"type\":\"scattergl\",\"marker\":{\"colorbar\":{\"outlinewidth\":0,\"ticks\":\"\"}}}],\"scatter3d\":[{\"type\":\"scatter3d\",\"line\":{\"colorbar\":{\"outlinewidth\":0,\"ticks\":\"\"}},\"marker\":{\"colorbar\":{\"outlinewidth\":0,\"ticks\":\"\"}}}],\"scattermapbox\":[{\"type\":\"scattermapbox\",\"marker\":{\"colorbar\":{\"outlinewidth\":0,\"ticks\":\"\"}}}],\"scatterternary\":[{\"type\":\"scatterternary\",\"marker\":{\"colorbar\":{\"outlinewidth\":0,\"ticks\":\"\"}}}],\"scattercarpet\":[{\"type\":\"scattercarpet\",\"marker\":{\"colorbar\":{\"outlinewidth\":0,\"ticks\":\"\"}}}],\"carpet\":[{\"aaxis\":{\"endlinecolor\":\"#2a3f5f\",\"gridcolor\":\"white\",\"linecolor\":\"white\",\"minorgridcolor\":\"white\",\"startlinecolor\":\"#2a3f5f\"},\"baxis\":{\"endlinecolor\":\"#2a3f5f\",\"gridcolor\":\"white\",\"linecolor\":\"white\",\"minorgridcolor\":\"white\",\"startlinecolor\":\"#2a3f5f\"},\"type\":\"carpet\"}],\"table\":[{\"cells\":{\"fill\":{\"color\":\"#EBF0F8\"},\"line\":{\"color\":\"white\"}},\"header\":{\"fill\":{\"color\":\"#C8D4E3\"},\"line\":{\"color\":\"white\"}},\"type\":\"table\"}],\"barpolar\":[{\"marker\":{\"line\":{\"color\":\"#E5ECF6\",\"width\":0.5},\"pattern\":{\"fillmode\":\"overlay\",\"size\":10,\"solidity\":0.2}},\"type\":\"barpolar\"}],\"pie\":[{\"automargin\":true,\"type\":\"pie\"}]},\"layout\":{\"autotypenumbers\":\"strict\",\"colorway\":[\"#636efa\",\"#EF553B\",\"#00cc96\",\"#ab63fa\",\"#FFA15A\",\"#19d3f3\",\"#FF6692\",\"#B6E880\",\"#FF97FF\",\"#FECB52\"],\"font\":{\"color\":\"#2a3f5f\"},\"hovermode\":\"closest\",\"hoverlabel\":{\"align\":\"left\"},\"paper_bgcolor\":\"white\",\"plot_bgcolor\":\"#E5ECF6\",\"polar\":{\"bgcolor\":\"#E5ECF6\",\"angularaxis\":{\"gridcolor\":\"white\",\"linecolor\":\"white\",\"ticks\":\"\"},\"radialaxis\":{\"gridcolor\":\"white\",\"linecolor\":\"white\",\"ticks\":\"\"}},\"ternary\":{\"bgcolor\":\"#E5ECF6\",\"aaxis\":{\"gridcolor\":\"white\",\"linecolor\":\"white\",\"ticks\":\"\"},\"baxis\":{\"gridcolor\":\"white\",\"linecolor\":\"white\",\"ticks\":\"\"},\"caxis\":{\"gridcolor\":\"white\",\"linecolor\":\"white\",\"ticks\":\"\"}},\"coloraxis\":{\"colorbar\":{\"outlinewidth\":0,\"ticks\":\"\"}},\"colorscale\":{\"sequential\":[[0.0,\"#0d0887\"],[0.1111111111111111,\"#46039f\"],[0.2222222222222222,\"#7201a8\"],[0.3333333333333333,\"#9c179e\"],[0.4444444444444444,\"#bd3786\"],[0.5555555555555556,\"#d8576b\"],[0.6666666666666666,\"#ed7953\"],[0.7777777777777778,\"#fb9f3a\"],[0.8888888888888888,\"#fdca26\"],[1.0,\"#f0f921\"]],\"sequentialminus\":[[0.0,\"#0d0887\"],[0.1111111111111111,\"#46039f\"],[0.2222222222222222,\"#7201a8\"],[0.3333333333333333,\"#9c179e\"],[0.4444444444444444,\"#bd3786\"],[0.5555555555555556,\"#d8576b\"],[0.6666666666666666,\"#ed7953\"],[0.7777777777777778,\"#fb9f3a\"],[0.8888888888888888,\"#fdca26\"],[1.0,\"#f0f921\"]],\"diverging\":[[0,\"#8e0152\"],[0.1,\"#c51b7d\"],[0.2,\"#de77ae\"],[0.3,\"#f1b6da\"],[0.4,\"#fde0ef\"],[0.5,\"#f7f7f7\"],[0.6,\"#e6f5d0\"],[0.7,\"#b8e186\"],[0.8,\"#7fbc41\"],[0.9,\"#4d9221\"],[1,\"#276419\"]]},\"xaxis\":{\"gridcolor\":\"white\",\"linecolor\":\"white\",\"ticks\":\"\",\"title\":{\"standoff\":15},\"zerolinecolor\":\"white\",\"automargin\":true,\"zerolinewidth\":2},\"yaxis\":{\"gridcolor\":\"white\",\"linecolor\":\"white\",\"ticks\":\"\",\"title\":{\"standoff\":15},\"zerolinecolor\":\"white\",\"automargin\":true,\"zerolinewidth\":2},\"scene\":{\"xaxis\":{\"backgroundcolor\":\"#E5ECF6\",\"gridcolor\":\"white\",\"linecolor\":\"white\",\"showbackground\":true,\"ticks\":\"\",\"zerolinecolor\":\"white\",\"gridwidth\":2},\"yaxis\":{\"backgroundcolor\":\"#E5ECF6\",\"gridcolor\":\"white\",\"linecolor\":\"white\",\"showbackground\":true,\"ticks\":\"\",\"zerolinecolor\":\"white\",\"gridwidth\":2},\"zaxis\":{\"backgroundcolor\":\"#E5ECF6\",\"gridcolor\":\"white\",\"linecolor\":\"white\",\"showbackground\":true,\"ticks\":\"\",\"zerolinecolor\":\"white\",\"gridwidth\":2}},\"shapedefaults\":{\"line\":{\"color\":\"#2a3f5f\"}},\"annotationdefaults\":{\"arrowcolor\":\"#2a3f5f\",\"arrowhead\":0,\"arrowwidth\":1},\"geo\":{\"bgcolor\":\"white\",\"landcolor\":\"#E5ECF6\",\"subunitcolor\":\"white\",\"showland\":true,\"showlakes\":true,\"lakecolor\":\"white\"},\"title\":{\"x\":0.05},\"mapbox\":{\"style\":\"light\"}}},\"xaxis\":{\"anchor\":\"y\",\"domain\":[0.0,1.0]},\"yaxis\":{\"anchor\":\"x\",\"domain\":[0.575,1.0]},\"xaxis2\":{\"anchor\":\"y2\",\"domain\":[0.0,1.0]},\"yaxis2\":{\"anchor\":\"x2\",\"domain\":[0.0,0.425]}},                        {\"responsive\": true}                    ).then(function(){\n",
              "                            \n",
              "var gd = document.getElementById('807115d1-467f-4d78-acf3-38077090af03');\n",
              "var x = new MutationObserver(function (mutations, observer) {{\n",
              "        var display = window.getComputedStyle(gd).display;\n",
              "        if (!display || display === 'none') {{\n",
              "            console.log([gd, 'removed!']);\n",
              "            Plotly.purge(gd);\n",
              "            observer.disconnect();\n",
              "        }}\n",
              "}});\n",
              "\n",
              "// Listen for the removal of the full notebook cells\n",
              "var notebookContainer = gd.closest('#notebook-container');\n",
              "if (notebookContainer) {{\n",
              "    x.observe(notebookContainer, {childList: true});\n",
              "}}\n",
              "\n",
              "// Listen for the clearing of the current output cell\n",
              "var outputEl = gd.closest('.output');\n",
              "if (outputEl) {{\n",
              "    x.observe(outputEl, {childList: true});\n",
              "}}\n",
              "\n",
              "                        })                };                            </script>        </div>\n",
              "</body>\n",
              "</html>"
            ]
          },
          "metadata": {}
        }
      ]
    },
    {
      "cell_type": "markdown",
      "source": [
        "# SARIMAX"
      ],
      "metadata": {
        "id": "W6l9uZeB4EKx"
      }
    },
    {
      "cell_type": "code",
      "source": [
        "import plotly.graph_objects as go\n",
        "\n",
        "test_size  = 0.2\n",
        "\n",
        "\n",
        "test_split_idx  = int(data.shape[0] * (1-test_size))\n",
        "\n",
        "\n",
        "train_sarimax  = data.loc[:test_split_idx].copy()\n",
        "\n",
        "test_sarimax   = data.loc[test_split_idx+1:].copy()\n",
        "\n",
        "fig = go.Figure()\n",
        "fig.add_trace(go.Scatter(x=train_sarimax.Date, y=train_sarimax.Close, name='Training'))\n",
        "fig.add_trace(go.Scatter(x=test_sarimax.Date,  y=test_sarimax.Close,  name='Test'))\n",
        "fig.show()"
      ],
      "metadata": {
        "colab": {
          "base_uri": "https://localhost:8080/",
          "height": 542
        },
        "id": "U9AeHpNT4Hgu",
        "outputId": "d9048e0a-5bf8-4aef-8185-e2ee7add4576"
      },
      "execution_count": null,
      "outputs": [
        {
          "output_type": "display_data",
          "data": {
            "text/html": [
              "<html>\n",
              "<head><meta charset=\"utf-8\" /></head>\n",
              "<body>\n",
              "    <div>            <script src=\"https://cdnjs.cloudflare.com/ajax/libs/mathjax/2.7.5/MathJax.js?config=TeX-AMS-MML_SVG\"></script><script type=\"text/javascript\">if (window.MathJax && window.MathJax.Hub && window.MathJax.Hub.Config) {window.MathJax.Hub.Config({SVG: {font: \"STIX-Web\"}});}</script>                <script type=\"text/javascript\">window.PlotlyConfig = {MathJaxConfig: 'local'};</script>\n",
              "        <script charset=\"utf-8\" src=\"https://cdn.plot.ly/plotly-2.24.1.min.js\"></script>                <div id=\"8e0ee2bf-e06b-4200-81e4-fd9c8ae93c72\" class=\"plotly-graph-div\" style=\"height:525px; width:100%;\"></div>            <script type=\"text/javascript\">                                    window.PLOTLYENV=window.PLOTLYENV || {};                                    if (document.getElementById(\"8e0ee2bf-e06b-4200-81e4-fd9c8ae93c72\")) {                    Plotly.newPlot(                        \"8e0ee2bf-e06b-4200-81e4-fd9c8ae93c72\",                        [{\"name\":\"Training\",\"x\":[\"2020-01-02\",\"2020-01-03\",\"2020-01-06\",\"2020-01-07\",\"2020-01-08\",\"2020-01-09\",\"2020-01-10\",\"2020-01-13\",\"2020-01-15\",\"2020-01-16\",\"2020-01-17\",\"2020-01-20\",\"2020-01-21\",\"2020-01-22\",\"2020-01-23\",\"2020-01-24\",\"2020-01-27\",\"2020-01-28\",\"2020-01-29\",\"2020-01-30\",\"2020-01-31\",\"2020-02-03\",\"2020-02-04\",\"2020-02-05\",\"2020-02-06\",\"2020-02-07\",\"2020-02-10\",\"2020-02-11\",\"2020-02-12\",\"2020-02-13\",\"2020-02-14\",\"2020-02-17\",\"2020-02-18\",\"2020-02-19\",\"2020-02-20\",\"2020-02-21\",\"2020-02-24\",\"2020-02-25\",\"2020-02-26\",\"2020-02-27\",\"2020-02-28\",\"2020-03-02\",\"2020-03-03\",\"2020-03-04\",\"2020-03-05\",\"2020-03-06\",\"2020-03-09\",\"2020-03-10\",\"2020-03-11\",\"2020-03-12\",\"2020-03-13\",\"2020-03-16\",\"2020-03-17\",\"2020-03-18\",\"2020-03-19\",\"2020-03-23\",\"2020-03-24\",\"2020-03-25\",\"2020-03-26\",\"2020-03-27\",\"2020-03-30\",\"2020-03-31\",\"2020-04-01\",\"2020-04-02\",\"2020-04-03\",\"2020-04-06\",\"2020-04-07\",\"2020-04-08\",\"2020-04-13\",\"2020-04-14\",\"2020-04-15\",\"2020-04-16\",\"2020-04-17\",\"2020-04-20\",\"2020-04-21\",\"2020-04-22\",\"2020-04-23\",\"2020-04-24\",\"2020-04-27\",\"2020-04-28\",\"2020-04-29\",\"2020-04-30\",\"2020-05-04\",\"2020-05-05\",\"2020-05-06\",\"2020-05-07\",\"2020-05-08\",\"2020-05-11\",\"2020-05-12\",\"2020-05-13\",\"2020-05-14\",\"2020-05-15\",\"2020-05-18\",\"2020-05-19\",\"2020-05-20\",\"2020-05-21\",\"2020-05-22\",\"2020-05-26\",\"2020-05-27\",\"2020-05-28\",\"2020-05-29\",\"2020-06-01\",\"2020-06-02\",\"2020-06-03\",\"2020-06-04\",\"2020-06-05\",\"2020-06-08\",\"2020-06-09\",\"2020-06-10\",\"2020-06-11\",\"2020-06-12\",\"2020-06-15\",\"2020-06-16\",\"2020-06-17\",\"2020-06-18\",\"2020-06-19\",\"2020-06-22\",\"2020-06-23\",\"2020-06-24\",\"2020-06-25\",\"2020-06-26\",\"2020-06-29\",\"2020-06-30\",\"2020-07-01\",\"2020-07-02\",\"2020-07-03\",\"2020-07-06\",\"2020-07-07\",\"2020-07-08\",\"2020-07-09\",\"2020-07-10\",\"2020-07-13\",\"2020-07-14\",\"2020-07-15\",\"2020-07-16\",\"2020-07-17\",\"2020-07-20\",\"2020-07-21\",\"2020-07-22\",\"2020-07-23\",\"2020-07-24\",\"2020-07-27\",\"2020-07-28\",\"2020-07-29\",\"2020-07-30\",\"2020-08-03\",\"2020-08-04\",\"2020-08-05\",\"2020-08-06\",\"2020-08-07\",\"2020-08-10\",\"2020-08-11\",\"2020-08-12\",\"2020-08-14\",\"2020-08-17\",\"2020-08-18\",\"2020-08-19\",\"2020-08-21\",\"2020-08-24\",\"2020-08-25\",\"2020-08-26\",\"2020-08-27\",\"2020-08-28\",\"2020-08-31\",\"2020-09-01\",\"2020-09-02\",\"2020-09-03\",\"2020-09-04\",\"2020-09-07\",\"2020-09-08\",\"2020-09-09\",\"2020-09-10\",\"2020-09-11\",\"2020-09-14\",\"2020-09-15\",\"2020-09-16\",\"2020-09-17\",\"2020-09-18\",\"2020-09-21\",\"2020-09-22\",\"2020-09-23\",\"2020-09-24\",\"2020-09-25\",\"2020-09-28\",\"2020-09-29\",\"2020-09-30\",\"2020-10-01\",\"2020-10-02\",\"2020-10-05\",\"2020-10-06\",\"2020-10-07\",\"2020-10-08\",\"2020-10-09\",\"2020-10-12\",\"2020-10-13\",\"2020-10-14\",\"2020-10-16\",\"2020-10-19\",\"2020-10-20\",\"2020-10-21\",\"2020-10-22\",\"2020-10-23\",\"2020-10-26\",\"2020-10-27\",\"2020-10-28\",\"2020-10-30\",\"2020-11-02\",\"2020-11-03\",\"2020-11-04\",\"2020-11-05\",\"2020-11-06\",\"2020-11-09\",\"2020-11-10\",\"2020-11-11\",\"2020-11-12\",\"2020-11-13\",\"2020-11-16\",\"2020-11-17\",\"2020-11-18\",\"2020-11-19\",\"2020-11-20\",\"2020-11-23\",\"2020-11-24\",\"2020-11-25\",\"2020-11-26\",\"2020-11-27\",\"2020-11-30\",\"2020-12-01\",\"2020-12-02\",\"2020-12-03\",\"2020-12-04\",\"2020-12-07\",\"2020-12-08\",\"2020-12-09\",\"2020-12-10\",\"2020-12-11\",\"2020-12-14\",\"2020-12-15\",\"2020-12-16\",\"2020-12-17\",\"2020-12-18\",\"2020-12-21\",\"2020-12-22\",\"2020-12-23\",\"2020-12-24\",\"2020-12-25\",\"2020-12-28\",\"2020-12-29\",\"2020-12-30\",\"2020-12-31\",\"2021-01-04\",\"2021-01-05\",\"2021-01-06\",\"2021-01-07\",\"2021-01-08\",\"2021-01-11\",\"2021-01-12\",\"2021-01-13\",\"2021-01-15\",\"2021-01-18\",\"2021-01-19\",\"2021-01-20\",\"2021-01-21\",\"2021-01-22\",\"2021-01-25\",\"2021-01-26\",\"2021-01-27\",\"2021-01-28\",\"2021-01-29\",\"2021-02-01\",\"2021-02-02\",\"2021-02-03\",\"2021-02-04\",\"2021-02-05\",\"2021-02-08\",\"2021-02-09\",\"2021-02-10\",\"2021-02-11\",\"2021-02-12\",\"2021-02-15\",\"2021-02-16\",\"2021-02-17\",\"2021-02-18\",\"2021-02-19\",\"2021-02-22\",\"2021-02-23\",\"2021-02-24\",\"2021-02-25\",\"2021-02-26\",\"2021-03-01\",\"2021-03-02\",\"2021-03-03\",\"2021-03-04\",\"2021-03-05\",\"2021-03-08\",\"2021-03-09\",\"2021-03-10\",\"2021-03-11\",\"2021-03-12\",\"2021-03-15\",\"2021-03-16\",\"2021-03-17\",\"2021-03-18\",\"2021-03-19\",\"2021-03-22\",\"2021-03-23\",\"2021-03-24\",\"2021-03-25\",\"2021-03-26\",\"2021-03-29\",\"2021-03-30\",\"2021-03-31\",\"2021-04-01\",\"2021-04-02\",\"2021-04-05\",\"2021-04-06\",\"2021-04-07\",\"2021-04-08\",\"2021-04-12\",\"2021-04-13\",\"2021-04-14\",\"2021-04-15\",\"2021-04-16\",\"2021-04-19\",\"2021-04-20\",\"2021-04-21\",\"2021-04-22\",\"2021-04-23\",\"2021-04-26\",\"2021-04-27\",\"2021-04-28\",\"2021-04-29\",\"2021-04-30\",\"2021-05-03\",\"2021-05-04\",\"2021-05-05\",\"2021-05-06\",\"2021-05-07\",\"2021-05-10\",\"2021-05-11\",\"2021-05-17\",\"2021-05-18\",\"2021-05-19\",\"2021-05-20\",\"2021-05-21\",\"2021-05-24\",\"2021-05-25\",\"2021-05-26\",\"2021-05-27\",\"2021-05-28\",\"2021-05-31\",\"2021-06-01\",\"2021-06-02\",\"2021-06-03\",\"2021-06-04\",\"2021-06-07\",\"2021-06-08\",\"2021-06-09\",\"2021-06-10\",\"2021-06-11\",\"2021-06-14\",\"2021-06-15\",\"2021-06-16\",\"2021-06-17\",\"2021-06-18\",\"2021-06-21\",\"2021-06-22\",\"2021-06-23\",\"2021-06-24\",\"2021-06-25\",\"2021-06-28\",\"2021-06-29\",\"2021-06-30\",\"2021-07-01\",\"2021-07-02\",\"2021-07-05\",\"2021-07-06\",\"2021-07-07\",\"2021-07-08\",\"2021-07-09\",\"2021-07-12\",\"2021-07-13\",\"2021-07-14\",\"2021-07-15\",\"2021-07-16\",\"2021-07-19\",\"2021-07-22\",\"2021-07-23\",\"2021-07-26\",\"2021-07-27\",\"2021-07-28\",\"2021-07-29\",\"2021-07-30\",\"2021-08-02\",\"2021-08-03\",\"2021-08-04\",\"2021-08-05\",\"2021-08-06\",\"2021-08-09\",\"2021-08-11\",\"2021-08-12\",\"2021-08-16\",\"2021-08-17\",\"2021-08-18\",\"2021-08-19\",\"2021-08-20\",\"2021-08-23\",\"2021-08-24\",\"2021-08-25\",\"2021-08-26\",\"2021-08-27\",\"2021-08-30\",\"2021-08-31\",\"2021-09-01\",\"2021-09-02\",\"2021-09-03\",\"2021-09-06\",\"2021-09-07\",\"2021-09-08\",\"2021-09-09\",\"2021-09-10\",\"2021-09-13\",\"2021-09-14\",\"2021-09-15\",\"2021-09-16\",\"2021-09-17\",\"2021-09-20\",\"2021-09-21\",\"2021-09-22\",\"2021-09-23\",\"2021-09-24\",\"2021-09-27\",\"2021-09-28\",\"2021-09-29\",\"2021-09-30\",\"2021-10-01\",\"2021-10-04\",\"2021-10-05\",\"2021-10-06\",\"2021-10-07\",\"2021-10-08\",\"2021-10-11\",\"2021-10-12\",\"2021-10-13\",\"2021-10-14\",\"2021-10-19\",\"2021-10-20\",\"2021-10-21\",\"2021-10-22\",\"2021-10-25\",\"2021-10-26\",\"2021-10-27\",\"2021-10-28\",\"2021-10-29\",\"2021-11-01\",\"2021-11-02\",\"2021-11-03\",\"2021-11-04\",\"2021-11-05\",\"2021-11-08\",\"2021-11-09\",\"2021-11-10\",\"2021-11-11\",\"2021-11-12\",\"2021-11-15\",\"2021-11-16\",\"2021-11-17\",\"2021-11-18\",\"2021-11-19\",\"2021-11-22\",\"2021-11-23\",\"2021-11-24\",\"2021-11-25\",\"2021-11-26\",\"2021-11-29\",\"2021-11-30\",\"2021-12-01\",\"2021-12-02\",\"2021-12-03\",\"2021-12-06\",\"2021-12-07\",\"2021-12-08\",\"2021-12-09\",\"2021-12-10\",\"2021-12-13\",\"2021-12-14\",\"2021-12-15\",\"2021-12-16\",\"2021-12-20\",\"2021-12-21\",\"2021-12-22\",\"2021-12-23\",\"2021-12-24\",\"2021-12-27\",\"2021-12-28\",\"2021-12-29\",\"2021-12-30\",\"2021-12-31\",\"2022-01-03\",\"2022-01-04\",\"2022-01-05\",\"2022-01-06\",\"2022-01-07\",\"2022-01-10\",\"2022-01-11\",\"2022-01-12\",\"2022-01-13\",\"2022-01-14\",\"2022-01-17\",\"2022-01-18\",\"2022-01-19\",\"2022-01-20\",\"2022-01-21\",\"2022-01-24\",\"2022-01-25\",\"2022-01-26\",\"2022-01-27\",\"2022-01-28\",\"2022-01-31\",\"2022-02-01\",\"2022-02-02\",\"2022-02-03\",\"2022-02-04\",\"2022-02-07\",\"2022-02-08\",\"2022-02-09\",\"2022-02-10\",\"2022-02-11\",\"2022-02-14\",\"2022-02-15\",\"2022-02-16\",\"2022-02-17\",\"2022-02-18\",\"2022-02-21\",\"2022-02-22\",\"2022-02-23\",\"2022-02-24\",\"2022-02-25\",\"2022-02-28\",\"2022-03-01\",\"2022-03-02\",\"2022-03-03\",\"2022-03-04\",\"2022-03-07\",\"2022-03-08\",\"2022-03-09\",\"2022-03-10\",\"2022-03-11\",\"2022-03-14\",\"2022-03-15\",\"2022-03-16\",\"2022-03-17\",\"2022-03-18\",\"2022-03-21\",\"2022-03-22\",\"2022-03-23\",\"2022-03-24\",\"2022-03-25\",\"2022-03-28\",\"2022-03-29\",\"2022-03-30\",\"2022-03-31\",\"2022-04-01\",\"2022-04-04\",\"2022-04-05\",\"2022-04-06\",\"2022-04-07\",\"2022-04-08\",\"2022-04-11\",\"2022-04-12\",\"2022-04-13\",\"2022-04-14\",\"2022-04-15\",\"2022-04-18\",\"2022-04-19\",\"2022-04-20\",\"2022-04-21\",\"2022-04-22\",\"2022-04-25\",\"2022-04-26\",\"2022-04-27\",\"2022-04-28\",\"2022-04-29\",\"2022-05-04\",\"2022-05-05\",\"2022-05-06\",\"2022-05-09\",\"2022-05-10\",\"2022-05-11\",\"2022-05-12\",\"2022-05-13\",\"2022-05-16\",\"2022-05-17\",\"2022-05-18\",\"2022-05-19\",\"2022-05-20\",\"2022-05-23\",\"2022-05-24\",\"2022-05-25\",\"2022-05-26\",\"2022-05-27\",\"2022-05-30\",\"2022-05-31\",\"2022-06-01\",\"2022-06-02\",\"2022-06-03\",\"2022-06-06\",\"2022-06-07\",\"2022-06-08\",\"2022-06-09\",\"2022-06-10\",\"2022-06-13\",\"2022-06-14\",\"2022-06-15\",\"2022-06-16\",\"2022-06-17\",\"2022-06-20\",\"2022-06-21\",\"2022-06-22\",\"2022-06-23\",\"2022-06-24\",\"2022-06-27\",\"2022-06-28\",\"2022-06-29\",\"2022-06-30\",\"2022-07-01\",\"2022-07-04\",\"2022-07-05\",\"2022-07-06\",\"2022-07-07\",\"2022-07-08\",\"2022-07-11\",\"2022-07-12\",\"2022-07-13\",\"2022-07-14\",\"2022-07-15\",\"2022-07-18\",\"2022-07-19\",\"2022-07-20\",\"2022-07-21\",\"2022-07-22\",\"2022-07-26\",\"2022-07-27\",\"2022-07-28\",\"2022-07-29\",\"2022-08-01\",\"2022-08-02\",\"2022-08-03\",\"2022-08-04\",\"2022-08-05\",\"2022-08-08\",\"2022-08-09\",\"2022-08-10\",\"2022-08-11\",\"2022-08-12\",\"2022-08-15\",\"2022-08-16\",\"2022-08-17\",\"2022-08-18\",\"2022-08-19\",\"2022-08-22\",\"2022-08-23\",\"2022-08-24\",\"2022-08-25\",\"2022-08-26\",\"2022-08-29\",\"2022-08-30\",\"2022-08-31\",\"2022-09-01\",\"2022-09-02\",\"2022-09-05\",\"2022-09-06\",\"2022-09-07\",\"2022-09-08\",\"2022-09-09\",\"2022-09-12\",\"2022-09-13\",\"2022-09-14\",\"2022-09-15\",\"2022-09-16\",\"2022-09-19\",\"2022-09-20\",\"2022-09-21\",\"2022-09-22\",\"2022-09-23\",\"2022-09-26\",\"2022-09-27\",\"2022-09-28\",\"2022-09-29\",\"2022-09-30\",\"2022-10-03\",\"2022-10-04\",\"2022-10-05\",\"2022-10-06\",\"2022-10-07\",\"2022-10-10\",\"2022-10-11\",\"2022-10-12\",\"2022-10-13\",\"2022-10-14\",\"2022-10-17\",\"2022-10-18\",\"2022-10-19\",\"2022-10-20\",\"2022-10-21\",\"2022-10-24\",\"2022-10-25\",\"2022-10-26\",\"2022-10-27\",\"2022-10-28\",\"2022-10-31\",\"2022-11-01\",\"2022-11-02\",\"2022-11-03\",\"2022-11-04\",\"2022-11-07\",\"2022-11-08\",\"2022-11-09\",\"2022-11-10\",\"2022-11-11\",\"2022-11-14\",\"2022-11-15\",\"2022-11-16\",\"2022-11-17\",\"2022-11-18\",\"2022-11-21\",\"2022-11-22\",\"2022-11-23\",\"2022-11-24\",\"2022-11-25\",\"2022-11-28\",\"2022-11-29\",\"2022-11-30\",\"2022-12-01\",\"2022-12-02\",\"2022-12-05\",\"2022-12-06\",\"2022-12-07\",\"2022-12-08\",\"2022-12-09\",\"2022-12-12\",\"2022-12-13\",\"2022-12-14\",\"2022-12-15\",\"2022-12-16\",\"2022-12-19\",\"2022-12-20\",\"2022-12-21\",\"2022-12-22\",\"2022-12-23\",\"2022-12-26\",\"2022-12-27\",\"2022-12-28\",\"2022-12-29\",\"2022-12-30\",\"2023-01-02\",\"2023-01-03\",\"2023-01-04\",\"2023-01-05\",\"2023-01-06\",\"2023-01-09\",\"2023-01-10\",\"2023-01-11\",\"2023-01-12\",\"2023-01-13\",\"2023-01-16\",\"2023-01-17\",\"2023-01-18\",\"2023-01-19\",\"2023-01-20\",\"2023-01-23\",\"2023-01-24\",\"2023-01-25\",\"2023-01-26\",\"2023-01-27\",\"2023-01-30\",\"2023-01-31\",\"2023-02-01\",\"2023-02-02\",\"2023-02-03\",\"2023-02-06\",\"2023-02-07\",\"2023-02-08\",\"2023-02-09\",\"2023-02-10\",\"2023-02-13\",\"2023-02-14\",\"2023-02-15\",\"2023-02-16\",\"2023-02-17\",\"2023-02-20\",\"2023-02-21\",\"2023-02-22\",\"2023-02-23\",\"2023-02-24\",\"2023-02-27\",\"2023-02-28\",\"2023-03-01\",\"2023-03-02\",\"2023-03-03\",\"2023-03-06\",\"2023-03-07\",\"2023-03-08\",\"2023-03-09\",\"2023-03-10\",\"2023-03-13\",\"2023-03-14\",\"2023-03-15\",\"2023-03-16\",\"2023-03-17\",\"2023-03-21\",\"2023-03-22\",\"2023-03-23\",\"2023-03-24\",\"2023-03-27\",\"2023-03-28\",\"2023-03-29\",\"2023-03-30\",\"2023-03-31\",\"2023-04-03\",\"2023-04-04\",\"2023-04-05\",\"2023-04-06\",\"2023-04-07\",\"2023-04-10\",\"2023-04-11\",\"2023-04-12\"],\"y\":[7042.642,6994.84,6967.192,6921.921,6892.276,6884.589,6867.617,6880.824,6904.554,6921.025,6902.41,6939.534,6953.457,6974.912,6987.92,7015.007,7053.893,7059.653,7048.026,7055.671,7080.147,7089.393,7076.307,7073.439,7070.321,7103.535,7092.227,7087.229,7093.796,7108.453,7115.516,7136.823,7151.849,7160.622,7169.745,7171.172,7175.098,7150.066,7133.995,7153.686,7174.683,7206.194,7180.633,7162.205,7113.694,7028.747,6925.354,6862.225,6912.473,6813.779,6623.861,6349.514,6119.135,6158.525,6141.039,6197.219,6319.417,6355.906,6426.853,6412.601,6434.926,6485.971,6487.17,6340.659,6254.182,6227.081,6260.247,6244.81,6247.119,6235.944,6243.351,6262.122,6279.667,6342.21,6325.916,6336.335,6365.969,6359.958,6351.735,6293.249,6237.077,6212.572,6236.931,6245.141,6240.196,6285.422,6268.361,6290.069,6329.467,6367.479,6430.959,6480.845,6432.914,6427.318,6453.933,6446.513,6475.044,6478.035,6465.207,6440.399,6489.146,6521.003,6570.01,6575.208,6623.604,6647.767,6642.431,6624.681,6636.222,6655.192,6695.616,6699.281,6702.58,6725.002,6717.165,6701.676,6698.282,6725.639,6694.663,6643.563,6608.152,6627.972,6627.631,6563.453,6549.891,6573.206,6584.777,6573.232,6603.689,6606.311,6610.62,6615.226,6591.726,6573.847,6559.237,6552.094,6576.276,6528.068,6553.683,6563.984,6596.28,6600.653,6582.103,6579.736,6587.534,6586.812,6609.502,6686.525,6659.632,6664.849,6702.884,6718.841,6760.859,6757.811,6689.103,6670.978,6680.618,6705.805,6707.089,6721.851,6736.295,6738.585,6758.037,6766.456,6754.969,6768.329,6753.482,6767.328,6761.582,6745.397,6791.938,6818.663,6866.346,6894.639,6898.959,6867.456,6852.999,6881.191,6845.151,6811.05,6832.673,6794.08,6810.394,6775.82,6827.252,6750.303,6579.998,6569.48,6689.48,6741.765,6675.0,6671.098,6677.797,6661.333,6654.197,6662.9,6676.056,6682.41,6649.346,6651.569,6646.143,6660.9,6647.492,6625.174,6612.011,6557.479,6540.796,6546.609,6546.448,6536.692,6566.646,6604.487,6619.048,6623.291,6628.262,6644.349,6672.553,6697.672,6715.367,6739.521,6744.675,6747.986,6754.111,6807.723,6774.497,6781.405,6819.958,6815.089,6823.482,6823.059,6827.194,6854.535,6873.624,6896.113,6885.843,6851.258,6837.38,6849.192,6815.803,6826.363,6850.687,6867.953,6841.834,6854.909,6866.665,6867.905,6854.194,6852.248,6851.632,6884.956,6807.968,6765.164,6743.705,6719.628,6743.144,6731.828,6733.199,6712.768,6717.205,6684.206,6716.557,6704.079,6698.037,6649.774,6678.532,6643.683,6615.975,6652.326,6654.776,6635.248,6597.941,6606.549,6605.24,6623.534,6611.644,6618.695,6651.877,6649.136,6629.608,6657.435,6673.516,6666.227,6710.939,6698.212,6693.965,6696.979,6692.646,6691.505,6674.747,6655.633,6665.394,6686.901,6723.982,6763.979,6775.604,6775.665,6788.65,6820.794,6828.751,6829.256,6791.27,6799.132,6818.306,6807.771,6887.415,6964.045,7077.897,7080.33,7080.766,7093.412,7098.125,7089.159,7135.773,7151.467,7175.538,7210.284,7194.833,7164.486,7138.098,7123.588,7105.755,7083.513,7031.572,7001.833,6973.525,6991.894,7035.459,7066.755,7072.769,7069.294,7084.492,7131.673,7161.721,7212.531,7246.059,7233.423,7268.37,7247.297,7297.379,7360.111,7393.969,7381.174,7391.243,7409.618,7431.209,7427.201,7397.921,7385.246,7399.823,7441.887,7394.232,7399.089,7375.958,7369.984,7369.071,7371.627,7367.448,7365.074,7373.957,7377.376,7386.503,7363.059,7337.763,7323.249,7320.46,7322.82,7327.225,7313.518,7298.538,7307.108,7295.626,7264.546,7243.232,7234.484,7234.763,7234.215,7245.45,7257.264,7275.103,7253.817,7252.193,7252.416,7235.782,7227.931,7263.705,7292.351,7286.405,7283.459,7235.573,7256.352,7265.696,7287.56,7307.793,7298.751,7287.415,7277.089,7292.364,7299.839,7311.319,7285.26,7283.135,7302.997,7300.491,7295.584,7311.562,7323.486,7302.541,7311.046,7311.02,7313.364,7351.06,7354.417,7356.766,7348.994,7335.995,7347.445,7321.875,7301.071,7284.684,7282.758,7285.892,7283.129,7253.73,7240.108,7244.852,7259.207,7263.427,7244.065,7209.664,7255.314,7255.85,7281.554,7248.001,7266.912,7281.63,7288.943,7286.593,7272.465,7283.367,7268.53,7263.283,7253.921,7243.886,7226.835,7222.077,7172.367,7107.066,7077.622,7002.605,7002.264,6981.945,7016.363,7046.693,7038.333,7013.313,7010.556,7029.68,7000.218,7004.698,6999.8,7022.112,7035.141,7036.818,7047.438,7038.345,7042.521,7024.9,7032.885,7036.18,7037.422,7052.637,7054.392,7066.807,7069.854,7066.419,7045.732,7041.956,7024.349,7022.406,6982.468,6977.506,6967.067,6964.317,6975.892,6970.976,6973.75,6968.927,6958.192,6944.028,6955.576,6898.207,6919.059,6913.083,6932.814,6959.12,6994.137,7060.233,7044.742,6975.973,6959.469,6977.252,6959.272,6981.787,6977.74,6989.488,7031.088,7078.649,7098.53,7088.641,7081.549,7082.076,7069.518,7071.097,7104.417,7087.239,7118.317,7118.779,7100.513,7091.389,7112.743,7116.79,7096.023,7096.019,7091.429,7096.496,7111.105,7117.62,7123.224,7120.718,7124.674,7151.539,7161.425,7152.709,7154.42,7129.934,7111.292,7065.38,7072.446,7081.501,7064.74,7130.15,7132.771,7119.253,7117.232,7104.615,7075.412,7089.328,7088.668,7134.082,7155.562,7140.366,7159.238,7135.496,7096.569,7098.477,7094.311,7109.867,7131.364,7067.503,7079.84,7090.483,7105.337,7088.712,7092.148,7114.282,7127.954,7153.552,7152.28,7173.197,7186.981,7225.003,7264.665,7251.595,7231.974,7227.925,7231.479,7234.513,7226.497,7228.892,7239.645,7244.179,7236.098,7255.386,7303.938,7278.984,7276.849,7279.469,7303.266,7266.384,7280.226,7320.976,7306.515,7282.257,7305.822,7316.353,7317.207,7320.313,7331.261,7359.872,7357.732,7356.664,7369.361,7374.944,7385.589,7369.399,7343.228,7340.877,7324.486,7341.337,7340.329,7350.367,7364.089,7383.064,7415.11,7483.67,7460.516,7454.283,7461.437,7545.35,7562.39,7541.067,7530.529,7520.852,7490.727,7489.394,7491.066,7512.199,7493.08,7517.773,7512.156,7520.711,7522.287,7529.554,7545.606,7558.809,7584.157,7583.409,7561.305,7597.48,7620.147,7671.371,7694.411,7689.814,7700.148,7732.723,7746.259,7745.208,7751.81,7769.596,7748.82,7753.67,7761.097,7778.013,7784.187,7805.498,7802.927,7832.733,7841.738,7919.806,7932.963,7915.008,7911.446,7920.445,7949.412,7970.567,7998.964,8014.849,8108.028,8129.937,8107.419,8116.597,8125.061,8215.548,8193.997,8200.49,8188.022,8185.621,8182.233,8152.465,8124.217,8127.092,8126.119,8163.329,8153.456,8191.764,8268.047,8306.377,8322.672,8347.771,8318.846,8304.293,8242.039,8167.015,8165.03,8107.276,8147.812,8157.486,8104.408,8112.109,8126.42,8129.305,8130.761,8119.38,8100.25,8118.434,8123.438,8147.891,8173.573,8167.033,8190.956,8224.475,8267.834,8248.08,8245.623,8230.106,8219.906,8219.281,8188.458,8161.783,8127.243,8135.241,8093.953,8057.723,8055.139,8076.075,8113.947,8099.378,8094.194,8081.064,8076.048,8093.58,8094.267,8083.248,8063.294,8067.412,8078.204,8052.101,8032.329,8029.491,8067.185,8122.294,8106.3,8109.073,8109.538,8122.694,8130.471,8129.81,8102.369,8096.448,8073.982,8068.196,8086.898,8076.905,8115.246,8113.564,8093.691,8068.601,8051.085,8088.196,8103.646,8104.166,8108.464,8117.692,8235.332,8285.995,8303.66,8280.692,8226.926,8233.214,8246.903,8200.396,8239.183,8225.664,8275.367,8352.761,8318.435,8275.965,8242.015,8185.109,8221.715,8202.205,8179.775,8118.66,8070.008,8046.734,8098.31,8160.571,8117.277,8124.41,8132.258,8096.939,8091.205,8043.944,8039.941,8039.991,8017.94,8045.714,8031.336,8085.897,8100.206,8128.076,8106.12,8095.195,8111.608,8086.691,8093.043,8097.018,8089.396,8084.213,8073.806,8049.854,8014.196,8044.407,8066.37,8103.812,8096.971,8115.474,8125.747,8126.406,8135.576,8212.168,8253.078,8219.225,8234.266,8224.093,8230.555,8213.004],\"type\":\"scatter\"},{\"name\":\"Test\",\"x\":[\"2023-04-13\",\"2023-04-14\",\"2023-04-17\",\"2023-04-18\",\"2023-04-19\",\"2023-04-20\",\"2023-04-24\",\"2023-04-25\",\"2023-04-26\",\"2023-04-27\",\"2023-04-28\",\"2023-05-02\",\"2023-05-03\",\"2023-05-04\",\"2023-05-05\",\"2023-05-08\",\"2023-05-09\",\"2023-05-10\",\"2023-05-11\",\"2023-05-12\",\"2023-05-15\",\"2023-05-16\",\"2023-05-17\",\"2023-05-18\",\"2023-05-19\",\"2023-05-22\",\"2023-05-23\",\"2023-05-24\",\"2023-05-25\",\"2023-05-26\",\"2023-05-29\",\"2023-05-30\",\"2023-05-31\",\"2023-06-01\",\"2023-06-02\",\"2023-06-05\",\"2023-06-06\",\"2023-06-07\",\"2023-06-08\",\"2023-06-09\",\"2023-06-12\",\"2023-06-13\",\"2023-06-14\",\"2023-06-15\",\"2023-06-16\",\"2023-06-19\",\"2023-06-20\",\"2023-06-21\",\"2023-06-22\",\"2023-06-23\",\"2023-06-26\",\"2023-06-27\",\"2023-06-30\",\"2023-07-03\",\"2023-07-04\",\"2023-07-05\",\"2023-07-06\",\"2023-07-07\",\"2023-07-10\",\"2023-07-11\",\"2023-07-12\",\"2023-07-13\",\"2023-07-14\",\"2023-07-17\",\"2023-07-20\",\"2023-07-21\",\"2023-07-24\",\"2023-07-26\",\"2023-07-27\",\"2023-07-28\",\"2023-07-31\",\"2023-08-01\",\"2023-08-02\",\"2023-08-03\",\"2023-08-04\",\"2023-08-07\",\"2023-08-08\",\"2023-08-09\",\"2023-08-10\",\"2023-08-11\",\"2023-08-14\",\"2023-08-15\",\"2023-08-16\",\"2023-08-17\",\"2023-08-18\",\"2023-08-21\",\"2023-08-22\",\"2023-08-23\",\"2023-08-24\",\"2023-08-25\",\"2023-08-28\",\"2023-08-29\",\"2023-08-30\",\"2023-08-31\",\"2023-09-01\",\"2023-09-04\",\"2023-09-05\",\"2023-09-06\",\"2023-09-07\",\"2023-09-08\",\"2023-09-11\",\"2023-09-12\",\"2023-09-13\",\"2023-09-14\",\"2023-09-15\",\"2023-09-18\",\"2023-09-19\",\"2023-09-20\",\"2023-09-21\",\"2023-09-22\",\"2023-09-25\",\"2023-09-26\",\"2023-09-28\",\"2023-09-29\",\"2023-10-02\",\"2023-10-03\",\"2023-10-04\",\"2023-10-05\",\"2023-10-06\",\"2023-10-09\",\"2023-10-10\",\"2023-10-11\",\"2023-10-12\",\"2023-10-13\",\"2023-10-16\",\"2023-10-17\",\"2023-10-18\",\"2023-10-19\",\"2023-10-20\",\"2023-10-23\",\"2023-10-24\",\"2023-10-25\",\"2023-10-26\",\"2023-10-27\",\"2023-10-30\",\"2023-10-31\",\"2023-11-01\",\"2023-11-02\",\"2023-11-03\",\"2023-11-06\",\"2023-11-07\",\"2023-11-08\",\"2023-11-09\",\"2023-11-10\",\"2023-11-13\",\"2023-11-14\",\"2023-11-15\",\"2023-11-16\",\"2023-11-17\",\"2023-11-20\",\"2023-11-21\",\"2023-11-22\",\"2023-11-23\",\"2023-11-24\",\"2023-11-27\",\"2023-11-28\",\"2023-11-29\",\"2023-11-30\",\"2023-12-01\",\"2023-12-04\",\"2023-12-05\",\"2023-12-06\",\"2023-12-07\",\"2023-12-08\",\"2023-12-11\",\"2023-12-12\",\"2023-12-13\",\"2023-12-14\",\"2023-12-15\",\"2023-12-18\",\"2023-12-19\",\"2023-12-20\",\"2023-12-21\",\"2023-12-22\",\"2023-12-25\",\"2023-12-26\",\"2023-12-27\",\"2023-12-28\",\"2023-12-29\",\"2024-01-02\",\"2024-01-03\",\"2024-01-04\",\"2024-01-05\",\"2024-01-08\",\"2024-01-09\",\"2024-01-10\",\"2024-01-11\",\"2024-01-12\",\"2024-01-15\",\"2024-01-16\",\"2024-01-17\",\"2024-01-18\",\"2024-01-19\",\"2024-01-22\",\"2024-01-23\",\"2024-01-24\",\"2024-01-25\",\"2024-01-26\",\"2024-01-29\",\"2024-01-30\",\"2024-01-31\",\"2024-02-01\",\"2024-02-02\",\"2024-02-05\",\"2024-02-06\",\"2024-02-07\"],\"y\":[8205.075,8152.102,8142.653,8220.0,8202.834,8243.939,8248.271,8278.656,8267.2,8302.349,8279.13,8293.916,8356.652,8355.208,8368.365,8370.771,8390.333,8384.429,8405.538,8356.082,8370.934,8413.455,8466.724,8492.206,8540.491,8550.072,8577.129,8590.651,8665.425,8675.312,8701.07,8718.573,8731.218,8809.879,8810.2,8823.767,8793.886,8774.959,8775.091,8784.887,8799.535,8818.326,8817.18,8817.245,8815.36,8783.097,8864.551,8894.82,8909.438,8923.313,8914.19,8922.087,8946.812,8962.321,8967.419,8992.281,8993.469,9022.924,9032.591,9014.294,9010.605,8977.998,8967.696,8987.308,8992.42,9021.406,9027.65,9027.621,9032.119,9048.479,9024.137,8993.789,8960.9,8960.973,8920.348,8922.668,8912.016,8894.005,8904.297,8892.74,8902.887,8924.021,8893.845,8885.076,8886.379,8901.167,8888.213,8871.432,8922.644,8853.202,8895.769,8893.142,8912.115,8940.484,8944.014,8945.759,8972.907,8978.926,8957.861,8968.006,8941.016,8899.732,8878.308,8879.303,8822.14,8771.979,8730.173,8669.297,8543.893,8498.421,8425.637,8452.616,8443.498,8459.027,8488.017,8480.786,8480.295,8481.093,8480.832,8455.136,8469.103,8461.937,8462.374,8485.839,8494.565,8485.236,8501.279,8447.355,8446.114,8498.445,8494.028,8447.003,8447.699,8440.562,8413.704,8397.979,8397.563,8398.888,8419.065,8410.927,8412.257,8407.381,8445.308,8454.437,8459.907,8428.58,8469.914,8472.269,8491.934,8506.248,8544.238,8554.68,8569.472,8544.65,8564.807,8566.112,8567.316,8577.231,8576.747,8576.414,8589.605,8595.953,8587.344,8607.111,8603.73,8622.873,8623.0,8645.014,8650.356,8616.113,8618.343,8624.014,8589.57,8607.199,8600.126,8606.922,8652.057,8727.683,8747.943,8687.837,8614.042,8582.683,8550.357,8511.835,8480.947,8421.604,8431.013,8459.944,8444.439,8448.942,8406.158,8420.049,8411.421,8434.079,8424.068,8428.574,8427.928,8426.194,8429.375,8413.017,8418.413,8385.983,8378.098,8362.443,8353.96,8379.622],\"type\":\"scatter\"}],                        {\"template\":{\"data\":{\"histogram2dcontour\":[{\"type\":\"histogram2dcontour\",\"colorbar\":{\"outlinewidth\":0,\"ticks\":\"\"},\"colorscale\":[[0.0,\"#0d0887\"],[0.1111111111111111,\"#46039f\"],[0.2222222222222222,\"#7201a8\"],[0.3333333333333333,\"#9c179e\"],[0.4444444444444444,\"#bd3786\"],[0.5555555555555556,\"#d8576b\"],[0.6666666666666666,\"#ed7953\"],[0.7777777777777778,\"#fb9f3a\"],[0.8888888888888888,\"#fdca26\"],[1.0,\"#f0f921\"]]}],\"choropleth\":[{\"type\":\"choropleth\",\"colorbar\":{\"outlinewidth\":0,\"ticks\":\"\"}}],\"histogram2d\":[{\"type\":\"histogram2d\",\"colorbar\":{\"outlinewidth\":0,\"ticks\":\"\"},\"colorscale\":[[0.0,\"#0d0887\"],[0.1111111111111111,\"#46039f\"],[0.2222222222222222,\"#7201a8\"],[0.3333333333333333,\"#9c179e\"],[0.4444444444444444,\"#bd3786\"],[0.5555555555555556,\"#d8576b\"],[0.6666666666666666,\"#ed7953\"],[0.7777777777777778,\"#fb9f3a\"],[0.8888888888888888,\"#fdca26\"],[1.0,\"#f0f921\"]]}],\"heatmap\":[{\"type\":\"heatmap\",\"colorbar\":{\"outlinewidth\":0,\"ticks\":\"\"},\"colorscale\":[[0.0,\"#0d0887\"],[0.1111111111111111,\"#46039f\"],[0.2222222222222222,\"#7201a8\"],[0.3333333333333333,\"#9c179e\"],[0.4444444444444444,\"#bd3786\"],[0.5555555555555556,\"#d8576b\"],[0.6666666666666666,\"#ed7953\"],[0.7777777777777778,\"#fb9f3a\"],[0.8888888888888888,\"#fdca26\"],[1.0,\"#f0f921\"]]}],\"heatmapgl\":[{\"type\":\"heatmapgl\",\"colorbar\":{\"outlinewidth\":0,\"ticks\":\"\"},\"colorscale\":[[0.0,\"#0d0887\"],[0.1111111111111111,\"#46039f\"],[0.2222222222222222,\"#7201a8\"],[0.3333333333333333,\"#9c179e\"],[0.4444444444444444,\"#bd3786\"],[0.5555555555555556,\"#d8576b\"],[0.6666666666666666,\"#ed7953\"],[0.7777777777777778,\"#fb9f3a\"],[0.8888888888888888,\"#fdca26\"],[1.0,\"#f0f921\"]]}],\"contourcarpet\":[{\"type\":\"contourcarpet\",\"colorbar\":{\"outlinewidth\":0,\"ticks\":\"\"}}],\"contour\":[{\"type\":\"contour\",\"colorbar\":{\"outlinewidth\":0,\"ticks\":\"\"},\"colorscale\":[[0.0,\"#0d0887\"],[0.1111111111111111,\"#46039f\"],[0.2222222222222222,\"#7201a8\"],[0.3333333333333333,\"#9c179e\"],[0.4444444444444444,\"#bd3786\"],[0.5555555555555556,\"#d8576b\"],[0.6666666666666666,\"#ed7953\"],[0.7777777777777778,\"#fb9f3a\"],[0.8888888888888888,\"#fdca26\"],[1.0,\"#f0f921\"]]}],\"surface\":[{\"type\":\"surface\",\"colorbar\":{\"outlinewidth\":0,\"ticks\":\"\"},\"colorscale\":[[0.0,\"#0d0887\"],[0.1111111111111111,\"#46039f\"],[0.2222222222222222,\"#7201a8\"],[0.3333333333333333,\"#9c179e\"],[0.4444444444444444,\"#bd3786\"],[0.5555555555555556,\"#d8576b\"],[0.6666666666666666,\"#ed7953\"],[0.7777777777777778,\"#fb9f3a\"],[0.8888888888888888,\"#fdca26\"],[1.0,\"#f0f921\"]]}],\"mesh3d\":[{\"type\":\"mesh3d\",\"colorbar\":{\"outlinewidth\":0,\"ticks\":\"\"}}],\"scatter\":[{\"fillpattern\":{\"fillmode\":\"overlay\",\"size\":10,\"solidity\":0.2},\"type\":\"scatter\"}],\"parcoords\":[{\"type\":\"parcoords\",\"line\":{\"colorbar\":{\"outlinewidth\":0,\"ticks\":\"\"}}}],\"scatterpolargl\":[{\"type\":\"scatterpolargl\",\"marker\":{\"colorbar\":{\"outlinewidth\":0,\"ticks\":\"\"}}}],\"bar\":[{\"error_x\":{\"color\":\"#2a3f5f\"},\"error_y\":{\"color\":\"#2a3f5f\"},\"marker\":{\"line\":{\"color\":\"#E5ECF6\",\"width\":0.5},\"pattern\":{\"fillmode\":\"overlay\",\"size\":10,\"solidity\":0.2}},\"type\":\"bar\"}],\"scattergeo\":[{\"type\":\"scattergeo\",\"marker\":{\"colorbar\":{\"outlinewidth\":0,\"ticks\":\"\"}}}],\"scatterpolar\":[{\"type\":\"scatterpolar\",\"marker\":{\"colorbar\":{\"outlinewidth\":0,\"ticks\":\"\"}}}],\"histogram\":[{\"marker\":{\"pattern\":{\"fillmode\":\"overlay\",\"size\":10,\"solidity\":0.2}},\"type\":\"histogram\"}],\"scattergl\":[{\"type\":\"scattergl\",\"marker\":{\"colorbar\":{\"outlinewidth\":0,\"ticks\":\"\"}}}],\"scatter3d\":[{\"type\":\"scatter3d\",\"line\":{\"colorbar\":{\"outlinewidth\":0,\"ticks\":\"\"}},\"marker\":{\"colorbar\":{\"outlinewidth\":0,\"ticks\":\"\"}}}],\"scattermapbox\":[{\"type\":\"scattermapbox\",\"marker\":{\"colorbar\":{\"outlinewidth\":0,\"ticks\":\"\"}}}],\"scatterternary\":[{\"type\":\"scatterternary\",\"marker\":{\"colorbar\":{\"outlinewidth\":0,\"ticks\":\"\"}}}],\"scattercarpet\":[{\"type\":\"scattercarpet\",\"marker\":{\"colorbar\":{\"outlinewidth\":0,\"ticks\":\"\"}}}],\"carpet\":[{\"aaxis\":{\"endlinecolor\":\"#2a3f5f\",\"gridcolor\":\"white\",\"linecolor\":\"white\",\"minorgridcolor\":\"white\",\"startlinecolor\":\"#2a3f5f\"},\"baxis\":{\"endlinecolor\":\"#2a3f5f\",\"gridcolor\":\"white\",\"linecolor\":\"white\",\"minorgridcolor\":\"white\",\"startlinecolor\":\"#2a3f5f\"},\"type\":\"carpet\"}],\"table\":[{\"cells\":{\"fill\":{\"color\":\"#EBF0F8\"},\"line\":{\"color\":\"white\"}},\"header\":{\"fill\":{\"color\":\"#C8D4E3\"},\"line\":{\"color\":\"white\"}},\"type\":\"table\"}],\"barpolar\":[{\"marker\":{\"line\":{\"color\":\"#E5ECF6\",\"width\":0.5},\"pattern\":{\"fillmode\":\"overlay\",\"size\":10,\"solidity\":0.2}},\"type\":\"barpolar\"}],\"pie\":[{\"automargin\":true,\"type\":\"pie\"}]},\"layout\":{\"autotypenumbers\":\"strict\",\"colorway\":[\"#636efa\",\"#EF553B\",\"#00cc96\",\"#ab63fa\",\"#FFA15A\",\"#19d3f3\",\"#FF6692\",\"#B6E880\",\"#FF97FF\",\"#FECB52\"],\"font\":{\"color\":\"#2a3f5f\"},\"hovermode\":\"closest\",\"hoverlabel\":{\"align\":\"left\"},\"paper_bgcolor\":\"white\",\"plot_bgcolor\":\"#E5ECF6\",\"polar\":{\"bgcolor\":\"#E5ECF6\",\"angularaxis\":{\"gridcolor\":\"white\",\"linecolor\":\"white\",\"ticks\":\"\"},\"radialaxis\":{\"gridcolor\":\"white\",\"linecolor\":\"white\",\"ticks\":\"\"}},\"ternary\":{\"bgcolor\":\"#E5ECF6\",\"aaxis\":{\"gridcolor\":\"white\",\"linecolor\":\"white\",\"ticks\":\"\"},\"baxis\":{\"gridcolor\":\"white\",\"linecolor\":\"white\",\"ticks\":\"\"},\"caxis\":{\"gridcolor\":\"white\",\"linecolor\":\"white\",\"ticks\":\"\"}},\"coloraxis\":{\"colorbar\":{\"outlinewidth\":0,\"ticks\":\"\"}},\"colorscale\":{\"sequential\":[[0.0,\"#0d0887\"],[0.1111111111111111,\"#46039f\"],[0.2222222222222222,\"#7201a8\"],[0.3333333333333333,\"#9c179e\"],[0.4444444444444444,\"#bd3786\"],[0.5555555555555556,\"#d8576b\"],[0.6666666666666666,\"#ed7953\"],[0.7777777777777778,\"#fb9f3a\"],[0.8888888888888888,\"#fdca26\"],[1.0,\"#f0f921\"]],\"sequentialminus\":[[0.0,\"#0d0887\"],[0.1111111111111111,\"#46039f\"],[0.2222222222222222,\"#7201a8\"],[0.3333333333333333,\"#9c179e\"],[0.4444444444444444,\"#bd3786\"],[0.5555555555555556,\"#d8576b\"],[0.6666666666666666,\"#ed7953\"],[0.7777777777777778,\"#fb9f3a\"],[0.8888888888888888,\"#fdca26\"],[1.0,\"#f0f921\"]],\"diverging\":[[0,\"#8e0152\"],[0.1,\"#c51b7d\"],[0.2,\"#de77ae\"],[0.3,\"#f1b6da\"],[0.4,\"#fde0ef\"],[0.5,\"#f7f7f7\"],[0.6,\"#e6f5d0\"],[0.7,\"#b8e186\"],[0.8,\"#7fbc41\"],[0.9,\"#4d9221\"],[1,\"#276419\"]]},\"xaxis\":{\"gridcolor\":\"white\",\"linecolor\":\"white\",\"ticks\":\"\",\"title\":{\"standoff\":15},\"zerolinecolor\":\"white\",\"automargin\":true,\"zerolinewidth\":2},\"yaxis\":{\"gridcolor\":\"white\",\"linecolor\":\"white\",\"ticks\":\"\",\"title\":{\"standoff\":15},\"zerolinecolor\":\"white\",\"automargin\":true,\"zerolinewidth\":2},\"scene\":{\"xaxis\":{\"backgroundcolor\":\"#E5ECF6\",\"gridcolor\":\"white\",\"linecolor\":\"white\",\"showbackground\":true,\"ticks\":\"\",\"zerolinecolor\":\"white\",\"gridwidth\":2},\"yaxis\":{\"backgroundcolor\":\"#E5ECF6\",\"gridcolor\":\"white\",\"linecolor\":\"white\",\"showbackground\":true,\"ticks\":\"\",\"zerolinecolor\":\"white\",\"gridwidth\":2},\"zaxis\":{\"backgroundcolor\":\"#E5ECF6\",\"gridcolor\":\"white\",\"linecolor\":\"white\",\"showbackground\":true,\"ticks\":\"\",\"zerolinecolor\":\"white\",\"gridwidth\":2}},\"shapedefaults\":{\"line\":{\"color\":\"#2a3f5f\"}},\"annotationdefaults\":{\"arrowcolor\":\"#2a3f5f\",\"arrowhead\":0,\"arrowwidth\":1},\"geo\":{\"bgcolor\":\"white\",\"landcolor\":\"#E5ECF6\",\"subunitcolor\":\"white\",\"showland\":true,\"showlakes\":true,\"lakecolor\":\"white\"},\"title\":{\"x\":0.05},\"mapbox\":{\"style\":\"light\"}}}},                        {\"responsive\": true}                    ).then(function(){\n",
              "                            \n",
              "var gd = document.getElementById('8e0ee2bf-e06b-4200-81e4-fd9c8ae93c72');\n",
              "var x = new MutationObserver(function (mutations, observer) {{\n",
              "        var display = window.getComputedStyle(gd).display;\n",
              "        if (!display || display === 'none') {{\n",
              "            console.log([gd, 'removed!']);\n",
              "            Plotly.purge(gd);\n",
              "            observer.disconnect();\n",
              "        }}\n",
              "}});\n",
              "\n",
              "// Listen for the removal of the full notebook cells\n",
              "var notebookContainer = gd.closest('#notebook-container');\n",
              "if (notebookContainer) {{\n",
              "    x.observe(notebookContainer, {childList: true});\n",
              "}}\n",
              "\n",
              "// Listen for the clearing of the current output cell\n",
              "var outputEl = gd.closest('.output');\n",
              "if (outputEl) {{\n",
              "    x.observe(outputEl, {childList: true});\n",
              "}}\n",
              "\n",
              "                        })                };                            </script>        </div>\n",
              "</body>\n",
              "</html>"
            ]
          },
          "metadata": {}
        }
      ]
    },
    {
      "cell_type": "code",
      "source": [
        "print(len(train_sarimax))"
      ],
      "metadata": {
        "colab": {
          "base_uri": "https://localhost:8080/"
        },
        "id": "pp2lD9lB4H7e",
        "outputId": "fa2e61f9-ff73-4899-bdde-5dc560df5d86"
      },
      "execution_count": null,
      "outputs": [
        {
          "output_type": "stream",
          "name": "stdout",
          "text": [
            "827\n"
          ]
        }
      ]
    },
    {
      "cell_type": "code",
      "source": [
        "train_sarimax = train_sarimax['Close']\n",
        "test_sarimax = test_sarimax['Close']\n"
      ],
      "metadata": {
        "id": "Yqx8XeBi4H-8"
      },
      "execution_count": null,
      "outputs": []
    },
    {
      "cell_type": "code",
      "source": [
        "pip install pmdarima\n"
      ],
      "metadata": {
        "colab": {
          "base_uri": "https://localhost:8080/"
        },
        "id": "HYT1fYz89aEQ",
        "outputId": "51aec471-5347-4f6a-d0fd-b01f41f2306b"
      },
      "execution_count": null,
      "outputs": [
        {
          "output_type": "stream",
          "name": "stdout",
          "text": [
            "Collecting pmdarima\n",
            "  Downloading pmdarima-2.0.4-cp310-cp310-manylinux_2_17_x86_64.manylinux2014_x86_64.manylinux_2_28_x86_64.whl (2.1 MB)\n",
            "\u001b[2K     \u001b[90m━━━━━━━━━━━━━━━━━━━━━━━━━━━━━━━━━━━━━━━━\u001b[0m \u001b[32m2.1/2.1 MB\u001b[0m \u001b[31m10.7 MB/s\u001b[0m eta \u001b[36m0:00:00\u001b[0m\n",
            "\u001b[?25hRequirement already satisfied: joblib>=0.11 in /usr/local/lib/python3.10/dist-packages (from pmdarima) (1.4.0)\n",
            "Requirement already satisfied: Cython!=0.29.18,!=0.29.31,>=0.29 in /usr/local/lib/python3.10/dist-packages (from pmdarima) (3.0.10)\n",
            "Requirement already satisfied: numpy>=1.21.2 in /usr/local/lib/python3.10/dist-packages (from pmdarima) (1.25.2)\n",
            "Requirement already satisfied: pandas>=0.19 in /usr/local/lib/python3.10/dist-packages (from pmdarima) (2.0.3)\n",
            "Requirement already satisfied: scikit-learn>=0.22 in /usr/local/lib/python3.10/dist-packages (from pmdarima) (1.2.2)\n",
            "Requirement already satisfied: scipy>=1.3.2 in /usr/local/lib/python3.10/dist-packages (from pmdarima) (1.11.4)\n",
            "Requirement already satisfied: statsmodels>=0.13.2 in /usr/local/lib/python3.10/dist-packages (from pmdarima) (0.14.2)\n",
            "Requirement already satisfied: urllib3 in /usr/local/lib/python3.10/dist-packages (from pmdarima) (2.0.7)\n",
            "Requirement already satisfied: setuptools!=50.0.0,>=38.6.0 in /usr/local/lib/python3.10/dist-packages (from pmdarima) (67.7.2)\n",
            "Requirement already satisfied: packaging>=17.1 in /usr/local/lib/python3.10/dist-packages (from pmdarima) (24.0)\n",
            "Requirement already satisfied: python-dateutil>=2.8.2 in /usr/local/lib/python3.10/dist-packages (from pandas>=0.19->pmdarima) (2.8.2)\n",
            "Requirement already satisfied: pytz>=2020.1 in /usr/local/lib/python3.10/dist-packages (from pandas>=0.19->pmdarima) (2023.4)\n",
            "Requirement already satisfied: tzdata>=2022.1 in /usr/local/lib/python3.10/dist-packages (from pandas>=0.19->pmdarima) (2024.1)\n",
            "Requirement already satisfied: threadpoolctl>=2.0.0 in /usr/local/lib/python3.10/dist-packages (from scikit-learn>=0.22->pmdarima) (3.4.0)\n",
            "Requirement already satisfied: patsy>=0.5.6 in /usr/local/lib/python3.10/dist-packages (from statsmodels>=0.13.2->pmdarima) (0.5.6)\n",
            "Requirement already satisfied: six in /usr/local/lib/python3.10/dist-packages (from patsy>=0.5.6->statsmodels>=0.13.2->pmdarima) (1.16.0)\n",
            "Installing collected packages: pmdarima\n",
            "Successfully installed pmdarima-2.0.4\n"
          ]
        }
      ]
    },
    {
      "cell_type": "code",
      "source": [
        "from pmdarima.arima import auto_arima\n",
        "arima_m = auto_arima(data['Close'],trace=True ,suppress_warnings=True)"
      ],
      "metadata": {
        "colab": {
          "base_uri": "https://localhost:8080/"
        },
        "id": "2eyVzUrm9Q8_",
        "outputId": "c9034fa7-d7bc-4f70-83b6-95a8b56c8eb3"
      },
      "execution_count": null,
      "outputs": [
        {
          "output_type": "stream",
          "name": "stdout",
          "text": [
            "Performing stepwise search to minimize aic\n",
            " ARIMA(2,1,2)(0,0,0)[0] intercept   : AIC=9965.144, Time=0.56 sec\n",
            " ARIMA(0,1,0)(0,0,0)[0] intercept   : AIC=10066.051, Time=0.05 sec\n",
            " ARIMA(1,1,0)(0,0,0)[0] intercept   : AIC=9960.328, Time=0.13 sec\n",
            " ARIMA(0,1,1)(0,0,0)[0] intercept   : AIC=9974.527, Time=0.63 sec\n",
            " ARIMA(0,1,0)(0,0,0)[0]             : AIC=10065.774, Time=0.05 sec\n",
            " ARIMA(2,1,0)(0,0,0)[0] intercept   : AIC=9961.546, Time=0.40 sec\n",
            " ARIMA(1,1,1)(0,0,0)[0] intercept   : AIC=9961.604, Time=0.45 sec\n",
            " ARIMA(2,1,1)(0,0,0)[0] intercept   : AIC=9963.388, Time=1.05 sec\n",
            " ARIMA(1,1,0)(0,0,0)[0]             : AIC=9959.205, Time=0.05 sec\n",
            " ARIMA(2,1,0)(0,0,0)[0]             : AIC=9960.371, Time=0.08 sec\n",
            " ARIMA(1,1,1)(0,0,0)[0]             : AIC=9960.427, Time=0.13 sec\n",
            " ARIMA(0,1,1)(0,0,0)[0]             : AIC=9973.672, Time=0.07 sec\n",
            " ARIMA(2,1,1)(0,0,0)[0]             : AIC=9962.221, Time=0.31 sec\n",
            "\n",
            "Best model:  ARIMA(1,1,0)(0,0,0)[0]          \n",
            "Total fit time: 3.999 seconds\n"
          ]
        }
      ]
    },
    {
      "cell_type": "code",
      "source": [
        "# forcibly disable system warnings\n",
        "import warnings\n",
        "warnings.simplefilter(action = 'ignore', category = Warning)\n",
        "\n",
        "# let's train the model with the appropriate parameters, SARIMAX(0, 1, 0)x(0, 1, 0, 12)\n",
        "# importing the model class\n",
        "from statsmodels.tsa.statespace.sarimax import SARIMAX\n",
        "\n",
        "# let's create an object of this model\n",
        "model = SARIMAX(train_sarimax,\n",
        "                order = (1, 1, 0),\n",
        "                seasonal_order = (1, 1, 0, 12),\n",
        "                enforce_stationarity = False,\n",
        "                enforce_invertibility = False)\n",
        "\n",
        "# apply the method fit\n",
        "result_sarimax = model.fit(maxiter = 500, method = 'nm')"
      ],
      "metadata": {
        "colab": {
          "base_uri": "https://localhost:8080/"
        },
        "id": "wTDVkwb94IKA",
        "outputId": "ebb8848d-40b4-4350-9bf0-5309cf65852e"
      },
      "execution_count": null,
      "outputs": [
        {
          "output_type": "stream",
          "name": "stdout",
          "text": [
            "Optimization terminated successfully.\n",
            "         Current function value: 4.882488\n",
            "         Iterations: 63\n",
            "         Function evaluations: 116\n"
          ]
        }
      ]
    },
    {
      "cell_type": "code",
      "source": [
        "# the test forecast period will start from the end of the training period\n",
        "start = len(train_sarimax)\n",
        "\n",
        "# and it will end at the end of the test\n",
        "end = len(train_sarimax) + len(test_sarimax) - 1\n",
        "\n",
        "# apply the method predict\n",
        "predictions = result_sarimax.predict(start, end)\n",
        "predictions"
      ],
      "metadata": {
        "colab": {
          "base_uri": "https://localhost:8080/"
        },
        "id": "_uc32aEJ-Vbx",
        "outputId": "ead61a71-a03a-4d69-b897-4955ce0e3818"
      },
      "execution_count": null,
      "outputs": [
        {
          "output_type": "execute_result",
          "data": {
            "text/plain": [
              "827     8206.760702\n",
              "828     8200.864135\n",
              "829     8208.076595\n",
              "830     8209.937755\n",
              "831     8210.904973\n",
              "           ...     \n",
              "1028    9306.094873\n",
              "1029    9317.589174\n",
              "1030    9317.891692\n",
              "1031    9311.454336\n",
              "1032    9313.479119\n",
              "Name: predicted_mean, Length: 206, dtype: float64"
            ]
          },
          "metadata": {},
          "execution_count": 34
        }
      ]
    },
    {
      "cell_type": "code",
      "source": [
        "# we will output three curves (training, test set and test forecast)\n",
        "plt.plot(train_sarimax, color = \"black\")\n",
        "plt.plot(test_sarimax, color = \"red\")\n",
        "plt.plot(predictions, color = \"green\")\n",
        "\n",
        "# title and axis captions\n",
        "plt.title(\"Train set, test set and test forecast\")\n",
        "plt.ylabel(\"Close price of McDonald's shares, US dollars\")\n",
        "plt.xlabel('Years')\n",
        "\n",
        "# add a grid\n",
        "plt.grid()\n",
        "\n",
        "plt.show()"
      ],
      "metadata": {
        "colab": {
          "base_uri": "https://localhost:8080/",
          "height": 472
        },
        "id": "XadNmHms-am-",
        "outputId": "884e11f1-e6fd-4a73-f208-4070f20b5985"
      },
      "execution_count": null,
      "outputs": [
        {
          "output_type": "display_data",
          "data": {
            "text/plain": [
              "<Figure size 640x480 with 1 Axes>"
            ],
            "image/png": "[encoded data removed]"
          },
          "metadata": {}
        }
      ]
    },
    {
      "cell_type": "code",
      "source": [
        "# importing a metric\n",
        "from sklearn.metrics import mean_squared_error\n",
        "\n",
        "# calculate MSE\n",
        "print('MSE = ', mean_squared_error(test_sarimax, predictions))\n",
        "\n",
        "# and RMSE\n",
        "print('RMSE = ', np.sqrt(mean_squared_error(test_sarimax, predictions)))\n",
        "\n",
        "r2 = r2_score(test_sarimax, predictions)\n",
        "print(\"R^2 Score:\", r2)"
      ],
      "metadata": {
        "colab": {
          "base_uri": "https://localhost:8080/"
        },
        "id": "tSYZdSHn-dIQ",
        "outputId": "934bc406-15b9-4bd4-8222-179b3ed143bb"
      },
      "execution_count": null,
      "outputs": [
        {
          "output_type": "stream",
          "name": "stdout",
          "text": [
            "MSE =  214411.5194064416\n",
            "RMSE =  463.04591500891314\n",
            "R^2 Score: -2.8861001810535662\n"
          ]
        }
      ]
    },
    {
      "cell_type": "code",
      "source": [
        "from sklearn.metrics import mean_absolute_error\n",
        "\n",
        "# Calculate MAE\n",
        "mae = mean_absolute_error(test_sarimax, predictions)\n",
        "print(f\"Mean Absolute Error (MAE): {mae}\")"
      ],
      "metadata": {
        "colab": {
          "base_uri": "https://localhost:8080/"
        },
        "id": "T1xvKWhp-irH",
        "outputId": "3798b7b6-dbd6-4483-cbb3-6adea1856246"
      },
      "execution_count": null,
      "outputs": [
        {
          "output_type": "stream",
          "name": "stdout",
          "text": [
            "Mean Absolute Error (MAE): 405.98014971362204\n"
          ]
        }
      ]
    },
    {
      "cell_type": "code",
      "source": [
        "mape = mean_absolute_percentage_error(test_sarimax, predictions)\n",
        "print(\"Mean Absolute Percentage Error:\", mape)"
      ],
      "metadata": {
        "colab": {
          "base_uri": "https://localhost:8080/"
        },
        "id": "WBtGR-VEVVq2",
        "outputId": "f8f373b4-5acd-4c27-8573-0c0f28ca49b6"
      },
      "execution_count": null,
      "outputs": [
        {
          "output_type": "stream",
          "name": "stdout",
          "text": [
            "Mean Absolute Percentage Error: 4.714092521168165\n"
          ]
        }
      ]
    },
    {
      "cell_type": "code",
      "source": [],
      "metadata": {
        "id": "_cJC5HDtVgj3"
      },
      "execution_count": null,
      "outputs": []
    }
  ],
  "metadata": {
    "kernelspec": {
      "display_name": "Python 3",
      "language": "python",
      "name": "python3"
    },
    "language_info": {
      "codemirror_mode": {
        "name": "ipython",
        "version": 3
      },
      "file_extension": ".py",
      "mimetype": "text/x-python",
      "name": "python",
      "nbconvert_exporter": "python",
      "pygments_lexer": "ipython3",
      "version": "3.8.3"
    },
    "colab": {
      "provenance": []
    }
  },
  "nbformat": 4,
  "nbformat_minor": 0
}