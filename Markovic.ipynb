{
  "nbformat": 4,
  "nbformat_minor": 0,
  "metadata": {
    "colab": {
      "provenance": []
    },
    "kernelspec": {
      "name": "python3",
      "display_name": "Python 3"
    },
    "language_info": {
      "name": "python"
    }
  },
  "cells": [
    {
      "cell_type": "code",
      "execution_count": null,
      "metadata": {
        "colab": {
          "base_uri": "https://localhost:8080/"
        },
        "id": "nV8V0pHpX9O0",
        "outputId": "2017b227-b01d-4d59-b7bf-75863885ea9a"
      },
      "outputs": [
        {
          "output_type": "stream",
          "name": "stdout",
          "text": [
            "Valeur      0.000000  0.052632  0.105263  0.157895  0.210526  0.263158  \\\n",
            "Date                                                                     \n",
            "2020-02-14       NaN       NaN       NaN       NaN       NaN       NaN   \n",
            "2020-02-17       NaN       NaN       NaN       NaN       NaN       NaN   \n",
            "2020-02-18       NaN       NaN       NaN       NaN       NaN       NaN   \n",
            "2020-02-19       NaN       NaN       NaN       NaN       NaN       NaN   \n",
            "2020-02-20       NaN       NaN       NaN       NaN       NaN       NaN   \n",
            "\n",
            "Valeur      0.315789  0.368421  0.421053  0.473684  0.526316  0.578947  \\\n",
            "Date                                                                     \n",
            "2020-02-14       NaN       NaN       NaN  0.313644       NaN       NaN   \n",
            "2020-02-17       NaN       NaN       NaN  0.321336       NaN       NaN   \n",
            "2020-02-18       NaN       NaN       NaN  0.324034       NaN       NaN   \n",
            "2020-02-19       NaN       NaN       NaN  0.326790       NaN       NaN   \n",
            "2020-02-20       NaN       NaN       NaN  0.326732       NaN       NaN   \n",
            "\n",
            "Valeur      0.631579  0.684211  0.736842  0.789474  0.842105  0.894737  \\\n",
            "Date                                                                     \n",
            "2020-02-14       NaN       NaN       NaN       NaN       NaN       NaN   \n",
            "2020-02-17       NaN       NaN       NaN       NaN       NaN       NaN   \n",
            "2020-02-18       NaN       NaN       NaN       NaN       NaN       NaN   \n",
            "2020-02-19       NaN       NaN       NaN       NaN       NaN       NaN   \n",
            "2020-02-20       NaN       NaN       NaN       NaN       NaN       NaN   \n",
            "\n",
            "Valeur      0.947368  1.000000  \n",
            "Date                            \n",
            "2020-02-14       NaN       NaN  \n",
            "2020-02-17       NaN       NaN  \n",
            "2020-02-18       NaN       NaN  \n",
            "2020-02-19       NaN       NaN  \n",
            "2020-02-20       NaN       NaN  \n"
          ]
        }
      ],
      "source": [
        "import pandas as pd\n",
        "\n",
        "# Load your data into a DataFrame\n",
        "data = pd.read_csv('/content/normalized_data-1.csv', parse_dates=['Date'])\n",
        "\n",
        "# Since your 'Valeur' column is used to differentiate assets, pivot the table so each unique 'Valeur' becomes a column\n",
        "# Assume 'Adjusted_Close' is what we will use to calculate returns\n",
        "pivoted_data = data.pivot_table(index='Date', columns='Valeur', values='Adjusted_Close')\n",
        "\n",
        "# Display the pivoted data\n",
        "print(pivoted_data.head())\n"
      ]
    },
    {
      "cell_type": "code",
      "source": [],
      "metadata": {
        "id": "4pISceTaahR5"
      },
      "execution_count": null,
      "outputs": []
    },
    {
      "cell_type": "code",
      "source": [
        "# Fill missing values with forward fill, then backward fill\n",
        "pivot_changes_filled = pivoted_data.fillna(method='ffill').fillna(method='bfill')\n",
        "\n",
        "print(pivot_changes_filled)"
      ],
      "metadata": {
        "colab": {
          "base_uri": "https://localhost:8080/"
        },
        "id": "iK66zyHUY4Fg",
        "outputId": "5410f5c0-9d82-4725-f48e-6da16d5105e1"
      },
      "execution_count": null,
      "outputs": [
        {
          "output_type": "stream",
          "name": "stdout",
          "text": [
            "Valeur      0.000000  0.052632  0.105263  0.157895  0.210526  0.263158  \\\n",
            "Date                                                                     \n",
            "2020-02-14  0.001837  0.055450  0.011997  0.006085  0.055163  0.033925   \n",
            "2020-02-17  0.001837  0.055450  0.011997  0.006085  0.055163  0.033925   \n",
            "2020-02-18  0.001837  0.055450  0.011997  0.006085  0.055163  0.033925   \n",
            "2020-02-19  0.001837  0.055450  0.011997  0.006085  0.055163  0.033925   \n",
            "2020-02-20  0.001837  0.055450  0.011997  0.006085  0.055163  0.033925   \n",
            "...              ...       ...       ...       ...       ...       ...   \n",
            "2024-01-15  0.000459  0.044257  0.016073  0.017852  0.041329  0.045520   \n",
            "2024-01-16  0.000459  0.044257  0.016073  0.017852  0.041329  0.045520   \n",
            "2024-01-17  0.000459  0.044257  0.016073  0.017852  0.041329  0.045520   \n",
            "2024-01-18  0.000459  0.044257  0.016073  0.017852  0.041329  0.045520   \n",
            "2024-01-19  0.000459  0.044257  0.016073  0.017852  0.041329  0.045520   \n",
            "\n",
            "Valeur      0.315789  0.368421  0.421053  0.473684  0.526316  0.578947  \\\n",
            "Date                                                                     \n",
            "2020-02-14  0.023535  0.047012  0.080707  0.313644  0.037082  0.034613   \n",
            "2020-02-17  0.023535  0.047012  0.080707  0.321336  0.037082  0.034613   \n",
            "2020-02-18  0.023535  0.047012  0.080707  0.324034  0.037082  0.034613   \n",
            "2020-02-19  0.023535  0.047012  0.080707  0.326790  0.037082  0.034613   \n",
            "2020-02-20  0.023535  0.047012  0.080707  0.326732  0.037082  0.034613   \n",
            "...              ...       ...       ...       ...       ...       ...   \n",
            "2024-01-15  0.018828  0.031514  0.071236  0.506974  0.067505  0.028471   \n",
            "2024-01-16  0.018828  0.031514  0.071236  0.514092  0.067505  0.028471   \n",
            "2024-01-17  0.018828  0.031514  0.071236  0.512657  0.067505  0.028471   \n",
            "2024-01-18  0.018828  0.031514  0.071236  0.510648  0.067505  0.028471   \n",
            "2024-01-19  0.018828  0.031514  0.071236  0.512083  0.067505  0.028471   \n",
            "\n",
            "Valeur      0.631579  0.684211  0.736842  0.789474  0.842105  0.894737  \\\n",
            "Date                                                                     \n",
            "2020-02-14  0.059468  0.128064  0.291659  0.326101  0.287067  0.051719   \n",
            "2020-02-17  0.059468  0.128064  0.291659  0.326101  0.287067  0.051719   \n",
            "2020-02-18  0.059468  0.128064  0.291659  0.326101  0.287067  0.051719   \n",
            "2020-02-19  0.059468  0.128064  0.291659  0.326101  0.287067  0.051719   \n",
            "2020-02-20  0.059468  0.128064  0.291659  0.326101  0.287067  0.051719   \n",
            "...              ...       ...       ...       ...       ...       ...   \n",
            "2024-01-15  0.083635  0.127490  0.268125  0.317892  0.425406  0.090810   \n",
            "2024-01-16  0.083635  0.127490  0.268125  0.317892  0.425406  0.090810   \n",
            "2024-01-17  0.083635  0.127490  0.268125  0.317892  0.425406  0.090810   \n",
            "2024-01-18  0.083635  0.127490  0.268125  0.317892  0.425406  0.090810   \n",
            "2024-01-19  0.083635  0.127490  0.268125  0.317892  0.425406  0.090810   \n",
            "\n",
            "Valeur      0.947368  1.000000  \n",
            "Date                            \n",
            "2020-02-14  0.644739  0.134435  \n",
            "2020-02-17  0.644739  0.134435  \n",
            "2020-02-18  0.644739  0.134435  \n",
            "2020-02-19  0.644739  0.134435  \n",
            "2020-02-20  0.644739  0.134435  \n",
            "...              ...       ...  \n",
            "2024-01-15  0.914471  0.059124  \n",
            "2024-01-16  0.914471  0.059124  \n",
            "2024-01-17  0.914471  0.059124  \n",
            "2024-01-18  0.914471  0.059124  \n",
            "2024-01-19  0.914471  0.059124  \n",
            "\n",
            "[986 rows x 20 columns]\n"
          ]
        }
      ]
    },
    {
      "cell_type": "code",
      "source": [
        "# Calculate daily returns for each asset\n",
        "returns = pivot_changes_filled.pct_change().dropna()\n",
        "\n",
        "# Print the returns to verify the calculations\n",
        "print(returns.head())\n"
      ],
      "metadata": {
        "colab": {
          "base_uri": "https://localhost:8080/"
        },
        "id": "_aunkpgyZRgI",
        "outputId": "922b4fc5-0a72-4d5b-be54-c3d94a217e38"
      },
      "execution_count": null,
      "outputs": [
        {
          "output_type": "stream",
          "name": "stdout",
          "text": [
            "Valeur      0.000000  0.052632  0.105263  0.157895  0.210526  0.263158  \\\n",
            "Date                                                                     \n",
            "2020-02-17       0.0       0.0       0.0       0.0       0.0       0.0   \n",
            "2020-02-18       0.0       0.0       0.0       0.0       0.0       0.0   \n",
            "2020-02-19       0.0       0.0       0.0       0.0       0.0       0.0   \n",
            "2020-02-20       0.0       0.0       0.0       0.0       0.0       0.0   \n",
            "2020-02-21       0.0       0.0       0.0       0.0       0.0       0.0   \n",
            "\n",
            "Valeur      0.315789  0.368421  0.421053  0.473684  0.526316  0.578947  \\\n",
            "Date                                                                     \n",
            "2020-02-17       0.0       0.0       0.0  0.024524       0.0       0.0   \n",
            "2020-02-18       0.0       0.0       0.0  0.008396       0.0       0.0   \n",
            "2020-02-19       0.0       0.0       0.0  0.008503       0.0       0.0   \n",
            "2020-02-20       0.0       0.0       0.0 -0.000176       0.0       0.0   \n",
            "2020-02-21       0.0       0.0       0.0 -0.007730       0.0       0.0   \n",
            "\n",
            "Valeur      0.631579  0.684211  0.736842  0.789474  0.842105  0.894737  \\\n",
            "Date                                                                     \n",
            "2020-02-17       0.0       0.0       0.0       0.0       0.0       0.0   \n",
            "2020-02-18       0.0       0.0       0.0       0.0       0.0       0.0   \n",
            "2020-02-19       0.0       0.0       0.0       0.0       0.0       0.0   \n",
            "2020-02-20       0.0       0.0       0.0       0.0       0.0       0.0   \n",
            "2020-02-21       0.0       0.0       0.0       0.0       0.0       0.0   \n",
            "\n",
            "Valeur      0.947368  1.000000  \n",
            "Date                            \n",
            "2020-02-17       0.0       0.0  \n",
            "2020-02-18       0.0       0.0  \n",
            "2020-02-19       0.0       0.0  \n",
            "2020-02-20       0.0       0.0  \n",
            "2020-02-21       0.0       0.0  \n"
          ]
        }
      ]
    },
    {
      "cell_type": "code",
      "source": [
        "# Remove the column '0.000000'\n",
        "pivot_changes_filled.drop(columns=[0.000000], inplace=True)\n",
        "\n",
        "# Verify the column is removed by displaying the first few rows of the updated DataFrame\n",
        "print(pivot_changes_filled.head())\n",
        "\n",
        "\n"
      ],
      "metadata": {
        "colab": {
          "base_uri": "https://localhost:8080/"
        },
        "id": "a2eIX3PDZftW",
        "outputId": "d7443fcc-31b0-46aa-f6c9-7de20a3bf743"
      },
      "execution_count": null,
      "outputs": [
        {
          "output_type": "stream",
          "name": "stdout",
          "text": [
            "Valeur      0.052632  0.105263  0.157895  0.210526  0.263158  0.315789  \\\n",
            "Date                                                                     \n",
            "2020-02-14   0.05545  0.011997  0.006085  0.055163  0.033925  0.023535   \n",
            "2020-02-17   0.05545  0.011997  0.006085  0.055163  0.033925  0.023535   \n",
            "2020-02-18   0.05545  0.011997  0.006085  0.055163  0.033925  0.023535   \n",
            "2020-02-19   0.05545  0.011997  0.006085  0.055163  0.033925  0.023535   \n",
            "2020-02-20   0.05545  0.011997  0.006085  0.055163  0.033925  0.023535   \n",
            "\n",
            "Valeur      0.368421  0.421053  0.473684  0.526316  0.578947  0.631579  \\\n",
            "Date                                                                     \n",
            "2020-02-14  0.047012  0.080707  0.313644  0.037082  0.034613  0.059468   \n",
            "2020-02-17  0.047012  0.080707  0.321336  0.037082  0.034613  0.059468   \n",
            "2020-02-18  0.047012  0.080707  0.324034  0.037082  0.034613  0.059468   \n",
            "2020-02-19  0.047012  0.080707  0.326790  0.037082  0.034613  0.059468   \n",
            "2020-02-20  0.047012  0.080707  0.326732  0.037082  0.034613  0.059468   \n",
            "\n",
            "Valeur      0.684211  0.736842  0.789474  0.842105  0.894737  0.947368  \\\n",
            "Date                                                                     \n",
            "2020-02-14  0.128064  0.291659  0.326101  0.287067  0.051719  0.644739   \n",
            "2020-02-17  0.128064  0.291659  0.326101  0.287067  0.051719  0.644739   \n",
            "2020-02-18  0.128064  0.291659  0.326101  0.287067  0.051719  0.644739   \n",
            "2020-02-19  0.128064  0.291659  0.326101  0.287067  0.051719  0.644739   \n",
            "2020-02-20  0.128064  0.291659  0.326101  0.287067  0.051719  0.644739   \n",
            "\n",
            "Valeur      1.000000  \n",
            "Date                  \n",
            "2020-02-14  0.134435  \n",
            "2020-02-17  0.134435  \n",
            "2020-02-18  0.134435  \n",
            "2020-02-19  0.134435  \n",
            "2020-02-20  0.134435  \n"
          ]
        }
      ]
    },
    {
      "cell_type": "code",
      "source": [
        "# Calculate daily returns for each asset\n",
        "daily_returns = pivot_changes_filled.pct_change().dropna()\n",
        "\n",
        "# Display the first few rows of the daily returns to verify\n",
        "print(daily_returns.head())\n",
        "\n",
        "\n"
      ],
      "metadata": {
        "colab": {
          "base_uri": "https://localhost:8080/"
        },
        "id": "-TAtN-RabMuc",
        "outputId": "128e8caf-45bb-4eb1-d71e-0d61e970db48"
      },
      "execution_count": null,
      "outputs": [
        {
          "output_type": "stream",
          "name": "stdout",
          "text": [
            "Valeur      0.052632  0.105263  0.157895  0.210526  0.263158  0.315789  \\\n",
            "Date                                                                     \n",
            "2020-02-17       0.0       0.0       0.0       0.0       0.0       0.0   \n",
            "2020-02-18       0.0       0.0       0.0       0.0       0.0       0.0   \n",
            "2020-02-19       0.0       0.0       0.0       0.0       0.0       0.0   \n",
            "2020-02-20       0.0       0.0       0.0       0.0       0.0       0.0   \n",
            "2020-02-21       0.0       0.0       0.0       0.0       0.0       0.0   \n",
            "\n",
            "Valeur      0.368421  0.421053  0.473684  0.526316  0.578947  0.631579  \\\n",
            "Date                                                                     \n",
            "2020-02-17       0.0       0.0  0.024524       0.0       0.0       0.0   \n",
            "2020-02-18       0.0       0.0  0.008396       0.0       0.0       0.0   \n",
            "2020-02-19       0.0       0.0  0.008503       0.0       0.0       0.0   \n",
            "2020-02-20       0.0       0.0 -0.000176       0.0       0.0       0.0   \n",
            "2020-02-21       0.0       0.0 -0.007730       0.0       0.0       0.0   \n",
            "\n",
            "Valeur      0.684211  0.736842  0.789474  0.842105  0.894737  0.947368  \\\n",
            "Date                                                                     \n",
            "2020-02-17       0.0       0.0       0.0       0.0       0.0       0.0   \n",
            "2020-02-18       0.0       0.0       0.0       0.0       0.0       0.0   \n",
            "2020-02-19       0.0       0.0       0.0       0.0       0.0       0.0   \n",
            "2020-02-20       0.0       0.0       0.0       0.0       0.0       0.0   \n",
            "2020-02-21       0.0       0.0       0.0       0.0       0.0       0.0   \n",
            "\n",
            "Valeur      1.000000  \n",
            "Date                  \n",
            "2020-02-17       0.0  \n",
            "2020-02-18       0.0  \n",
            "2020-02-19       0.0  \n",
            "2020-02-20       0.0  \n",
            "2020-02-21       0.0  \n"
          ]
        }
      ]
    },
    {
      "cell_type": "code",
      "source": [
        "# Calculate mean returns and covariance matrix for each asset\n",
        "mean_returns = daily_returns.mean()\n",
        "cov_matrix = daily_returns.cov()\n",
        "\n",
        "# Display the calculated mean returns and covariance matrix\n",
        "print(\"Mean Returns:\\n\", mean_returns)\n",
        "print(\"Covariance Matrix:\\n\", cov_matrix)"
      ],
      "metadata": {
        "colab": {
          "base_uri": "https://localhost:8080/",
          "height": 1000
        },
        "id": "DwppJ7fub9Cq",
        "outputId": "320870fc-ebd2-4389-98d1-2a2ab358ee10"
      },
      "execution_count": null,
      "outputs": [
        {
          "output_type": "stream",
          "name": "stdout",
          "text": [
            "Mean Returns:\n",
            " Valeur\n",
            "0.052632   -0.000130\n",
            "0.105263    0.000414\n",
            "0.157895    0.001402\n",
            "0.210526   -0.000188\n",
            "0.263158    0.000352\n",
            "0.315789   -0.000013\n",
            "0.368421   -0.000340\n",
            "0.421053   -0.000080\n",
            "0.473684    0.000584\n",
            "0.526316    0.000703\n",
            "0.578947   -0.000068\n",
            "0.631579    0.000422\n",
            "0.684211    0.000079\n",
            "0.736842   -0.000072\n",
            "0.789474    0.000013\n",
            "0.842105    0.000511\n",
            "0.894737    0.000705\n",
            "0.947368    0.000438\n",
            "1.000000   -0.000689\n",
            "dtype: float64\n",
            "Covariance Matrix:\n",
            " Valeur    0.052632      0.105263      0.157895      0.210526      0.263158  \\\n",
            "Valeur                                                                       \n",
            "0.052632  0.000200  3.266194e-06  9.908583e-06  4.351378e-05  4.116850e-06   \n",
            "0.105263  0.000003  2.365411e-04  1.965941e-06  4.977916e-06 -2.985850e-06   \n",
            "0.157895  0.000010  1.965941e-06  6.248068e-04  1.492291e-05 -2.308936e-07   \n",
            "0.210526  0.000044  4.977916e-06  1.492291e-05  2.104952e-04 -6.221203e-07   \n",
            "0.263158  0.000004 -2.985850e-06 -2.308936e-07 -6.221203e-07  1.056394e-04   \n",
            "0.315789  0.000019 -4.021156e-06  2.188926e-06  3.379853e-05  1.058089e-06   \n",
            "0.368421  0.000015  8.188742e-06 -1.654266e-05  1.499485e-05 -5.934254e-06   \n",
            "0.421053  0.000003 -3.276103e-06  1.092327e-05  1.010461e-06 -1.399711e-06   \n",
            "0.473684  0.000004 -7.274547e-07  3.522972e-05  9.762931e-06 -1.851446e-06   \n",
            "0.526316 -0.000005  1.239652e-06  2.292443e-05 -8.529215e-06 -3.300484e-06   \n",
            "0.578947  0.000006 -5.691045e-06  2.579523e-05  1.230770e-05  2.509556e-07   \n",
            "0.631579 -0.000006  2.698725e-06  9.212573e-06 -4.592553e-06  8.757453e-06   \n",
            "0.684211 -0.000004  1.339857e-05 -1.952191e-05 -4.014437e-06  1.650387e-06   \n",
            "0.736842 -0.000004 -6.447302e-08 -6.133287e-06 -3.365416e-06  2.125527e-06   \n",
            "0.789474  0.000012  6.477328e-06  1.012626e-07  6.201316e-06  3.234645e-07   \n",
            "0.842105  0.000003  8.232677e-06  2.264413e-05 -5.104023e-06  1.336671e-06   \n",
            "0.894737 -0.000005  1.152258e-05  4.431515e-05  1.535029e-05 -8.995916e-06   \n",
            "0.947368  0.000004 -1.883831e-06 -2.711637e-06  9.681044e-06 -1.146183e-05   \n",
            "1.000000  0.000007  2.617658e-08 -9.814319e-06  4.031849e-06  5.808040e-06   \n",
            "\n",
            "Valeur        0.315789  0.368421      0.421053      0.473684      0.526316  \\\n",
            "Valeur                                                                       \n",
            "0.052632  1.853776e-05  0.000015  3.155734e-06  4.015045e-06 -5.185240e-06   \n",
            "0.105263 -4.021156e-06  0.000008 -3.276103e-06 -7.274547e-07  1.239652e-06   \n",
            "0.157895  2.188926e-06 -0.000017  1.092327e-05  3.522972e-05  2.292443e-05   \n",
            "0.210526  3.379853e-05  0.000015  1.010461e-06  9.762931e-06 -8.529215e-06   \n",
            "0.263158  1.058089e-06 -0.000006 -1.399711e-06 -1.851446e-06 -3.300484e-06   \n",
            "0.315789  4.314255e-04  0.000013  2.856767e-06 -1.720727e-05  2.614302e-05   \n",
            "0.368421  1.345775e-05  0.000131  8.232759e-06 -9.147016e-06  5.962848e-06   \n",
            "0.421053  2.856767e-06  0.000008  9.300276e-05  8.190377e-06 -1.552522e-06   \n",
            "0.473684 -1.720727e-05 -0.000009  8.190377e-06  1.722616e-04  9.443736e-07   \n",
            "0.526316  2.614302e-05  0.000006 -1.552522e-06  9.443736e-07  1.887813e-04   \n",
            "0.578947  3.223837e-06 -0.000002 -3.190662e-06  1.183574e-05  6.483593e-06   \n",
            "0.631579  1.342080e-05  0.000002  4.289224e-07  1.469633e-06  5.167041e-06   \n",
            "0.684211  1.351499e-05 -0.000009 -3.538141e-06 -7.767064e-06  4.459516e-06   \n",
            "0.736842 -4.903827e-07 -0.000003 -1.459963e-06  9.982220e-07  2.488616e-08   \n",
            "0.789474 -3.040143e-06  0.000002 -2.883328e-06  7.099704e-06  3.200314e-06   \n",
            "0.842105  1.056986e-05 -0.000002  7.485691e-06 -5.761524e-06 -5.785208e-06   \n",
            "0.894737 -1.013009e-05 -0.000007  2.275453e-06  2.150830e-05  2.102740e-06   \n",
            "0.947368  2.350349e-05  0.000006  5.298818e-06  1.535710e-06  8.940308e-06   \n",
            "1.000000 -9.931424e-06  0.000004 -4.252258e-07  8.819771e-06  1.359376e-05   \n",
            "\n",
            "Valeur        0.578947      0.631579      0.684211      0.736842  \\\n",
            "Valeur                                                             \n",
            "0.052632  5.678486e-06 -5.666156e-06 -3.827595e-06 -3.736861e-06   \n",
            "0.105263 -5.691045e-06  2.698725e-06  1.339857e-05 -6.447302e-08   \n",
            "0.157895  2.579523e-05  9.212573e-06 -1.952191e-05 -6.133287e-06   \n",
            "0.210526  1.230770e-05 -4.592553e-06 -4.014437e-06 -3.365416e-06   \n",
            "0.263158  2.509556e-07  8.757453e-06  1.650387e-06  2.125527e-06   \n",
            "0.315789  3.223837e-06  1.342080e-05  1.351499e-05 -4.903827e-07   \n",
            "0.368421 -1.870791e-06  1.722393e-06 -9.204673e-06 -2.688652e-06   \n",
            "0.421053 -3.190662e-06  4.289224e-07 -3.538141e-06 -1.459963e-06   \n",
            "0.473684  1.183574e-05  1.469633e-06 -7.767064e-06  9.982220e-07   \n",
            "0.526316  6.483593e-06  5.167041e-06  4.459516e-06  2.488616e-08   \n",
            "0.578947  2.622130e-04  7.168012e-06 -6.554755e-06 -4.095196e-06   \n",
            "0.631579  7.168012e-06  1.523947e-04 -5.977383e-06 -8.239444e-07   \n",
            "0.684211 -6.554755e-06 -5.977383e-06  1.685348e-04  2.234236e-06   \n",
            "0.736842 -4.095196e-06 -8.239444e-07  2.234236e-06  2.763605e-05   \n",
            "0.789474  2.206478e-05  4.220834e-06  8.263346e-07 -3.375208e-07   \n",
            "0.842105  7.490249e-06  9.201465e-06 -3.791541e-06  2.942728e-06   \n",
            "0.894737  3.277694e-05  2.611606e-06 -7.475069e-06 -6.560225e-06   \n",
            "0.947368 -7.498093e-07  2.379733e-06 -1.089058e-06 -1.467042e-07   \n",
            "1.000000  4.020825e-07 -4.512165e-06  4.885270e-06 -7.965755e-07   \n",
            "\n",
            "Valeur        0.789474  0.842105  0.894737      0.947368      1.000000  \n",
            "Valeur                                                                  \n",
            "0.052632  1.217767e-05  0.000003 -0.000005  3.863324e-06  6.715930e-06  \n",
            "0.105263  6.477328e-06  0.000008  0.000012 -1.883831e-06  2.617658e-08  \n",
            "0.157895  1.012626e-07  0.000023  0.000044 -2.711637e-06 -9.814319e-06  \n",
            "0.210526  6.201316e-06 -0.000005  0.000015  9.681044e-06  4.031849e-06  \n",
            "0.263158  3.234645e-07  0.000001 -0.000009 -1.146183e-05  5.808040e-06  \n",
            "0.315789 -3.040143e-06  0.000011 -0.000010  2.350349e-05 -9.931424e-06  \n",
            "0.368421  1.584867e-06 -0.000002 -0.000007  6.005832e-06  4.135686e-06  \n",
            "0.421053 -2.883328e-06  0.000007  0.000002  5.298818e-06 -4.252258e-07  \n",
            "0.473684  7.099704e-06 -0.000006  0.000022  1.535710e-06  8.819771e-06  \n",
            "0.526316  3.200314e-06 -0.000006  0.000002  8.940308e-06  1.359376e-05  \n",
            "0.578947  2.206478e-05  0.000007  0.000033 -7.498093e-07  4.020825e-07  \n",
            "0.631579  4.220834e-06  0.000009  0.000003  2.379733e-06 -4.512165e-06  \n",
            "0.684211  8.263346e-07 -0.000004 -0.000007 -1.089058e-06  4.885270e-06  \n",
            "0.736842 -3.375208e-07  0.000003 -0.000007 -1.467042e-07 -7.965755e-07  \n",
            "0.789474  7.811560e-05  0.000003 -0.000007 -1.015950e-06  4.845460e-06  \n",
            "0.842105  3.009676e-06  0.000226 -0.000009 -1.567543e-06 -1.653096e-06  \n",
            "0.894737 -7.133826e-06 -0.000009  0.000267 -1.174091e-05 -2.332088e-06  \n",
            "0.947368 -1.015950e-06 -0.000002 -0.000012  1.671798e-04 -1.821312e-07  \n",
            "1.000000  4.845460e-06 -0.000002 -0.000002 -1.821312e-07  2.867938e-04  \n"
          ]
        },
        {
          "output_type": "display_data",
          "data": {
            "text/plain": [
              "<Figure size 400x100 with 1 Axes>"
            ],
            "image/png": "[encoded data removed]"
          },
          "metadata": {}
        }
      ]
    },
    {
      "cell_type": "code",
      "source": [
        "print(\"Shape of mean_returns:\", mean_returns.shape)\n",
        "print(\"Shape of weights:\", weights.shape)\n"
      ],
      "metadata": {
        "colab": {
          "base_uri": "https://localhost:8080/"
        },
        "id": "nIx0e0HZcVmf",
        "outputId": "76bf98a0-59d5-4fd9-c6fe-7996eef354be"
      },
      "execution_count": null,
      "outputs": [
        {
          "output_type": "stream",
          "name": "stdout",
          "text": [
            "Shape of mean_returns: (19,)\n",
            "Shape of weights: (19,)\n"
          ]
        }
      ]
    },
    {
      "cell_type": "code",
      "source": [
        "import cvxpy as cp\n",
        "import numpy as np\n",
        "\n",
        "# Convert mean_returns to a numpy array explicitly if it's a pandas Series\n",
        "mean_returns_array = mean_returns.values if isinstance(mean_returns, pd.Series) else mean_returns\n",
        "\n",
        "# Ensure the numpy array is handled as a row vector for the dot product with the column vector 'weights'\n",
        "portfolio_return = mean_returns_array @ weights\n",
        "\n",
        "# Redefine the problem with the corrected calculation\n",
        "portfolio_risk = cp.quad_form(weights, cov_matrix)\n",
        "objective = cp.Maximize((portfolio_return - risk_free_rate) / cp.sqrt(portfolio_risk))\n",
        "constraints = [cp.sum(weights) == 1, weights >= 0]\n",
        "\n",
        "\n",
        "\n",
        "\n"
      ],
      "metadata": {
        "id": "vEot-ikdcnRO"
      },
      "execution_count": null,
      "outputs": []
    },
    {
      "cell_type": "code",
      "source": [
        "# Explicitly reshape mean_returns_array to be a row vector if necessary\n",
        "mean_returns_array = mean_returns_array.reshape(1, -1) if mean_returns_array.ndim == 1 else mean_returns_array\n",
        "\n",
        "# Recalculate the portfolio return\n",
        "portfolio_return = cp.matmul(mean_returns_array, weights)\n"
      ],
      "metadata": {
        "id": "pUn4_RJ8c38y"
      },
      "execution_count": null,
      "outputs": []
    },
    {
      "cell_type": "code",
      "source": [
        "import cvxpy as cp\n",
        "\n",
        "# Define the risk-free rate\n",
        "risk_free_rate = 0.01\n",
        "\n",
        "# Define the weights as a cvxpy variable\n",
        "weights = cp.Variable(n_assets)\n",
        "\n",
        "# Calculate the portfolio's expected return\n",
        "portfolio_return = mean_returns.T @ weights\n",
        "\n",
        "# Define the portfolio's risk (variance)\n",
        "portfolio_risk = cp.quad_form(weights, cov_matrix)\n",
        "\n",
        "# Define maximum acceptable variance (set based on your risk tolerance)\n",
        "max_risk = 0.05\n",
        "\n",
        "# Objective: Maximize expected return minus a risk free rate\n",
        "objective = cp.Maximize(portfolio_return - risk_free_rate)\n",
        "\n",
        "# Constraints: sum of weights is 1, all weights are non-negative, and risk does not exceed max risk\n",
        "constraints = [cp.sum(weights) == 1, weights >= 0, portfolio_risk <= max_risk]\n",
        "\n",
        "# Setup and solve the optimization problem\n",
        "problem = cp.Problem(objective, constraints)\n",
        "problem.solve()\n",
        "\n",
        "# Check if the problem was solved successfully\n",
        "if problem.status in [cp.OPTIMAL, cp.OPTIMAL_INACCURATE]:\n",
        "    optimal_weights = weights.value\n",
        "    print(\"Optimal Portfolio Weights:\\n\", optimal_weights)\n",
        "    print(\"Expected Portfolio Return:\", portfolio_return.value)\n",
        "    print(\"Portfolio Risk (Variance):\", portfolio_risk.value)\n",
        "else:\n",
        "    print(\"Problem Status:\", problem.status)\n"
      ],
      "metadata": {
        "colab": {
          "base_uri": "https://localhost:8080/",
          "height": 356
        },
        "id": "lKF6lAqodAeA",
        "outputId": "409a32b2-1a12-46bb-82ec-10d35e5f646d"
      },
      "execution_count": null,
      "outputs": [
        {
          "output_type": "error",
          "ename": "IndexError",
          "evalue": "tuple index out of range",
          "traceback": [
            "\u001b[0;31m---------------------------------------------------------------------------\u001b[0m",
            "\u001b[0;31mIndexError\u001b[0m                                Traceback (most recent call last)",
            "\u001b[0;32m<ipython-input-26-6ba91c22740b>\u001b[0m in \u001b[0;36m<cell line: 10>\u001b[0;34m()\u001b[0m\n\u001b[1;32m      8\u001b[0m \u001b[0;34m\u001b[0m\u001b[0m\n\u001b[1;32m      9\u001b[0m \u001b[0;31m# Calculate the portfolio's expected return\u001b[0m\u001b[0;34m\u001b[0m\u001b[0;34m\u001b[0m\u001b[0m\n\u001b[0;32m---> 10\u001b[0;31m \u001b[0mportfolio_return\u001b[0m \u001b[0;34m=\u001b[0m \u001b[0mmean_returns\u001b[0m\u001b[0;34m.\u001b[0m\u001b[0mT\u001b[0m \u001b[0;34m@\u001b[0m \u001b[0mweights\u001b[0m\u001b[0;34m\u001b[0m\u001b[0;34m\u001b[0m\u001b[0m\n\u001b[0m\u001b[1;32m     11\u001b[0m \u001b[0;34m\u001b[0m\u001b[0m\n\u001b[1;32m     12\u001b[0m \u001b[0;31m# Define the portfolio's risk (variance)\u001b[0m\u001b[0;34m\u001b[0m\u001b[0;34m\u001b[0m\u001b[0m\n",
            "\u001b[0;32m/usr/local/lib/python3.10/dist-packages/pandas/core/series.py\u001b[0m in \u001b[0;36m__matmul__\u001b[0;34m(self, other)\u001b[0m\n\u001b[1;32m   3000\u001b[0m         \u001b[0mMatrix\u001b[0m \u001b[0mmultiplication\u001b[0m \u001b[0musing\u001b[0m \u001b[0mbinary\u001b[0m\u001b[0;31m \u001b[0m\u001b[0;31m`\u001b[0m\u001b[0;34m@\u001b[0m\u001b[0;31m`\u001b[0m \u001b[0moperator\u001b[0m \u001b[0;32min\u001b[0m \u001b[0mPython\u001b[0m\u001b[0;34m>=\u001b[0m\u001b[0;36m3.5\u001b[0m\u001b[0;34m.\u001b[0m\u001b[0;34m\u001b[0m\u001b[0;34m\u001b[0m\u001b[0m\n\u001b[1;32m   3001\u001b[0m         \"\"\"\n\u001b[0;32m-> 3002\u001b[0;31m         \u001b[0;32mreturn\u001b[0m \u001b[0mself\u001b[0m\u001b[0;34m.\u001b[0m\u001b[0mdot\u001b[0m\u001b[0;34m(\u001b[0m\u001b[0mother\u001b[0m\u001b[0;34m)\u001b[0m\u001b[0;34m\u001b[0m\u001b[0;34m\u001b[0m\u001b[0m\n\u001b[0m\u001b[1;32m   3003\u001b[0m \u001b[0;34m\u001b[0m\u001b[0m\n\u001b[1;32m   3004\u001b[0m     \u001b[0;32mdef\u001b[0m \u001b[0m__rmatmul__\u001b[0m\u001b[0;34m(\u001b[0m\u001b[0mself\u001b[0m\u001b[0;34m,\u001b[0m \u001b[0mother\u001b[0m\u001b[0;34m)\u001b[0m\u001b[0;34m:\u001b[0m\u001b[0;34m\u001b[0m\u001b[0;34m\u001b[0m\u001b[0m\n",
            "\u001b[0;32m/usr/local/lib/python3.10/dist-packages/pandas/core/series.py\u001b[0m in \u001b[0;36mdot\u001b[0;34m(self, other)\u001b[0m\n\u001b[1;32m   2980\u001b[0m             \u001b[0mlvals\u001b[0m \u001b[0;34m=\u001b[0m \u001b[0mself\u001b[0m\u001b[0;34m.\u001b[0m\u001b[0mvalues\u001b[0m\u001b[0;34m\u001b[0m\u001b[0;34m\u001b[0m\u001b[0m\n\u001b[1;32m   2981\u001b[0m             \u001b[0mrvals\u001b[0m \u001b[0;34m=\u001b[0m \u001b[0mnp\u001b[0m\u001b[0;34m.\u001b[0m\u001b[0masarray\u001b[0m\u001b[0;34m(\u001b[0m\u001b[0mother\u001b[0m\u001b[0;34m)\u001b[0m\u001b[0;34m\u001b[0m\u001b[0;34m\u001b[0m\u001b[0m\n\u001b[0;32m-> 2982\u001b[0;31m             \u001b[0;32mif\u001b[0m \u001b[0mlvals\u001b[0m\u001b[0;34m.\u001b[0m\u001b[0mshape\u001b[0m\u001b[0;34m[\u001b[0m\u001b[0;36m0\u001b[0m\u001b[0;34m]\u001b[0m \u001b[0;34m!=\u001b[0m \u001b[0mrvals\u001b[0m\u001b[0;34m.\u001b[0m\u001b[0mshape\u001b[0m\u001b[0;34m[\u001b[0m\u001b[0;36m0\u001b[0m\u001b[0;34m]\u001b[0m\u001b[0;34m:\u001b[0m\u001b[0;34m\u001b[0m\u001b[0;34m\u001b[0m\u001b[0m\n\u001b[0m\u001b[1;32m   2983\u001b[0m                 raise Exception(\n\u001b[1;32m   2984\u001b[0m                     \u001b[0;34mf\"Dot product shape mismatch, {lvals.shape} vs {rvals.shape}\"\u001b[0m\u001b[0;34m\u001b[0m\u001b[0;34m\u001b[0m\u001b[0m\n",
            "\u001b[0;31mIndexError\u001b[0m: tuple index out of range"
          ]
        }
      ]
    },
    {
      "cell_type": "code",
      "source": [
        "import numpy as np\n",
        "import cvxpy as cp\n",
        "\n",
        "# Ensure mean_returns is a numpy array and correctly shaped\n",
        "mean_returns_array = np.array(mean_returns.values).flatten()  # Use flatten to ensure it is a proper 1D array\n",
        "\n",
        "# Define the number of assets based on the length of mean_returns\n",
        "n_assets = len(mean_returns_array)\n",
        "\n",
        "# Define weights as a CVXPY variable\n",
        "weights = cp.Variable(n_assets)\n",
        "\n",
        "# Calculate the portfolio's expected return\n",
        "portfolio_return = mean_returns_array @ weights  # Dot product between a 1D numpy array and CVXPY variable\n",
        "\n"
      ],
      "metadata": {
        "id": "sTm3aAYZfEzH"
      },
      "execution_count": null,
      "outputs": []
    },
    {
      "cell_type": "code",
      "source": [
        "print(\"mean_returns_array shape:\", mean_returns_array.shape)\n",
        "print(portfolio_return)\n"
      ],
      "metadata": {
        "colab": {
          "base_uri": "https://localhost:8080/"
        },
        "id": "teVKtsC5fZYe",
        "outputId": "77cba45f-9339-4433-bf9b-c2ba038db1d3"
      },
      "execution_count": null,
      "outputs": [
        {
          "output_type": "stream",
          "name": "stdout",
          "text": [
            "mean_returns_array shape: (19,)\n",
            "[-1.30320045e-04  4.13606954e-04  1.40245096e-03 -1.88067560e-04\n",
            "  3.51640188e-04 -1.28674868e-05 -3.40319492e-04 -8.02774752e-05\n",
            "  5.84196533e-04  7.02960809e-04 -6.79032163e-05  4.22165578e-04\n",
            "  7.92113155e-05 -7.15627597e-05  1.30284996e-05  5.11028533e-04\n",
            "  7.04669201e-04  4.38304581e-04 -6.89295628e-04] @ var125\n"
          ]
        }
      ]
    },
    {
      "cell_type": "code",
      "source": [
        "# Define the portfolio's risk (variance)\n",
        "portfolio_risk = cp.quad_form(weights, cov_matrix)\n",
        "\n",
        "# Set a risk-free rate and a maximum risk threshold\n",
        "risk_free_rate = 0.08\n",
        "max_risk = 1\n",
        "\n",
        "# Objective: Maximize the expected return (adjusted for risk-free rate)\n",
        "objective = cp.Maximize(portfolio_return - risk_free_rate)\n",
        "\n",
        "# Constraints include: weights sum to 1, non-negative weights, and a cap on variance\n",
        "constraints = [cp.sum(weights) == 1, weights >= 0, portfolio_risk <= max_risk]\n",
        "\n",
        "# Setup and solve the optimization problem using CVXPY\n",
        "problem = cp.Problem(objective, constraints)\n",
        "problem.solve()\n",
        "\n",
        "# Output the results\n",
        "if problem.status in [cp.OPTIMAL, cp.OPTIMAL_INACCURATE]:\n",
        "    optimal_weights = weights.value\n",
        "    print(\"Optimal Portfolio Weights:\\n\", optimal_weights)\n",
        "    print(\"Expected Portfolio Return:\", portfolio_return.value)\n",
        "    print(\"Portfolio Risk (Variance):\", portfolio_risk.value)\n",
        "else:\n",
        "    print(\"Problem Status:\", problem.status)\n"
      ],
      "metadata": {
        "colab": {
          "base_uri": "https://localhost:8080/"
        },
        "id": "bWV7V9mdfeRo",
        "outputId": "513debe7-50b1-4c76-f0d8-3184f89db0cc"
      },
      "execution_count": null,
      "outputs": [
        {
          "output_type": "stream",
          "name": "stdout",
          "text": [
            "Optimal Portfolio Weights:\n",
            " [7.39686077e-08 9.99364049e-08 9.99998332e-01 7.24095259e-08\n",
            " 9.64064331e-08 8.98566545e-08 6.75986687e-08 7.50803934e-08\n",
            " 1.16577082e-07 1.36985133e-07 7.61586572e-08 1.01039735e-07\n",
            " 8.14017629e-08 7.50862223e-08 7.86204710e-08 1.08288997e-07\n",
            " 1.37025242e-07 1.02321744e-07 7.96024450e-08]\n",
            "Expected Portfolio Return: 0.0014024489863722588\n",
            "Portfolio Risk (Variance): 0.0006248047233768029\n"
          ]
        }
      ]
    },
    {
      "cell_type": "code",
      "source": [
        "import pandas as pd\n",
        "import numpy as np\n",
        "import matplotlib.pyplot as plt\n",
        "import seaborn as sns\n",
        "\n",
        "# Asset names (assuming you have 19 assets)\n",
        "assets = ['Asset{}'.format(i+1) for i in range(n_assets)]\n",
        "\n",
        "# Create a DataFrame for the visualization\n",
        "portfolio_df = pd.DataFrame({\n",
        "    'Assets': assets,\n",
        "    'Weights': optimal_weights,\n",
        "    'Return Contribution': optimal_weights * mean_returns_array,\n",
        "    'Risk Contribution': optimal_weights * np.diag(cov_matrix)  # This approximates individual risk contributions\n",
        "})\n",
        "\n",
        "# Display the DataFrame\n",
        "print(portfolio_df)\n"
      ],
      "metadata": {
        "colab": {
          "base_uri": "https://localhost:8080/"
        },
        "id": "qexzs4xwgCFf",
        "outputId": "ed10d98e-faa7-40a3-b711-31fed5091d59"
      },
      "execution_count": null,
      "outputs": [
        {
          "output_type": "stream",
          "name": "stdout",
          "text": [
            "     Assets       Weights  Return Contribution  Risk Contribution\n",
            "0    Asset1  7.396861e-08        -9.639592e-12       1.477608e-11\n",
            "1    Asset2  9.993640e-08         4.133439e-11       2.363907e-11\n",
            "2    Asset3  9.999983e-01         1.402449e-03       6.248057e-04\n",
            "3    Asset4  7.240953e-08        -1.361788e-11       1.524186e-11\n",
            "4    Asset5  9.640643e-08         3.390038e-11       1.018432e-11\n",
            "5    Asset6  8.985665e-08        -1.156229e-12       3.876646e-11\n",
            "6    Asset7  6.759867e-08        -2.300514e-11       8.871857e-12\n",
            "7    Asset8  7.508039e-08        -6.027264e-12       6.982684e-12\n",
            "8    Asset9  1.165771e-07         6.810393e-11       2.008176e-11\n",
            "9   Asset10  1.369851e-07         9.629518e-11       2.586024e-11\n",
            "10  Asset11  7.615866e-08        -5.171418e-12       1.996979e-11\n",
            "11  Asset12  1.010397e-07         4.265550e-11       1.539792e-11\n",
            "12  Asset13  8.140176e-08         6.447941e-12       1.371903e-11\n",
            "13  Asset14  7.508622e-08        -5.373377e-12       2.075086e-12\n",
            "14  Asset15  7.862047e-08         1.024307e-12       6.141485e-12\n",
            "15  Asset16  1.082890e-07         5.533877e-11       2.446887e-11\n",
            "16  Asset17  1.370252e-07         9.655747e-11       3.657147e-11\n",
            "17  Asset18  1.023217e-07         4.484809e-11       1.710613e-11\n",
            "18  Asset19  7.960245e-08        -5.486962e-11       2.282949e-11\n"
          ]
        }
      ]
    },
    {
      "cell_type": "code",
      "source": [
        "plt.figure(figsize=(14, 7))\n",
        "sns.barplot(x='Assets', y='Weights', data=portfolio_df)\n",
        "plt.title('Portfolio Weights Distribution')\n",
        "plt.ylabel('Weight')\n",
        "plt.xlabel('Assets')\n",
        "plt.xticks(rotation=45)\n",
        "plt.show()\n"
      ],
      "metadata": {
        "colab": {
          "base_uri": "https://localhost:8080/",
          "height": 553
        },
        "id": "AL37achSgF90",
        "outputId": "ac577f22-c8bb-47ff-a201-4d055dfc9846"
      },
      "execution_count": null,
      "outputs": [
        {
          "output_type": "display_data",
          "data": {
            "text/plain": [
              "<Figure size 1400x700 with 1 Axes>"
            ],
            "image/png": "[encoded data removed]"
          },
          "metadata": {}
        }
      ]
    },
    {
      "cell_type": "code",
      "source": [
        "plt.figure(figsize=(10, 6))\n",
        "sns.scatterplot(x='Risk Contribution', y='Return Contribution', hue='Assets', data=portfolio_df, s=100)\n",
        "plt.title('Risk vs. Return Contribution by Asset')\n",
        "plt.xlabel('Risk Contribution')\n",
        "plt.ylabel('Return Contribution')\n",
        "plt.grid(True)\n",
        "plt.legend(title='Assets', bbox_to_anchor=(1.05, 1), loc='upper left')\n",
        "plt.show()\n"
      ],
      "metadata": {
        "colab": {
          "base_uri": "https://localhost:8080/",
          "height": 520
        },
        "id": "i6bMUtY5gsh4",
        "outputId": "4aa49bc0-7d4f-44cc-d93e-80b91072a328"
      },
      "execution_count": null,
      "outputs": [
        {
          "output_type": "display_data",
          "data": {
            "text/plain": [
              "<Figure size 1000x600 with 1 Axes>"
            ],
            "image/png": "[encoded data removed]"
          },
          "metadata": {}
        }
      ]
    },
    {
      "cell_type": "code",
      "source": [
        "import cvxpy as cp\n",
        "import numpy as np\n",
        "\n",
        "# Number of assets\n",
        "n_assets = len(mean_returns)\n",
        "\n",
        "# Optimization variables (portfolio weights)\n",
        "weights = cp.Variable(n_assets)\n",
        "\n",
        "# Objective: Maximize the portfolio's expected return for a given level of risk\n",
        "# Here, we'll minimize the portfolio variance\n",
        "risk_free_rate = 0.01  # assuming a risk-free rate\n",
        "portfolio_return = mean_returns.T @ weights\n",
        "portfolio_risk = cp.quad_form(weights, cov_matrix)\n",
        "\n",
        "# We'll use the Sharpe ratio as our objective\n",
        "sharpe_ratio = (portfolio_return - risk_free_rate) / cp.sqrt(portfolio_risk)\n",
        "objective = cp.Maximize(sharpe_ratio)\n",
        "\n",
        "# Constraints: weights sum to 1 and no short selling\n",
        "constraints = [cp.sum(weights) == 1, weights >= 0]\n",
        "\n",
        "# Solve the optimization problem\n",
        "problem = cp.Problem(objective, constraints)\n",
        "problem.solve()\n",
        "\n",
        "# Get the optimal weights\n",
        "optimal_weights = weights.value\n",
        "\n",
        "# Display the optimal portfolio weights\n",
        "print(\"Optimal Portfolio Weights:\\n\", optimal_weights)\n"
      ],
      "metadata": {
        "colab": {
          "base_uri": "https://localhost:8080/",
          "height": 356
        },
        "id": "UTGd-yiFcFCX",
        "outputId": "f2c22d71-2f14-483a-e8aa-2d13097b8b59"
      },
      "execution_count": null,
      "outputs": [
        {
          "output_type": "error",
          "ename": "IndexError",
          "evalue": "tuple index out of range",
          "traceback": [
            "\u001b[0;31m---------------------------------------------------------------------------\u001b[0m",
            "\u001b[0;31mIndexError\u001b[0m                                Traceback (most recent call last)",
            "\u001b[0;32m<ipython-input-14-9601c45a3911>\u001b[0m in \u001b[0;36m<cell line: 13>\u001b[0;34m()\u001b[0m\n\u001b[1;32m     11\u001b[0m \u001b[0;31m# Here, we'll minimize the portfolio variance\u001b[0m\u001b[0;34m\u001b[0m\u001b[0;34m\u001b[0m\u001b[0m\n\u001b[1;32m     12\u001b[0m \u001b[0mrisk_free_rate\u001b[0m \u001b[0;34m=\u001b[0m \u001b[0;36m0.01\u001b[0m  \u001b[0;31m# assuming a risk-free rate\u001b[0m\u001b[0;34m\u001b[0m\u001b[0;34m\u001b[0m\u001b[0m\n\u001b[0;32m---> 13\u001b[0;31m \u001b[0mportfolio_return\u001b[0m \u001b[0;34m=\u001b[0m \u001b[0mmean_returns\u001b[0m\u001b[0;34m.\u001b[0m\u001b[0mT\u001b[0m \u001b[0;34m@\u001b[0m \u001b[0mweights\u001b[0m\u001b[0;34m\u001b[0m\u001b[0;34m\u001b[0m\u001b[0m\n\u001b[0m\u001b[1;32m     14\u001b[0m \u001b[0mportfolio_risk\u001b[0m \u001b[0;34m=\u001b[0m \u001b[0mcp\u001b[0m\u001b[0;34m.\u001b[0m\u001b[0mquad_form\u001b[0m\u001b[0;34m(\u001b[0m\u001b[0mweights\u001b[0m\u001b[0;34m,\u001b[0m \u001b[0mcov_matrix\u001b[0m\u001b[0;34m)\u001b[0m\u001b[0;34m\u001b[0m\u001b[0;34m\u001b[0m\u001b[0m\n\u001b[1;32m     15\u001b[0m \u001b[0;34m\u001b[0m\u001b[0m\n",
            "\u001b[0;32m/usr/local/lib/python3.10/dist-packages/pandas/core/series.py\u001b[0m in \u001b[0;36m__matmul__\u001b[0;34m(self, other)\u001b[0m\n\u001b[1;32m   3000\u001b[0m         \u001b[0mMatrix\u001b[0m \u001b[0mmultiplication\u001b[0m \u001b[0musing\u001b[0m \u001b[0mbinary\u001b[0m\u001b[0;31m \u001b[0m\u001b[0;31m`\u001b[0m\u001b[0;34m@\u001b[0m\u001b[0;31m`\u001b[0m \u001b[0moperator\u001b[0m \u001b[0;32min\u001b[0m \u001b[0mPython\u001b[0m\u001b[0;34m>=\u001b[0m\u001b[0;36m3.5\u001b[0m\u001b[0;34m.\u001b[0m\u001b[0;34m\u001b[0m\u001b[0;34m\u001b[0m\u001b[0m\n\u001b[1;32m   3001\u001b[0m         \"\"\"\n\u001b[0;32m-> 3002\u001b[0;31m         \u001b[0;32mreturn\u001b[0m \u001b[0mself\u001b[0m\u001b[0;34m.\u001b[0m\u001b[0mdot\u001b[0m\u001b[0;34m(\u001b[0m\u001b[0mother\u001b[0m\u001b[0;34m)\u001b[0m\u001b[0;34m\u001b[0m\u001b[0;34m\u001b[0m\u001b[0m\n\u001b[0m\u001b[1;32m   3003\u001b[0m \u001b[0;34m\u001b[0m\u001b[0m\n\u001b[1;32m   3004\u001b[0m     \u001b[0;32mdef\u001b[0m \u001b[0m__rmatmul__\u001b[0m\u001b[0;34m(\u001b[0m\u001b[0mself\u001b[0m\u001b[0;34m,\u001b[0m \u001b[0mother\u001b[0m\u001b[0;34m)\u001b[0m\u001b[0;34m:\u001b[0m\u001b[0;34m\u001b[0m\u001b[0;34m\u001b[0m\u001b[0m\n",
            "\u001b[0;32m/usr/local/lib/python3.10/dist-packages/pandas/core/series.py\u001b[0m in \u001b[0;36mdot\u001b[0;34m(self, other)\u001b[0m\n\u001b[1;32m   2980\u001b[0m             \u001b[0mlvals\u001b[0m \u001b[0;34m=\u001b[0m \u001b[0mself\u001b[0m\u001b[0;34m.\u001b[0m\u001b[0mvalues\u001b[0m\u001b[0;34m\u001b[0m\u001b[0;34m\u001b[0m\u001b[0m\n\u001b[1;32m   2981\u001b[0m             \u001b[0mrvals\u001b[0m \u001b[0;34m=\u001b[0m \u001b[0mnp\u001b[0m\u001b[0;34m.\u001b[0m\u001b[0masarray\u001b[0m\u001b[0;34m(\u001b[0m\u001b[0mother\u001b[0m\u001b[0;34m)\u001b[0m\u001b[0;34m\u001b[0m\u001b[0;34m\u001b[0m\u001b[0m\n\u001b[0;32m-> 2982\u001b[0;31m             \u001b[0;32mif\u001b[0m \u001b[0mlvals\u001b[0m\u001b[0;34m.\u001b[0m\u001b[0mshape\u001b[0m\u001b[0;34m[\u001b[0m\u001b[0;36m0\u001b[0m\u001b[0;34m]\u001b[0m \u001b[0;34m!=\u001b[0m \u001b[0mrvals\u001b[0m\u001b[0;34m.\u001b[0m\u001b[0mshape\u001b[0m\u001b[0;34m[\u001b[0m\u001b[0;36m0\u001b[0m\u001b[0;34m]\u001b[0m\u001b[0;34m:\u001b[0m\u001b[0;34m\u001b[0m\u001b[0;34m\u001b[0m\u001b[0m\n\u001b[0m\u001b[1;32m   2983\u001b[0m                 raise Exception(\n\u001b[1;32m   2984\u001b[0m                     \u001b[0;34mf\"Dot product shape mismatch, {lvals.shape} vs {rvals.shape}\"\u001b[0m\u001b[0;34m\u001b[0m\u001b[0;34m\u001b[0m\u001b[0m\n",
            "\u001b[0;31mIndexError\u001b[0m: tuple index out of range"
          ]
        }
      ]
    }
  ]
}